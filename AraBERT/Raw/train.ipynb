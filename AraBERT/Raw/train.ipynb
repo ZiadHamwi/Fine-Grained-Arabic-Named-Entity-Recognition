{
 "cells": [
  {
   "cell_type": "code",
   "execution_count": null,
   "id": "3feacb10",
   "metadata": {
    "tags": []
   },
   "outputs": [],
   "source": [
    "!pip install seqeval"
   ]
  },
  {
   "cell_type": "code",
   "execution_count": null,
   "id": "ee189cf6-698f-4ec8-9aaf-7c58c0f1a8f9",
   "metadata": {
    "tags": []
   },
   "outputs": [],
   "source": [
    "!pip install arabert"
   ]
  },
  {
   "cell_type": "code",
   "execution_count": 1,
   "id": "512e06e4",
   "metadata": {
    "tags": []
   },
   "outputs": [
    {
     "name": "stderr",
     "output_type": "stream",
     "text": [
      "/home/mke37/.local/lib/python3.10/site-packages/pandas/core/arrays/masked.py:60: UserWarning: Pandas requires version '1.3.6' or newer of 'bottleneck' (version '1.3.5' currently installed).\n",
      "  from pandas.core import (\n",
      "2024-06-12 12:12:15.522756: E external/local_xla/xla/stream_executor/cuda/cuda_dnn.cc:9261] Unable to register cuDNN factory: Attempting to register factory for plugin cuDNN when one has already been registered\n",
      "2024-06-12 12:12:15.522904: E external/local_xla/xla/stream_executor/cuda/cuda_fft.cc:607] Unable to register cuFFT factory: Attempting to register factory for plugin cuFFT when one has already been registered\n",
      "2024-06-12 12:12:15.525175: E external/local_xla/xla/stream_executor/cuda/cuda_blas.cc:1515] Unable to register cuBLAS factory: Attempting to register factory for plugin cuBLAS when one has already been registered\n",
      "2024-06-12 12:12:15.551022: I tensorflow/core/platform/cpu_feature_guard.cc:182] This TensorFlow binary is optimized to use available CPU instructions in performance-critical operations.\n",
      "To enable the following instructions: AVX2 FMA, in other operations, rebuild TensorFlow with the appropriate compiler flags.\n",
      "2024-06-12 12:12:23.518967: W tensorflow/compiler/tf2tensorrt/utils/py_utils.cc:38] TF-TRT Warning: Could not find TensorRT\n"
     ]
    }
   ],
   "source": [
    "from preprocess import NERDataset\n",
    "from cleaning import DataReader\n",
    "import numpy as np\n",
    "from utils import compute_metrics, get_label_map, get_inv_label_map, read_labels\n",
    "from tqdm.notebook import tqdm\n",
    "from sklearn.model_selection import train_test_split\n",
    "from transformers import AutoTokenizer, BertForTokenClassification, AdamW, get_linear_schedule_with_warmup\n",
    "from torch.utils.data import DataLoader\n",
    "import torch\n",
    "from torch import nn\n",
    "from config import Config\n",
    "import dill"
   ]
  },
  {
   "cell_type": "code",
   "execution_count": 2,
   "id": "a7d4105e-9e04-4c2c-bfe7-ee87ccf74d56",
   "metadata": {
    "tags": []
   },
   "outputs": [
    {
     "name": "stdout",
     "output_type": "stream",
     "text": [
      "Data: 27268 , Sentences: 27268 , Tags: 27268\n",
      "Data: 856 , Sentences: 856 , Tags: 856\n"
     ]
    },
    {
     "name": "stderr",
     "output_type": "stream",
     "text": [
      "Some weights of BertForTokenClassification were not initialized from the model checkpoint at aubmindlab/bert-base-arabertv02 and are newly initialized: ['classifier.bias', 'classifier.weight']\n",
      "You should probably TRAIN this model on a down-stream task to be able to use it for predictions and inference.\n"
     ]
    },
    {
     "name": "stdout",
     "output_type": "stream",
     "text": [
      "Training Epoch: 1\n"
     ]
    },
    {
     "name": "stderr",
     "output_type": "stream",
     "text": [
      "/apps/sw/miniconda/envs/transformers-r1/lib/python3.10/site-packages/transformers/optimization.py:411: FutureWarning: This implementation of AdamW is deprecated and will be removed in a future version. Use the PyTorch implementation torch.optim.AdamW instead, or set `no_deprecation_warning=True` to disable this warning\n",
      "  warnings.warn(\n"
     ]
    },
    {
     "data": {
      "application/vnd.jupyter.widget-view+json": {
       "model_id": "8266b48964004305905680c1251edb7f",
       "version_major": 2,
       "version_minor": 0
      },
      "text/plain": [
       "  0%|          | 0/1705 [00:00<?, ?it/s]"
      ]
     },
     "metadata": {},
     "output_type": "display_data"
    },
    {
     "name": "stdout",
     "output_type": "stream",
     "text": [
      "Train loss: 0.25565278703166594\n",
      "Evaluating Epoch: 1\n"
     ]
    },
    {
     "data": {
      "application/vnd.jupyter.widget-view+json": {
       "model_id": "2de728ddab48412baf8f5038bb6d79cb",
       "version_major": 2,
       "version_minor": 0
      },
      "text/plain": [
       "  0%|          | 0/54 [00:00<?, ?it/s]"
      ]
     },
     "metadata": {},
     "output_type": "display_data"
    },
    {
     "name": "stderr",
     "output_type": "stream",
     "text": [
      "/home/mke37/.local/lib/python3.10/site-packages/seqeval/metrics/sequence_labeling.py:171: UserWarning: OUTSIDE seems not to be NE tag.\n",
      "  warnings.warn('{} seems not to be NE tag.'.format(chunk))\n"
     ]
    },
    {
     "name": "stdout",
     "output_type": "stream",
     "text": [
      "Eval loss: 0.6241424347584447\n",
      "Eval Metrics: {'accuracy_score': 0.8629716981132075, 'precision': 0.6913229018492176, 'recall': 0.2109375, 'f1': 0.3232457598935817}\n",
      "Training Epoch: 2\n"
     ]
    },
    {
     "data": {
      "application/vnd.jupyter.widget-view+json": {
       "model_id": "89e5cacb0b1443088b88f6201a5a2586",
       "version_major": 2,
       "version_minor": 0
      },
      "text/plain": [
       "  0%|          | 0/1705 [00:00<?, ?it/s]"
      ]
     },
     "metadata": {},
     "output_type": "display_data"
    },
    {
     "name": "stdout",
     "output_type": "stream",
     "text": [
      "Train loss: 0.15984513775781453\n",
      "Evaluating Epoch: 2\n"
     ]
    },
    {
     "data": {
      "application/vnd.jupyter.widget-view+json": {
       "model_id": "e8e91d19089b48e09e8bf0dc12facd65",
       "version_major": 2,
       "version_minor": 0
      },
      "text/plain": [
       "  0%|          | 0/54 [00:00<?, ?it/s]"
      ]
     },
     "metadata": {},
     "output_type": "display_data"
    },
    {
     "name": "stdout",
     "output_type": "stream",
     "text": [
      "Eval loss: 0.5225715895390345\n",
      "Eval Metrics: {'accuracy_score': 0.882688679245283, 'precision': 0.636290967226219, 'recall': 0.3454861111111111, 'f1': 0.4478199718706048}\n",
      "Training Epoch: 3\n"
     ]
    },
    {
     "data": {
      "application/vnd.jupyter.widget-view+json": {
       "model_id": "0591fc060b4840f1a511f38883dc12d2",
       "version_major": 2,
       "version_minor": 0
      },
      "text/plain": [
       "  0%|          | 0/1705 [00:00<?, ?it/s]"
      ]
     },
     "metadata": {},
     "output_type": "display_data"
    },
    {
     "name": "stdout",
     "output_type": "stream",
     "text": [
      "Train loss: 0.13180156476424237\n",
      "Evaluating Epoch: 3\n"
     ]
    },
    {
     "data": {
      "application/vnd.jupyter.widget-view+json": {
       "model_id": "bc26cd98fb244f5aa2d7e922fc1c7246",
       "version_major": 2,
       "version_minor": 0
      },
      "text/plain": [
       "  0%|          | 0/54 [00:00<?, ?it/s]"
      ]
     },
     "metadata": {},
     "output_type": "display_data"
    },
    {
     "name": "stdout",
     "output_type": "stream",
     "text": [
      "Eval loss: 0.5988952554762363\n",
      "Eval Metrics: {'accuracy_score': 0.8829716981132075, 'precision': 0.6262626262626263, 'recall': 0.3767361111111111, 'f1': 0.47046070460704603}\n",
      "Training Epoch: 4\n"
     ]
    },
    {
     "data": {
      "application/vnd.jupyter.widget-view+json": {
       "model_id": "436ebf6fbcf647ee92a156b1e340c84f",
       "version_major": 2,
       "version_minor": 0
      },
      "text/plain": [
       "  0%|          | 0/1705 [00:00<?, ?it/s]"
      ]
     },
     "metadata": {},
     "output_type": "display_data"
    },
    {
     "name": "stdout",
     "output_type": "stream",
     "text": [
      "Train loss: 0.11361750074910804\n",
      "Evaluating Epoch: 4\n"
     ]
    },
    {
     "data": {
      "application/vnd.jupyter.widget-view+json": {
       "model_id": "3c6191e748ed492fbd14d73665196f1d",
       "version_major": 2,
       "version_minor": 0
      },
      "text/plain": [
       "  0%|          | 0/54 [00:00<?, ?it/s]"
      ]
     },
     "metadata": {},
     "output_type": "display_data"
    },
    {
     "name": "stdout",
     "output_type": "stream",
     "text": [
      "Eval loss: 0.6375154807508268\n",
      "Eval Metrics: {'accuracy_score': 0.8843867924528301, 'precision': 0.6308243727598566, 'recall': 0.3819444444444444, 'f1': 0.4758042714247093}\n",
      "Training Epoch: 5\n"
     ]
    },
    {
     "data": {
      "application/vnd.jupyter.widget-view+json": {
       "model_id": "7665f66ff6584205ad5fdcb99a4820ce",
       "version_major": 2,
       "version_minor": 0
      },
      "text/plain": [
       "  0%|          | 0/1705 [00:00<?, ?it/s]"
      ]
     },
     "metadata": {},
     "output_type": "display_data"
    },
    {
     "name": "stdout",
     "output_type": "stream",
     "text": [
      "Train loss: 0.09921180142138886\n",
      "Evaluating Epoch: 5\n"
     ]
    },
    {
     "data": {
      "application/vnd.jupyter.widget-view+json": {
       "model_id": "07d4b921bbf04d8582ac8ec816daf3cf",
       "version_major": 2,
       "version_minor": 0
      },
      "text/plain": [
       "  0%|          | 0/54 [00:00<?, ?it/s]"
      ]
     },
     "metadata": {},
     "output_type": "display_data"
    },
    {
     "name": "stdout",
     "output_type": "stream",
     "text": [
      "Eval loss: 0.7659042167856738\n",
      "Eval Metrics: {'accuracy_score': 0.8824056603773585, 'precision': 0.6526994359387591, 'recall': 0.3515625, 'f1': 0.456981664315938}\n",
      "Training Epoch: 6\n"
     ]
    },
    {
     "data": {
      "application/vnd.jupyter.widget-view+json": {
       "model_id": "e846f8fe192f4ffd818dcadf6c8ccfb9",
       "version_major": 2,
       "version_minor": 0
      },
      "text/plain": [
       "  0%|          | 0/1705 [00:00<?, ?it/s]"
      ]
     },
     "metadata": {},
     "output_type": "display_data"
    },
    {
     "name": "stdout",
     "output_type": "stream",
     "text": [
      "Train loss: 0.08974516779686874\n",
      "Evaluating Epoch: 6\n"
     ]
    },
    {
     "data": {
      "application/vnd.jupyter.widget-view+json": {
       "model_id": "21caa8086bdd489199494811d2c7c780",
       "version_major": 2,
       "version_minor": 0
      },
      "text/plain": [
       "  0%|          | 0/54 [00:00<?, ?it/s]"
      ]
     },
     "metadata": {},
     "output_type": "display_data"
    },
    {
     "name": "stdout",
     "output_type": "stream",
     "text": [
      "Eval loss: 0.8623304644220129\n",
      "Eval Metrics: {'accuracy_score': 0.8736320754716981, 'precision': 0.6412639405204461, 'recall': 0.2994791666666667, 'f1': 0.40828402366863903}\n",
      "Training Epoch: 7\n"
     ]
    },
    {
     "data": {
      "application/vnd.jupyter.widget-view+json": {
       "model_id": "3d75c6bc68fc4feebcca0c76b4163a1b",
       "version_major": 2,
       "version_minor": 0
      },
      "text/plain": [
       "  0%|          | 0/1705 [00:00<?, ?it/s]"
      ]
     },
     "metadata": {},
     "output_type": "display_data"
    },
    {
     "name": "stdout",
     "output_type": "stream",
     "text": [
      "Train loss: 0.0805683888795395\n",
      "Evaluating Epoch: 7\n"
     ]
    },
    {
     "data": {
      "application/vnd.jupyter.widget-view+json": {
       "model_id": "3af84b8e3c38442996747c2d3633c32d",
       "version_major": 2,
       "version_minor": 0
      },
      "text/plain": [
       "  0%|          | 0/54 [00:00<?, ?it/s]"
      ]
     },
     "metadata": {},
     "output_type": "display_data"
    },
    {
     "name": "stdout",
     "output_type": "stream",
     "text": [
      "Eval loss: 0.9009396765657045\n",
      "Eval Metrics: {'accuracy_score': 0.877311320754717, 'precision': 0.6457627118644068, 'recall': 0.3307291666666667, 'f1': 0.4374282433983927}\n",
      "Training Epoch: 8\n"
     ]
    },
    {
     "data": {
      "application/vnd.jupyter.widget-view+json": {
       "model_id": "ec26d22f290d4f57aef3415fb3db82f2",
       "version_major": 2,
       "version_minor": 0
      },
      "text/plain": [
       "  0%|          | 0/1705 [00:00<?, ?it/s]"
      ]
     },
     "metadata": {},
     "output_type": "display_data"
    },
    {
     "name": "stdout",
     "output_type": "stream",
     "text": [
      "Train loss: 0.07387912622748538\n",
      "Evaluating Epoch: 8\n"
     ]
    },
    {
     "data": {
      "application/vnd.jupyter.widget-view+json": {
       "model_id": "e24a5e27d6cc4c8086c3817681160930",
       "version_major": 2,
       "version_minor": 0
      },
      "text/plain": [
       "  0%|          | 0/54 [00:00<?, ?it/s]"
      ]
     },
     "metadata": {},
     "output_type": "display_data"
    },
    {
     "name": "stdout",
     "output_type": "stream",
     "text": [
      "Eval loss: 0.8979252271216225\n",
      "Eval Metrics: {'accuracy_score': 0.8793396226415094, 'precision': 0.6406639004149378, 'recall': 0.3350694444444444, 'f1': 0.4400113992590482}\n",
      "Training Epoch: 9\n"
     ]
    },
    {
     "data": {
      "application/vnd.jupyter.widget-view+json": {
       "model_id": "b63c4b283c6f4aeda931f3d7c4986b2d",
       "version_major": 2,
       "version_minor": 0
      },
      "text/plain": [
       "  0%|          | 0/1705 [00:00<?, ?it/s]"
      ]
     },
     "metadata": {},
     "output_type": "display_data"
    },
    {
     "name": "stdout",
     "output_type": "stream",
     "text": [
      "Train loss: 0.06732628600196668\n",
      "Evaluating Epoch: 9\n"
     ]
    },
    {
     "data": {
      "application/vnd.jupyter.widget-view+json": {
       "model_id": "cb9e13905ae2488a92fc165c37fb189c",
       "version_major": 2,
       "version_minor": 0
      },
      "text/plain": [
       "  0%|          | 0/54 [00:00<?, ?it/s]"
      ]
     },
     "metadata": {},
     "output_type": "display_data"
    },
    {
     "name": "stdout",
     "output_type": "stream",
     "text": [
      "Eval loss: 1.0265820781113926\n",
      "Eval Metrics: {'accuracy_score': 0.8785849056603774, 'precision': 0.6466165413533834, 'recall': 0.3359375, 'f1': 0.442159383033419}\n",
      "Training Epoch: 10\n"
     ]
    },
    {
     "data": {
      "application/vnd.jupyter.widget-view+json": {
       "model_id": "2cb298e3a8ee4e3fa51244987a453435",
       "version_major": 2,
       "version_minor": 0
      },
      "text/plain": [
       "  0%|          | 0/1705 [00:00<?, ?it/s]"
      ]
     },
     "metadata": {},
     "output_type": "display_data"
    },
    {
     "name": "stdout",
     "output_type": "stream",
     "text": [
      "Train loss: 0.06251011343230425\n",
      "Evaluating Epoch: 10\n"
     ]
    },
    {
     "data": {
      "application/vnd.jupyter.widget-view+json": {
       "model_id": "ea1c2e09ceee44679b32c7270425f078",
       "version_major": 2,
       "version_minor": 0
      },
      "text/plain": [
       "  0%|          | 0/54 [00:00<?, ?it/s]"
      ]
     },
     "metadata": {},
     "output_type": "display_data"
    },
    {
     "name": "stdout",
     "output_type": "stream",
     "text": [
      "Eval loss: 1.0380753763709907\n",
      "Eval Metrics: {'accuracy_score': 0.8798584905660377, 'precision': 0.6451349141455437, 'recall': 0.3424479166666667, 'f1': 0.4474057272469521}\n",
      "Training Epoch: 11\n"
     ]
    },
    {
     "data": {
      "application/vnd.jupyter.widget-view+json": {
       "model_id": "ddeafbf4677b42b2ac0258c1ca352308",
       "version_major": 2,
       "version_minor": 0
      },
      "text/plain": [
       "  0%|          | 0/1705 [00:00<?, ?it/s]"
      ]
     },
     "metadata": {},
     "output_type": "display_data"
    },
    {
     "name": "stdout",
     "output_type": "stream",
     "text": [
      "Train loss: 0.058093534229743865\n",
      "Evaluating Epoch: 11\n"
     ]
    },
    {
     "data": {
      "application/vnd.jupyter.widget-view+json": {
       "model_id": "b11724ba85f2443dadf8521a3f3543b5",
       "version_major": 2,
       "version_minor": 0
      },
      "text/plain": [
       "  0%|          | 0/54 [00:00<?, ?it/s]"
      ]
     },
     "metadata": {},
     "output_type": "display_data"
    },
    {
     "name": "stdout",
     "output_type": "stream",
     "text": [
      "Eval loss: 1.0720968949436038\n",
      "Eval Metrics: {'accuracy_score': 0.8760849056603773, 'precision': 0.6476014760147601, 'recall': 0.3046875, 'f1': 0.41440377804014167}\n",
      "Training Epoch: 12\n"
     ]
    },
    {
     "data": {
      "application/vnd.jupyter.widget-view+json": {
       "model_id": "3bf734c13290409b8ac7d439d5a38905",
       "version_major": 2,
       "version_minor": 0
      },
      "text/plain": [
       "  0%|          | 0/1705 [00:00<?, ?it/s]"
      ]
     },
     "metadata": {},
     "output_type": "display_data"
    },
    {
     "name": "stdout",
     "output_type": "stream",
     "text": [
      "Train loss: 0.05480133936306205\n",
      "Evaluating Epoch: 12\n"
     ]
    },
    {
     "data": {
      "application/vnd.jupyter.widget-view+json": {
       "model_id": "8c0fb72a701e477eb63f6bee52d05fae",
       "version_major": 2,
       "version_minor": 0
      },
      "text/plain": [
       "  0%|          | 0/54 [00:00<?, ?it/s]"
      ]
     },
     "metadata": {},
     "output_type": "display_data"
    },
    {
     "name": "stdout",
     "output_type": "stream",
     "text": [
      "Eval loss: 1.1104016184323915\n",
      "Eval Metrics: {'accuracy_score': 0.8773584905660378, 'precision': 0.6615798922800719, 'recall': 0.3198784722222222, 'f1': 0.4312463428905793}\n",
      "Training Epoch: 13\n"
     ]
    },
    {
     "data": {
      "application/vnd.jupyter.widget-view+json": {
       "model_id": "1d2f3e3284944924a06669f6122ff15d",
       "version_major": 2,
       "version_minor": 0
      },
      "text/plain": [
       "  0%|          | 0/1705 [00:00<?, ?it/s]"
      ]
     },
     "metadata": {},
     "output_type": "display_data"
    },
    {
     "name": "stdout",
     "output_type": "stream",
     "text": [
      "Train loss: 0.051467800753387756\n",
      "Evaluating Epoch: 13\n"
     ]
    },
    {
     "data": {
      "application/vnd.jupyter.widget-view+json": {
       "model_id": "64d3bcd784574b1db3ac778fdd90c0a4",
       "version_major": 2,
       "version_minor": 0
      },
      "text/plain": [
       "  0%|          | 0/54 [00:00<?, ?it/s]"
      ]
     },
     "metadata": {},
     "output_type": "display_data"
    },
    {
     "name": "stdout",
     "output_type": "stream",
     "text": [
      "Eval loss: 1.1733827760650053\n",
      "Eval Metrics: {'accuracy_score': 0.8769811320754717, 'precision': 0.6393728222996515, 'recall': 0.3185763888888889, 'f1': 0.425260718424102}\n",
      "Training Epoch: 14\n"
     ]
    },
    {
     "data": {
      "application/vnd.jupyter.widget-view+json": {
       "model_id": "6b59e44459fc433ea65e45f35d4cb098",
       "version_major": 2,
       "version_minor": 0
      },
      "text/plain": [
       "  0%|          | 0/1705 [00:00<?, ?it/s]"
      ]
     },
     "metadata": {},
     "output_type": "display_data"
    },
    {
     "name": "stdout",
     "output_type": "stream",
     "text": [
      "Train loss: 0.04846560056444225\n",
      "Evaluating Epoch: 14\n"
     ]
    },
    {
     "data": {
      "application/vnd.jupyter.widget-view+json": {
       "model_id": "308328c2b2bb4130921b07aea5f360dd",
       "version_major": 2,
       "version_minor": 0
      },
      "text/plain": [
       "  0%|          | 0/54 [00:00<?, ?it/s]"
      ]
     },
     "metadata": {},
     "output_type": "display_data"
    },
    {
     "name": "stdout",
     "output_type": "stream",
     "text": [
      "Eval loss: 1.1343377257386844\n",
      "Eval Metrics: {'accuracy_score': 0.8814150943396226, 'precision': 0.6334106728538283, 'recall': 0.35546875, 'f1': 0.4553794829024187}\n",
      "Training Epoch: 15\n"
     ]
    },
    {
     "data": {
      "application/vnd.jupyter.widget-view+json": {
       "model_id": "343f528e7dad46618026373440976012",
       "version_major": 2,
       "version_minor": 0
      },
      "text/plain": [
       "  0%|          | 0/1705 [00:00<?, ?it/s]"
      ]
     },
     "metadata": {},
     "output_type": "display_data"
    },
    {
     "name": "stdout",
     "output_type": "stream",
     "text": [
      "Train loss: 0.046630166362304666\n",
      "Evaluating Epoch: 15\n"
     ]
    },
    {
     "data": {
      "application/vnd.jupyter.widget-view+json": {
       "model_id": "f5c97cbe37ef47ee8fe8693247acf07d",
       "version_major": 2,
       "version_minor": 0
      },
      "text/plain": [
       "  0%|          | 0/54 [00:00<?, ?it/s]"
      ]
     },
     "metadata": {},
     "output_type": "display_data"
    },
    {
     "name": "stdout",
     "output_type": "stream",
     "text": [
      "Eval loss: 1.2256761291236788\n",
      "Eval Metrics: {'accuracy_score': 0.8772641509433963, 'precision': 0.6532534246575342, 'recall': 0.3311631944444444, 'f1': 0.439516129032258}\n",
      "Training Epoch: 16\n"
     ]
    },
    {
     "data": {
      "application/vnd.jupyter.widget-view+json": {
       "model_id": "5b925c4c603b4120ab5c22a46607e54b",
       "version_major": 2,
       "version_minor": 0
      },
      "text/plain": [
       "  0%|          | 0/1705 [00:00<?, ?it/s]"
      ]
     },
     "metadata": {},
     "output_type": "display_data"
    },
    {
     "name": "stdout",
     "output_type": "stream",
     "text": [
      "Train loss: 0.04471928303121778\n",
      "Evaluating Epoch: 16\n"
     ]
    },
    {
     "data": {
      "application/vnd.jupyter.widget-view+json": {
       "model_id": "3f2c67da5cda40a4a0a2e5b1280800ce",
       "version_major": 2,
       "version_minor": 0
      },
      "text/plain": [
       "  0%|          | 0/54 [00:00<?, ?it/s]"
      ]
     },
     "metadata": {},
     "output_type": "display_data"
    },
    {
     "name": "stdout",
     "output_type": "stream",
     "text": [
      "Eval loss: 1.2451434881874808\n",
      "Eval Metrics: {'accuracy_score': 0.8767924528301887, 'precision': 0.6462346760070052, 'recall': 0.3203125, 'f1': 0.428322692977365}\n",
      "Training Epoch: 17\n"
     ]
    },
    {
     "data": {
      "application/vnd.jupyter.widget-view+json": {
       "model_id": "8cd7a985fac54b40af5aabc5d0c78fd8",
       "version_major": 2,
       "version_minor": 0
      },
      "text/plain": [
       "  0%|          | 0/1705 [00:00<?, ?it/s]"
      ]
     },
     "metadata": {},
     "output_type": "display_data"
    },
    {
     "name": "stdout",
     "output_type": "stream",
     "text": [
      "Train loss: 0.04280979700844504\n",
      "Evaluating Epoch: 17\n"
     ]
    },
    {
     "data": {
      "application/vnd.jupyter.widget-view+json": {
       "model_id": "c86bdc21413e403db05d7d400ebedf60",
       "version_major": 2,
       "version_minor": 0
      },
      "text/plain": [
       "  0%|          | 0/54 [00:00<?, ?it/s]"
      ]
     },
     "metadata": {},
     "output_type": "display_data"
    },
    {
     "name": "stdout",
     "output_type": "stream",
     "text": [
      "Eval loss: 1.2969638413439195\n",
      "Eval Metrics: {'accuracy_score': 0.8777830188679245, 'precision': 0.6397941680960549, 'recall': 0.3237847222222222, 'f1': 0.429971181556196}\n",
      "Training Epoch: 18\n"
     ]
    },
    {
     "data": {
      "application/vnd.jupyter.widget-view+json": {
       "model_id": "b02436afe1b1415da92e37bc03d03559",
       "version_major": 2,
       "version_minor": 0
      },
      "text/plain": [
       "  0%|          | 0/1705 [00:00<?, ?it/s]"
      ]
     },
     "metadata": {},
     "output_type": "display_data"
    },
    {
     "name": "stdout",
     "output_type": "stream",
     "text": [
      "Train loss: 0.04138206051583361\n",
      "Evaluating Epoch: 18\n"
     ]
    },
    {
     "data": {
      "application/vnd.jupyter.widget-view+json": {
       "model_id": "5e82d74abfc9448e94a217cb70fbdbd4",
       "version_major": 2,
       "version_minor": 0
      },
      "text/plain": [
       "  0%|          | 0/54 [00:00<?, ?it/s]"
      ]
     },
     "metadata": {},
     "output_type": "display_data"
    },
    {
     "name": "stdout",
     "output_type": "stream",
     "text": [
      "Eval loss: 1.2718904809681353\n",
      "Eval Metrics: {'accuracy_score': 0.8784433962264151, 'precision': 0.654639175257732, 'recall': 0.3307291666666667, 'f1': 0.439446366782007}\n",
      "Training Epoch: 19\n"
     ]
    },
    {
     "data": {
      "application/vnd.jupyter.widget-view+json": {
       "model_id": "d84660adffe54c3f8eccb04c726bef8a",
       "version_major": 2,
       "version_minor": 0
      },
      "text/plain": [
       "  0%|          | 0/1705 [00:00<?, ?it/s]"
      ]
     },
     "metadata": {},
     "output_type": "display_data"
    },
    {
     "name": "stdout",
     "output_type": "stream",
     "text": [
      "Train loss: 0.03971532835144429\n",
      "Evaluating Epoch: 19\n"
     ]
    },
    {
     "data": {
      "application/vnd.jupyter.widget-view+json": {
       "model_id": "c1d4f670fd814a649eff2496235474a5",
       "version_major": 2,
       "version_minor": 0
      },
      "text/plain": [
       "  0%|          | 0/54 [00:00<?, ?it/s]"
      ]
     },
     "metadata": {},
     "output_type": "display_data"
    },
    {
     "name": "stdout",
     "output_type": "stream",
     "text": [
      "Eval loss: 1.3284340656741902\n",
      "Eval Metrics: {'accuracy_score': 0.8776415094339622, 'precision': 0.6581722319859402, 'recall': 0.3250868055555556, 'f1': 0.4352120859965137}\n",
      "Training Epoch: 20\n"
     ]
    },
    {
     "data": {
      "application/vnd.jupyter.widget-view+json": {
       "model_id": "6e7e232424924431a2914f2d863e84c9",
       "version_major": 2,
       "version_minor": 0
      },
      "text/plain": [
       "  0%|          | 0/1705 [00:00<?, ?it/s]"
      ]
     },
     "metadata": {},
     "output_type": "display_data"
    },
    {
     "name": "stdout",
     "output_type": "stream",
     "text": [
      "Train loss: 0.03827919815059293\n",
      "Evaluating Epoch: 20\n"
     ]
    },
    {
     "data": {
      "application/vnd.jupyter.widget-view+json": {
       "model_id": "09c4d3c630a445bb8534dd87273b8ce0",
       "version_major": 2,
       "version_minor": 0
      },
      "text/plain": [
       "  0%|          | 0/54 [00:00<?, ?it/s]"
      ]
     },
     "metadata": {},
     "output_type": "display_data"
    },
    {
     "name": "stdout",
     "output_type": "stream",
     "text": [
      "Eval loss: 1.3608575689571876\n",
      "Eval Metrics: {'accuracy_score': 0.8776415094339622, 'precision': 0.6572687224669603, 'recall': 0.3237847222222222, 'f1': 0.43384704856062806}\n"
     ]
    }
   ],
   "source": [
    "class NERTrainer:\n",
    "    def __init__(self, test_dataset_path):\n",
    "        self.cfg = Config()\n",
    "        self.data_reader = DataReader(\"TrainingData.txt\")\n",
    "        self.data, _, _ = self.data_reader.read_data_bert()\n",
    "        self.label_list = read_labels('NewEntities.txt')\n",
    "\n",
    "        self.label_map = get_label_map(self.label_list)\n",
    "        self.inv_label_map = get_inv_label_map(self.label_list)\n",
    "\n",
    "        # Load the test dataset\n",
    "        self.test_data_reader = DataReader(test_dataset_path)\n",
    "        self.test_data, _, _ = self.test_data_reader.read_data_bert()\n",
    "\n",
    "        self.TOKENIZER = AutoTokenizer.from_pretrained(self.cfg.MODEL_NAME)\n",
    "\n",
    "        self.train_dataset = NERDataset(\n",
    "            texts=[x[0] for x in self.data],\n",
    "            tags=[x[1] for x in self.data],\n",
    "            label_list=self.label_list,\n",
    "            model_name=self.cfg.MODEL_NAME,\n",
    "            max_length=self.cfg.MAX_LEN\n",
    "        )\n",
    "\n",
    "        self.test_dataset = NERDataset(\n",
    "            texts=[x[0] for x in self.test_data],\n",
    "            tags=[x[1] for x in self.test_data],\n",
    "            label_list=self.label_list,\n",
    "            model_name=self.cfg.MODEL_NAME,\n",
    "            max_length=self.cfg.MAX_LEN\n",
    "        )\n",
    "\n",
    "        self.train_data_loader = DataLoader(dataset=self.train_dataset, batch_size=self.cfg.TRAIN_BATCH_SIZE, shuffle=True)\n",
    "        self.test_data_loader = DataLoader(dataset=self.test_dataset, batch_size=self.cfg.VALID_BATCH_SIZE, shuffle=False)\n",
    "\n",
    "        self.model = BertForTokenClassification.from_pretrained(self.cfg.MODEL_NAME,\n",
    "                                                                return_dict=True,\n",
    "                                                                num_labels=len(self.label_map),\n",
    "                                                                output_attentions=False,\n",
    "                                                                output_hidden_states=False).to(self.cfg.device)\n",
    "\n",
    "        self.optimizer = AdamW(self.model.parameters(), lr=5e-5, correct_bias=False)\n",
    "        total_steps = len(self.train_data_loader) * self.cfg.EPOCHS\n",
    "\n",
    "        self.scheduler = get_linear_schedule_with_warmup(\n",
    "            self.optimizer,\n",
    "            num_warmup_steps=0,\n",
    "            num_training_steps=total_steps\n",
    "        )\n",
    "\n",
    "        self.best_eval_loss = float('inf')\n",
    "        self.best_model = None\n",
    "\n",
    "    def train_epoch(self):\n",
    "        self.model.train()\n",
    "        final_loss = 0\n",
    "\n",
    "        for data in tqdm(self.train_data_loader, total=len(self.train_data_loader)):\n",
    "            input_ids = data['input_ids'].to(self.cfg.device)\n",
    "            attention_mask = data['attention_mask'].to(self.cfg.device)\n",
    "            token_type_ids = data['token_type_ids'].to(self.cfg.device)\n",
    "            labels = data['labels'].to(self.cfg.device)\n",
    "\n",
    "            self.optimizer.zero_grad()\n",
    "            outputs = self.model(input_ids=input_ids,\n",
    "                                 token_type_ids=token_type_ids,\n",
    "                                 attention_mask=attention_mask,\n",
    "                                 labels=labels)\n",
    "\n",
    "            loss = outputs.loss\n",
    "            loss.backward()\n",
    "            nn.utils.clip_grad_norm_(self.model.parameters(), max_norm=1.0)\n",
    "            self.optimizer.step()\n",
    "            self.scheduler.step()\n",
    "            final_loss += loss.item()\n",
    "\n",
    "        loss = final_loss / len(self.train_data_loader)\n",
    "        print(f\"Train loss: {loss}\")\n",
    "\n",
    "        return loss\n",
    "\n",
    "    def eval_epoch(self):\n",
    "        self.model.eval()\n",
    "        final_loss = 0\n",
    "        all_labels = []\n",
    "        all_preds = []\n",
    "\n",
    "        with torch.no_grad():\n",
    "            for data in tqdm(self.test_data_loader, total=len(self.test_data_loader)):\n",
    "                input_ids = data['input_ids'].to(self.cfg.device)\n",
    "                attention_mask = data['attention_mask'].to(self.cfg.device)\n",
    "                token_type_ids = data['token_type_ids'].to(self.cfg.device)\n",
    "                labels = data['labels'].to(self.cfg.device)\n",
    "\n",
    "                outputs = self.model(input_ids=input_ids,\n",
    "                                     token_type_ids=token_type_ids,\n",
    "                                     attention_mask=attention_mask,\n",
    "                                     labels=labels)\n",
    "\n",
    "                loss = outputs.loss\n",
    "                final_loss += loss.item()\n",
    "\n",
    "                logits = outputs.logits.detach().cpu().numpy()\n",
    "                labels = labels.to('cpu').numpy()\n",
    "\n",
    "                all_preds.extend(logits)\n",
    "                all_labels.extend(labels)\n",
    "\n",
    "        all_preds = np.array(all_preds)\n",
    "        all_labels = np.asarray(all_labels)\n",
    "\n",
    "        metrics = compute_metrics(all_preds, all_labels, self.inv_label_map, False)\n",
    "        final_loss = final_loss / len(self.test_data_loader)\n",
    "\n",
    "        print(f\"Eval loss: {final_loss}\")\n",
    "        print(f\"Eval Metrics: {metrics}\")\n",
    "\n",
    "        return final_loss, metrics\n",
    "\n",
    "    def train(self):\n",
    "        for epoch in range(self.cfg.EPOCHS):\n",
    "            print(f\"Training Epoch: {epoch + 1}\")\n",
    "            self.train_epoch()\n",
    "\n",
    "            print(f\"Evaluating Epoch: {epoch + 1}\")\n",
    "            eval_loss, _ = self.eval_epoch()\n",
    "\n",
    "            if eval_loss < self.best_eval_loss:\n",
    "                self.best_eval_loss = eval_loss\n",
    "                self.best_model = self.model.state_dict()\n",
    "                torch.save(self.best_model, \"JuneModel.pt\")\n",
    "\n",
    "\n",
    "if __name__ == '__main__':\n",
    "    test_dataset_path = \"TestingData.txt\"\n",
    "    ner_trainer = NERTrainer(test_dataset_path)\n",
    "    ner_trainer.train()\n"
   ]
  }
 ],
 "metadata": {
  "kernelspec": {
   "display_name": "Python 3 (ipykernel)",
   "language": "python",
   "name": "python3"
  },
  "language_info": {
   "codemirror_mode": {
    "name": "ipython",
    "version": 3
   },
   "file_extension": ".py",
   "mimetype": "text/x-python",
   "name": "python",
   "nbconvert_exporter": "python",
   "pygments_lexer": "ipython3",
   "version": "3.10.13"
  }
 },
 "nbformat": 4,
 "nbformat_minor": 5
}
