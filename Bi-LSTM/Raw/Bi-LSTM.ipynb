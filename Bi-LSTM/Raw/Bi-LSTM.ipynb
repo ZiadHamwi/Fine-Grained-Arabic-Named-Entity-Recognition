{
 "cells": [
  {
   "cell_type": "markdown",
   "metadata": {
    "id": "my-OZcz4xWQX"
   },
   "source": [
    "# Fine-grained Arabic Named Entity Recognition"
   ]
  },
  {
   "cell_type": "markdown",
   "metadata": {
    "id": "F8nXayYu4WMD"
   },
   "source": [
    "# Bi-LSTM Model"
   ]
  },
  {
   "cell_type": "markdown",
   "metadata": {},
   "source": [
    "# Load Notebook Environment\n",
    "Load the pretrained kernel and environment without having to rerun all cells."
   ]
  },
  {
   "cell_type": "code",
   "execution_count": null,
   "metadata": {},
   "outputs": [],
   "source": [
    "import dill\n",
    "dill.load_session('notebookWorking_env.db')"
   ]
  },
  {
   "cell_type": "markdown",
   "metadata": {
    "id": "lFaFF_co8F-T"
   },
   "source": [
    "# Import Libraries"
   ]
  },
  {
   "cell_type": "code",
   "execution_count": null,
   "metadata": {
    "id": "-LJ4x35Sr_lA"
   },
   "outputs": [],
   "source": [
    "# Import the Abstract Syntax Tree (ast) module for parsing Python code\n",
    "import ast\n",
    "\n",
    "# Import the NumPy library and alias it as np\n",
    "import numpy as np\n",
    "\n",
    "# Import the codecs module for handling different character encodings\n",
    "import codecs\n",
    "\n",
    "# Import the train_test_split function from scikit-learn for splitting data into training and testing sets\n",
    "from sklearn.model_selection import train_test_split\n",
    "\n",
    "# Import the Sequential model and various layers from Keras for building neural networks\n",
    "from keras.models import Sequential\n",
    "from keras.layers import InputLayer, Embedding, LSTM, Dense, Activation\n",
    "\n",
    "# Import the Adam optimizer from Keras for training neural networks\n",
    "from keras.optimizers import Adam\n",
    "\n",
    "# Import the pad_sequences function for padding sequences in Keras\n",
    "from keras.preprocessing.sequence import pad_sequences\n",
    "\n",
    "# Import the to_categorical function from Keras for one-hot encoding categorical variables\n",
    "from keras.utils import to_categorical"
   ]
  },
  {
   "cell_type": "markdown",
   "metadata": {
    "id": "-r37g1Y_xze3"
   },
   "source": [
    "# Read/Processes Training Data"
   ]
  },
  {
   "cell_type": "code",
   "execution_count": 2,
   "metadata": {},
   "outputs": [
    {
     "name": "stdout",
     "output_type": "stream",
     "text": [
      "DONE!\n"
     ]
    }
   ],
   "source": [
    "sentences = []\n",
    "labels = []\n",
    "\n",
    "curr_sentence = []\n",
    "curr_labels = []\n",
    "final_lines = []\n",
    "final = \"\"\n",
    "with open(\"/Users/ziadhamwi/Desktop/TeacherStudent/TrainingData.txt\", \"r\") as file:\n",
    "    for line in file:\n",
    "        if line != \"\\n\":\n",
    "            label, word = line.split()[:2]\n",
    "            \n",
    "            final_lines.append(f\"{label} {word}\\n\")\n",
    "            \n",
    "            curr_sentence.append(word)\n",
    "            curr_labels.append(label)\n",
    "        else:\n",
    "            final_lines.append(\"\\n\")\n",
    "            sentences.append(curr_sentence)\n",
    "            labels.append(curr_labels)\n",
    "            curr_sentence = []\n",
    "            curr_labels = []\n",
    "            \n",
    "final = \"\".join(final_lines)\n",
    "\n",
    "print(\"DONE!\")\n"
   ]
  },
  {
   "cell_type": "code",
   "execution_count": 3,
   "metadata": {},
   "outputs": [
    {
     "name": "stdout",
     "output_type": "stream",
     "text": [
      "9735011\n"
     ]
    }
   ],
   "source": [
    "print(len(final))"
   ]
  },
  {
   "cell_type": "code",
   "execution_count": 4,
   "metadata": {},
   "outputs": [
    {
     "name": "stdout",
     "output_type": "stream",
     "text": [
      "Done!\n"
     ]
    }
   ],
   "source": [
    "new_format = []\n",
    "sentence = []\n",
    "\n",
    "output2023 = [\"[\"]\n",
    "lines = final.split('\\n')\n",
    "drop = len(final.split('\\n'))\n",
    "\n",
    "for i in range(drop):\n",
    "    curr_line = lines[i]\n",
    "    if len(curr_line) != 0:\n",
    "        parts = curr_line.split()\n",
    "        subentity = parts[0]\n",
    "        word = parts[1]\n",
    "\n",
    "        if word != \".\":\n",
    "            output2023.append(f\"('{word}', '{subentity}')\")\n",
    "            if i != drop-1:  \n",
    "                output2023.append(\", \")\n",
    "        else:\n",
    "            output2023.append(\"('.', 'OUTSIDE')]\\n[\")\n",
    "            \n",
    "if output2023[-1] == \"[\":\n",
    "    output2023.pop()\n",
    "else:\n",
    "    if output2023[-1] == \", \":\n",
    "        output2023.pop()\n",
    "\n",
    "output2023.append(\"]\")\n",
    "\n",
    "output2023 = \"\".join(output2023)\n",
    "\n",
    "\n",
    "print(\"Done!\")\n"
   ]
  },
  {
   "cell_type": "code",
   "execution_count": 5,
   "metadata": {},
   "outputs": [
    {
     "name": "stdout",
     "output_type": "stream",
     "text": [
      "27200\n"
     ]
    }
   ],
   "source": [
    "training_sentences = []\n",
    "for line in output2023[:-3].split(\"\\n\"):\n",
    "    training_sentences.append(line+\"\\n\")\n",
    "    \n",
    "print(len(training_sentences))\n"
   ]
  },
  {
   "cell_type": "markdown",
   "metadata": {
    "id": "-r37g1Y_xze3"
   },
   "source": [
    "# Read/Processes Testing Data"
   ]
  },
  {
   "cell_type": "code",
   "execution_count": 6,
   "metadata": {},
   "outputs": [
    {
     "name": "stdout",
     "output_type": "stream",
     "text": [
      "DONE!\n"
     ]
    }
   ],
   "source": [
    "sentences = []\n",
    "labels = []\n",
    "\n",
    "curr_sentence = []\n",
    "curr_labels = []\n",
    "final_lines = []\n",
    "final = \"\"\n",
    "with open(\"/Users/ziadhamwi/Desktop/TeacherStudent/TestingData.txt\", \"r\") as file:\n",
    "    for line in file:\n",
    "        if line != \"\\n\":\n",
    "            label, word = line.split()[:2]\n",
    "            \n",
    "            final_lines.append(f\"{label} {word}\\n\")\n",
    "            \n",
    "            curr_sentence.append(word)\n",
    "            curr_labels.append(label)\n",
    "        else:\n",
    "            final_lines.append(\"\\n\")\n",
    "            sentences.append(curr_sentence)\n",
    "            labels.append(curr_labels)\n",
    "            curr_sentence = []\n",
    "            curr_labels = []\n",
    "            \n",
    "final = \"\".join(final_lines)\n",
    "\n",
    "print(\"DONE!\")\n"
   ]
  },
  {
   "cell_type": "code",
   "execution_count": 7,
   "metadata": {},
   "outputs": [
    {
     "name": "stdout",
     "output_type": "stream",
     "text": [
      "306023\n"
     ]
    }
   ],
   "source": [
    "print(len(final))"
   ]
  },
  {
   "cell_type": "code",
   "execution_count": 8,
   "metadata": {},
   "outputs": [
    {
     "name": "stdout",
     "output_type": "stream",
     "text": [
      "Done!\n"
     ]
    }
   ],
   "source": [
    "new_format = []\n",
    "sentence = []\n",
    "\n",
    "output2023 = [\"[\"]\n",
    "lines = final.split('\\n')\n",
    "drop = len(final.split('\\n'))\n",
    "\n",
    "for i in range(drop):\n",
    "    curr_line = lines[i]\n",
    "    if len(curr_line) != 0:\n",
    "        parts = curr_line.split()\n",
    "        subentity = parts[0]\n",
    "        word = parts[1]\n",
    "\n",
    "        if word != \".\":\n",
    "            output2023.append(f\"('{word}', '{subentity}')\")\n",
    "            if i != drop-1:\n",
    "                output2023.append(\", \")\n",
    "        else:\n",
    "            output2023.append(\"('.', 'OUTSIDE')]\\n[\")\n",
    "            \n",
    "if output2023[-1] == \"[\":\n",
    "    output2023.pop()\n",
    "else:\n",
    "    if output2023[-1] == \", \":\n",
    "        output2023.pop()\n",
    "\n",
    "output2023.append(\"]\")\n",
    "\n",
    "output2023 = \"\".join(output2023)\n",
    "\n",
    "\n",
    "print(\"Done!\")\n"
   ]
  },
  {
   "cell_type": "code",
   "execution_count": 9,
   "metadata": {},
   "outputs": [
    {
     "name": "stdout",
     "output_type": "stream",
     "text": [
      "856\n"
     ]
    }
   ],
   "source": [
    "testing_sentences = []\n",
    "for line in output2023[:-3].split(\"\\n\"):\n",
    "    testing_sentences.append(line+\"\\n\")\n",
    "    \n",
    "print(len(testing_sentences))\n"
   ]
  },
  {
   "cell_type": "markdown",
   "metadata": {
    "id": "PVD03_nLyH4Y"
   },
   "source": [
    "# Preview data"
   ]
  },
  {
   "cell_type": "code",
   "execution_count": 10,
   "metadata": {
    "colab": {
     "base_uri": "https://localhost:8080/"
    },
    "id": "hHLkX_Rl81XM",
    "outputId": "682645da-ed59-4a15-a2d9-9c7ac8058c73",
    "scrolled": true
   },
   "outputs": [
    {
     "name": "stdout",
     "output_type": "stream",
     "text": [
      "\n",
      "\n",
      "Training Set\n",
      "[('إنجلترا', 'B-Country'), ('أو', 'OUTSIDE'), ('إنكلترا', 'B-Country'), ('أو', 'OUTSIDE'), ('إنكلترة', 'B-Country'), ('بالإنجليزية', 'B-Language'), ('إنگلاند', 'OUTSIDE'), ('هي', 'OUTSIDE'), ('أكبر', 'OUTSIDE'), ('دولة', 'OUTSIDE'), ('في', 'OUTSIDE'), ('المملكة', 'B-Country'), ('المتحدة', 'I-Country'), ('وتشترك', 'OUTSIDE'), ('في', 'OUTSIDE'), ('الحدود', 'OUTSIDE'), ('البرية', 'OUTSIDE'), ('مع', 'OUTSIDE'), ('اسكتلندا', 'B-Country'), ('في', 'OUTSIDE'), ('الشمال', 'OUTSIDE'), ('وويلز', 'OUTSIDE'), ('في', 'OUTSIDE'), ('الغرب', 'OUTSIDE'), ('والبحر', 'B-Body_Of_Water'), ('الأيرلندي', 'I-Body_Of_Water'), ('في', 'OUTSIDE'), ('الشمال', 'OUTSIDE'), ('الغربي', 'OUTSIDE'), ('وبحر', 'B-Body_Of_Water'), ('الكلت', 'I-Body_Of_Water'), ('في', 'OUTSIDE'), ('الجنوب', 'OUTSIDE'), ('الغربي', 'OUTSIDE'), ('وبحر', 'OUTSIDE'), ('الشمال', 'OUTSIDE'), ('في', 'OUTSIDE'), ('الشرق', 'OUTSIDE'), ('وتفصلها', 'OUTSIDE'), ('القناة', 'OUTSIDE'), ('الإنجليزية', 'OUTSIDE'), ('عن', 'OUTSIDE'), ('القارة', 'OUTSIDE'), ('الأوروبية', 'OUTSIDE'), ('جنوبا', 'OUTSIDE'), ('.', 'OUTSIDE')]\n",
      "\n",
      "[('ويتكون', 'OUTSIDE'), ('البر', 'OUTSIDE'), ('الرئيسي', 'OUTSIDE'), ('من', 'OUTSIDE'), ('إنجلترا', 'B-Country'), ('من', 'OUTSIDE'), ('الأجزاء', 'OUTSIDE'), ('الوسطى', 'OUTSIDE'), ('والجنوبية', 'OUTSIDE'), ('من', 'OUTSIDE'), ('جزيرة', 'OUTSIDE'), ('بريطانيا', 'B-Country'), ('العظمى', 'I-Country'), ('في', 'OUTSIDE'), ('شمال', 'OUTSIDE'), ('المحيط', 'B-Body_Of_Water'), ('الأطلسي', 'I-Body_Of_Water'), ('كما', 'OUTSIDE'), ('تشمل', 'OUTSIDE'), ('أيضا', 'OUTSIDE'), ('أكثر', 'OUTSIDE'), ('من', 'OUTSIDE'), ('100', 'OUTSIDE'), ('جزيرة', 'OUTSIDE'), ('صغيرة', 'OUTSIDE'), ('مثل', 'OUTSIDE'), ('جزر', 'OUTSIDE'), ('سيلي', 'B-Island'), ('وجزيرة', 'OUTSIDE'), ('وايت', 'B-Island'), ('.', 'OUTSIDE')]\n",
      "\n",
      "[('استوطن', 'OUTSIDE'), ('الإنسان', 'OUTSIDE'), ('المنطقة', 'OUTSIDE'), ('المعروفة', 'OUTSIDE'), ('الآن', 'OUTSIDE'), ('باسم', 'OUTSIDE'), ('إنجلترا', 'B-Country'), ('أول', 'OUTSIDE'), ('مرة', 'OUTSIDE'), ('في', 'OUTSIDE'), ('فترة', 'OUTSIDE'), ('العصر', 'OUTSIDE'), ('الحجري', 'OUTSIDE'), ('القديم', 'OUTSIDE'), ('ويعود', 'OUTSIDE'), ('أصل', 'OUTSIDE'), ('كلمة', 'OUTSIDE'), ('إنجلترا', 'B-Country'), ('إلى', 'OUTSIDE'), ('الأنجلز', 'OUTSIDE'), ('وهي', 'OUTSIDE'), ('إحدى', 'OUTSIDE'), ('قبائل', 'OUTSIDE'), ('الجرمان', 'OUTSIDE'), ('التي', 'OUTSIDE'), ('استقرت', 'OUTSIDE'), ('خلال', 'OUTSIDE'), ('القرن', 'OUTSIDE'), ('الخامس', 'OUTSIDE'), ('والسادس', 'OUTSIDE'), ('الميلادي', 'OUTSIDE'), ('.', 'OUTSIDE')]\n",
      "\n",
      "[('أصبحت', 'OUTSIDE'), ('إنجلترا', 'B-Country'), ('دولة', 'OUTSIDE'), ('موحدة', 'OUTSIDE'), ('سنة', 'OUTSIDE'), ('927', 'OUTSIDE'), ('ميلادية', 'OUTSIDE'), ('ومنذ', 'OUTSIDE'), ('عصر', 'OUTSIDE'), ('الاستكشاف', 'OUTSIDE'), ('الذي', 'OUTSIDE'), ('بدأ', 'OUTSIDE'), ('في', 'OUTSIDE'), ('القرن', 'OUTSIDE'), ('الخامس', 'OUTSIDE'), ('عشر', 'OUTSIDE'), ('أخذ', 'OUTSIDE'), ('تأثيرها', 'OUTSIDE'), ('الثقافي', 'OUTSIDE'), ('والقانوني', 'OUTSIDE'), ('يمتد', 'OUTSIDE'), ('وينتشر', 'OUTSIDE'), ('شيئا', 'OUTSIDE'), ('فشيئا', 'OUTSIDE'), ('عبر', 'OUTSIDE'), ('العالم', 'OUTSIDE'), ('بأكمله', 'OUTSIDE'), ('.', 'OUTSIDE')]\n",
      "\n",
      "[('حيث', 'OUTSIDE'), ('نشأت', 'OUTSIDE'), ('فيها', 'OUTSIDE'), ('اللغة', 'OUTSIDE'), ('الإنجليزية', 'B-Language'), ('والكنيسة', 'B-Religion'), ('الأنجليكانية', 'I-Religion'), ('والقانون', 'OUTSIDE'), ('الإنجليزي', 'OUTSIDE'), ('وهو', 'OUTSIDE'), ('أساس', 'OUTSIDE'), ('النظام', 'OUTSIDE'), ('التشريعي', 'OUTSIDE'), ('للقانون', 'OUTSIDE'), ('العام', 'OUTSIDE'), ('في', 'OUTSIDE'), ('عديد', 'OUTSIDE'), ('من', 'OUTSIDE'), ('الدول', 'OUTSIDE'), ('حول', 'OUTSIDE'), ('العالم', 'OUTSIDE'), ('كما', 'OUTSIDE'), ('أن', 'OUTSIDE'), ('نظامها', 'OUTSIDE'), ('البرلماني', 'OUTSIDE'), ('والحكومي', 'OUTSIDE'), ('مقبول', 'OUTSIDE'), ('به', 'OUTSIDE'), ('على', 'OUTSIDE'), ('نطاق', 'OUTSIDE'), ('واسع', 'OUTSIDE'), ('من', 'OUTSIDE'), ('الدول', 'OUTSIDE'), ('الأخرى', 'OUTSIDE'), ('.', 'OUTSIDE')]\n",
      "\n",
      "\n",
      "\n",
      "Testing Set\n",
      "[('ثنائي', 'B-Chemical_Thing'), ('أكسيد', 'I-Chemical_Thing'), ('الكربون', 'I-Chemical_Thing'), ('أو', 'OUTSIDE'), ('كما', 'OUTSIDE'), ('يعرف', 'OUTSIDE'), ('بالاسم', 'OUTSIDE'), ('الشائع', 'OUTSIDE'), ('ثاني', 'B-Chemical_Thing'), ('أكسيد', 'I-Chemical_Thing'), ('الكربون', 'I-Chemical_Thing'), ('هو', 'OUTSIDE'), ('مركب', 'B-Chemical_Thing'), ('كيميائي', 'I-Chemical_Thing'), ('من', 'OUTSIDE'), ('الأكسجين', 'B-Chemical_Thing'), ('الكربون', 'B-Chemical_Thing'), ('له', 'OUTSIDE'), ('الصيغة', 'OUTSIDE'), ('الكيميائية', 'OUTSIDE'), ('2', 'OUTSIDE'), ('.', 'OUTSIDE')]\n",
      "\n",
      "[('عند', 'OUTSIDE'), ('ظروف', 'OUTSIDE'), ('الضغط', 'OUTSIDE'), ('والحرارة', 'OUTSIDE'), ('القياسيتين', 'OUTSIDE'), ('يكون', 'OUTSIDE'), ('ثنائي', 'B-Chemical_Thing'), ('أكسيد', 'I-Chemical_Thing'), ('الكربون', 'I-Chemical_Thing'), ('على', 'OUTSIDE'), ('شكل', 'OUTSIDE'), ('غاز', 'B-Chemical_Thing'), ('عديم', 'OUTSIDE'), ('اللون', 'OUTSIDE'), ('والرائحة', 'OUTSIDE'), ('وهو', 'OUTSIDE'), ('غير', 'OUTSIDE'), ('قابل', 'OUTSIDE'), ('للاشتعال', 'OUTSIDE'), ('وله', 'OUTSIDE'), ('صفة', 'OUTSIDE'), ('حمضية', 'OUTSIDE'), ('كما', 'OUTSIDE'), ('أنه', 'OUTSIDE'), ('سهل', 'OUTSIDE'), ('الانحلال', 'OUTSIDE'), ('في', 'OUTSIDE'), ('الماء', 'OUTSIDE'), ('.', 'OUTSIDE')]\n",
      "\n",
      "[('يشكل', 'OUTSIDE'), ('غاز', 'B-Chemical_Thing'), ('2', 'OUTSIDE'), ('ما', 'OUTSIDE'), ('متوسطه', 'OUTSIDE'), ('0.040', 'OUTSIDE'), ('من', 'OUTSIDE'), ('حجم', 'OUTSIDE'), ('الغلاف', 'OUTSIDE'), ('الجوي', 'OUTSIDE'), ('أي', 'OUTSIDE'), ('ما', 'OUTSIDE'), ('يعادل', 'OUTSIDE'), ('400', 'OUTSIDE'), ('جزء', 'OUTSIDE'), ('في', 'OUTSIDE'), ('المليون', 'OUTSIDE'), ('في', 'OUTSIDE'), ('حدود', 'OUTSIDE'), ('سنة', 'B-Date'), ('2014', 'I-Date'), ('وقد', 'OUTSIDE'), ('بلغ', 'OUTSIDE'), ('أعلى', 'OUTSIDE'), ('نسبة', 'OUTSIDE'), ('له', 'OUTSIDE'), ('سنة', 'B-Date'), ('2016', 'I-Date'), ('بمعدل', 'OUTSIDE'), ('416', 'OUTSIDE'), ('جزء', 'OUTSIDE'), ('في', 'OUTSIDE'), ('المليون', 'OUTSIDE'), ('.', 'OUTSIDE')]\n",
      "\n",
      "[('كجزء', 'OUTSIDE'), ('من', 'OUTSIDE'), ('دورة', 'OUTSIDE'), ('الكربون', 'B-Chemical_Thing'), ('تستخدم', 'OUTSIDE'), ('النباتات', 'B-Living_Thing'), ('الطحالب', 'B-Living_Thing'), ('الزراقم', 'B-Living_Thing'), ('طاقة', 'OUTSIDE'), ('الضوء', 'OUTSIDE'), ('لتقوم', 'OUTSIDE'), ('بالتمثيل', 'OUTSIDE'), ('الضوئي', 'OUTSIDE'), ('للسكريات', 'OUTSIDE'), ('من', 'OUTSIDE'), ('ثنائي', 'B-Chemical_Thing'), ('أكسيد', 'I-Chemical_Thing'), ('الكربون', 'I-Chemical_Thing'), ('والماء', 'OUTSIDE'), ('وينتج', 'OUTSIDE'), ('عن', 'OUTSIDE'), ('ذلك', 'OUTSIDE'), ('تكون', 'OUTSIDE'), ('أكسجين', 'B-Chemical_Thing'), ('كناتج', 'OUTSIDE'), ('للعملية', 'OUTSIDE'), ('.', 'OUTSIDE')]\n",
      "\n",
      "[('بالمقابل', 'OUTSIDE'), ('فإن', 'OUTSIDE'), ('عملية', 'OUTSIDE'), ('التمثيل', 'OUTSIDE'), ('الضوئي', 'OUTSIDE'), ('لا', 'OUTSIDE'), ('تتم', 'OUTSIDE'), ('في', 'OUTSIDE'), ('الظلام', 'OUTSIDE'), ('وتقوم', 'OUTSIDE'), ('النباتات', 'B-Living_Thing'), ('بإنتاج', 'OUTSIDE'), ('ثنائي', 'B-Chemical_Thing'), ('أكسيد', 'I-Chemical_Thing'), ('الكربون', 'I-Chemical_Thing'), ('ليلا', 'OUTSIDE'), ('أثناء', 'OUTSIDE'), ('عملية', 'OUTSIDE'), ('التنفس', 'OUTSIDE'), ('الخلوي', 'OUTSIDE'), ('.', 'OUTSIDE')]\n",
      "\n"
     ]
    }
   ],
   "source": [
    "# Display a few rows of the dataset\n",
    "num_rows = 5  # Number of rows to display\n",
    "print(\"\\n\\nTraining Set\")\n",
    "for i in range(num_rows):\n",
    "    print(training_sentences[i])\n",
    "\n",
    "print(\"\\n\\nTesting Set\")\n",
    "for i in range(num_rows):\n",
    "    print(testing_sentences[i])"
   ]
  },
  {
   "cell_type": "markdown",
   "metadata": {
    "id": "NrerVHsHyVEv"
   },
   "source": [
    "# NLP Data Preprocessing Functions for Neural Network Training\n",
    "The code defines several functions for preprocessing natural language processing (NLP) data to be used in training and testing neural networks. The get_words function extracts unique words from a collection of sentences, while get_tags extracts unique tags from a set of sentence tags. The get_train_sentences_x and get_test_sentences_x functions convert sentences into index sequences for training and testing data, respectively, using a word-to-index mapping. Similarly, the get_train_tags_y and get_test_tags_y functions convert tags into index sequences for training and testing data, utilizing a tag-to-index mapping. These functions play a crucial role in preparing NLP data for machine learning models by transforming textual information into a format suitable for input to neural networks, addressing the need for numerical representation and handling out-of-vocabulary words."
   ]
  },
  {
   "cell_type": "code",
   "execution_count": 11,
   "metadata": {
    "execution": {
     "iopub.execute_input": "2024-01-04T06:36:24.290306Z",
     "iopub.status.busy": "2024-01-04T06:36:24.289736Z",
     "iopub.status.idle": "2024-01-04T06:36:24.299745Z",
     "shell.execute_reply": "2024-01-04T06:36:24.298298Z",
     "shell.execute_reply.started": "2024-01-04T06:36:24.290243Z"
    },
    "id": "_vTVcUsXh8-D"
   },
   "outputs": [],
   "source": [
    "def get_words(sentences):\n",
    "    return set(word for sentence in sentences for word in sentence)\n",
    "\n",
    "def get_tags(sentence_tags):\n",
    "    return set(tag for tags in sentence_tags for tag in tags)\n",
    "\n",
    "def get_train_sentences_x(sentences, word2index):\n",
    "    return [[word2index[word] for word in sentence] for sentence in sentences]\n",
    "\n",
    "def get_test_sentences_x(sentences, word2index):\n",
    "    return [[word2index.get(word, word2index['-OOV-']) for word in sentence] for sentence in sentences]\n",
    "\n",
    "def get_train_tags_y(tags, tag2index):\n",
    "    return [[tag2index[tag] for tag in tag_sequence] for tag_sequence in tags]\n",
    "\n",
    "def get_test_tags_y(tags, tag2index):\n",
    "    return [[tag2index[tag] for tag in tag_sequence] for tag_sequence in tags]"
   ]
  },
  {
   "cell_type": "markdown",
   "metadata": {
    "id": "BXTTtr5Byjhf"
   },
   "source": [
    "# Converting Logits to Tokens in Natural Language Processing\n",
    "The code presents a function named logits_to_tokens that serves to convert model predictions in the form of logits into their corresponding tokens or tags. The function takes two parameters: predictions, a list of predicted logits, and index_to_tag, a mapping associating index values with specific tags. Utilizing NumPy, the function identifies the index with the maximum value in each prediction and retrieves the corresponding tag from the provided mapping. The outcome is a list of tokens, where each token represents the predicted tag for the respective input logits. This function is commonly employed in natural language processing applications, particularly during the final step of converting neural network output into human-readable token predictions."
   ]
  },
  {
   "cell_type": "code",
   "execution_count": 12,
   "metadata": {
    "execution": {
     "iopub.execute_input": "2024-01-04T06:36:24.301675Z",
     "iopub.status.busy": "2024-01-04T06:36:24.301149Z",
     "iopub.status.idle": "2024-01-04T06:36:24.317340Z",
     "shell.execute_reply": "2024-01-04T06:36:24.316396Z",
     "shell.execute_reply.started": "2024-01-04T06:36:24.301642Z"
    },
    "id": "c-f-QSweh9Af"
   },
   "outputs": [],
   "source": [
    "# Function to convert logits to tokens\n",
    "def logits_to_tokens(predictions, index_to_tag):\n",
    "    return [index_to_tag[np.argmax(prediction)] for prediction in predictions]"
   ]
  },
  {
   "cell_type": "markdown",
   "metadata": {
    "id": "scpsicBNyvWE"
   },
   "source": [
    "# Extracting Sentences and Tags from Tagged Sentences in Natural Language Processing\n",
    "This code snippet processes a list of tagged sentences, extracting individual sentences and their associated tags. It iterates through each tagged sentence, utilizing ast.literal_eval to safely evaluate the expression and unpack the sentence and tags. The extracted sentence and tags are converted to lists and appended to the sentences and sentence_tags lists, respectively. To handle potential syntax errors during evaluation, a SyntaxError exception is caught, and the problematic line is printed for further inspection. This type of data extraction is typical in natural language processing tasks, where labeled sentences need to be separated into input sequences and corresponding tags for training machine learning models."
   ]
  },
  {
   "cell_type": "code",
   "execution_count": 13,
   "metadata": {
    "colab": {
     "base_uri": "https://localhost:8080/"
    },
    "execution": {
     "iopub.execute_input": "2024-01-04T06:36:24.320539Z",
     "iopub.status.busy": "2024-01-04T06:36:24.319738Z",
     "iopub.status.idle": "2024-01-04T06:36:24.613326Z",
     "shell.execute_reply": "2024-01-04T06:36:24.612272Z",
     "shell.execute_reply.started": "2024-01-04T06:36:24.320502Z"
    },
    "id": "0kU87sr5IMAm",
    "outputId": "d7bd0ab1-8f7a-4fdc-f847-ff32e7fb83e9"
   },
   "outputs": [],
   "source": [
    "# Extract sentences and tags from tagged sentences -> Training Sentences/Tags\n",
    "sentences_training, training_sentence_tags = [], []\n",
    "for tagged_sentence in training_sentences:\n",
    "    try:\n",
    "        sentence, tags = zip(*ast.literal_eval(tagged_sentence.strip()))\n",
    "        sentences_training.append(list(sentence))  # Convert to list to handle Arabic characters\n",
    "        training_sentence_tags.append(list(tags))\n",
    "    except SyntaxError:\n",
    "        print(f\"SyntaxError -Training- in line: {tagged_sentence.strip()}\")\n",
    "        \n",
    "\n",
    "# Extract sentences and tags from tagged sentences -> Testing Sentences/Tags\n",
    "sentences_testing, testing_sentence_tags = [], []\n",
    "for tagged_sentence in testing_sentences:\n",
    "    try:\n",
    "        sentence, tags = zip(*ast.literal_eval(tagged_sentence.strip()))\n",
    "        sentences_testing.append(list(sentence))  # Convert to list to handle Arabic characters\n",
    "        testing_sentence_tags.append(list(tags))\n",
    "    except SyntaxError:\n",
    "        print(f\"SyntaxError -Testing- in line: {tagged_sentence.strip()}\")\n",
    "        \n",
    "        \n",
    "train_sentences = sentences_training\n",
    "train_tags = training_sentence_tags\n",
    "\n",
    "test_sentences = sentences_testing\n",
    "test_tags = testing_sentence_tags"
   ]
  },
  {
   "cell_type": "code",
   "execution_count": null,
   "metadata": {
    "execution": {
     "iopub.execute_input": "2024-01-04T06:36:24.614932Z",
     "iopub.status.busy": "2024-01-04T06:36:24.614553Z",
     "iopub.status.idle": "2024-01-04T06:36:24.623601Z",
     "shell.execute_reply": "2024-01-04T06:36:24.622088Z",
     "shell.execute_reply.started": "2024-01-04T06:36:24.614899Z"
    },
    "id": "JJLY6ClrIMDI"
   },
   "outputs": [],
   "source": [
    "train_sentences = sentences_training\n",
    "train_tags = training_sentence_tags\n",
    "\n",
    "test_sentences = sentences_testing\n",
    "test_tags = testing_sentence_tags"
   ]
  },
  {
   "cell_type": "markdown",
   "metadata": {
    "id": "dvXJxZ8fzYiN"
   },
   "source": [
    "# Obtaining Unique Words and Tags from NLP Data\n",
    "This code snippet utilizes the functions get_words and get_tags to obtain unique words and tags from the sentences and sentence_tags lists, respectively. The resulting sets of unique words and tags are stored in the variables words and tags. These unique elements play a pivotal role in preparing and processing natural language processing data for machine learning tasks, providing the foundation for creating mappings and numerical representations essential for model training."
   ]
  },
  {
   "cell_type": "code",
   "execution_count": 14,
   "metadata": {
    "execution": {
     "iopub.execute_input": "2024-01-04T06:36:24.625714Z",
     "iopub.status.busy": "2024-01-04T06:36:24.625338Z",
     "iopub.status.idle": "2024-01-04T06:36:24.645689Z",
     "shell.execute_reply": "2024-01-04T06:36:24.643657Z",
     "shell.execute_reply.started": "2024-01-04T06:36:24.625651Z"
    },
    "id": "9pR6779zIMF8"
   },
   "outputs": [],
   "source": [
    "# Get unique words and tags\n",
    "words = get_words(train_sentences)\n",
    "tags = get_tags(train_tags)"
   ]
  },
  {
   "cell_type": "markdown",
   "metadata": {
    "id": "Zf_ZdTuVzkDf"
   },
   "source": [
    "# Creating Word-to-Index and Tag-to-Index Dictionaries for NLP Data\n",
    "This code snippet creates two dictionaries, word2index and tag2index, serving as mappings for words and tags to numerical indices. The word2index dictionary assigns indices to unique words, starting from 2, and includes special tokens '-PAD-' and '-OOV-' with indices 0 and 1, respectively. Similarly, the tag2index dictionary assigns indices to tags, starting from 1, with '-PAD-' assigned index 0. These dictionaries are essential for converting words and tags into numerical representations, a crucial step in preparing input data for neural network training in natural language processing applications."
   ]
  },
  {
   "cell_type": "code",
   "execution_count": 15,
   "metadata": {
    "execution": {
     "iopub.execute_input": "2024-01-04T06:36:24.648426Z",
     "iopub.status.busy": "2024-01-04T06:36:24.647971Z",
     "iopub.status.idle": "2024-01-04T06:36:24.663103Z",
     "shell.execute_reply": "2024-01-04T06:36:24.661080Z",
     "shell.execute_reply.started": "2024-01-04T06:36:24.648382Z"
    },
    "id": "uw1IB6D7I9YW"
   },
   "outputs": [],
   "source": [
    "# Create word-to-index and tag-to-index dictionaries\n",
    "word2index = {w: i + 2 for i, w in enumerate(words)}\n",
    "word2index['-PAD-'] = 0\n",
    "word2index['-OOV-'] = 1\n",
    "\n",
    "tag2index = {t: i + 1 for i, t in enumerate(tags)}\n",
    "tag2index['-PAD-'] = 0\n"
   ]
  },
  {
   "cell_type": "markdown",
   "metadata": {
    "id": "D-YAob0HzvHD"
   },
   "source": [
    "# Converting Sentences and Tags to Index Sequences for NLP Model Training\n",
    "This code converts the sentences and corresponding tags from the training and testing sets into index sequences using functions tailored for training and testing data. The resulting sequences, stored in variables such as train_sentences_x and test_tags_y, represent numerical indices based on the word-to-index and tag-to-index dictionaries (word2index and tag2index). These numerical representations are crucial for preparing the input data for training and evaluating neural network models in natural language processing applications, allowing the model to work with numerical values rather than raw text."
   ]
  },
  {
   "cell_type": "code",
   "execution_count": 16,
   "metadata": {
    "execution": {
     "iopub.execute_input": "2024-01-04T06:36:24.666598Z",
     "iopub.status.busy": "2024-01-04T06:36:24.665303Z",
     "iopub.status.idle": "2024-01-04T06:36:24.989713Z",
     "shell.execute_reply": "2024-01-04T06:36:24.987275Z",
     "shell.execute_reply.started": "2024-01-04T06:36:24.666515Z"
    },
    "id": "I1w-_UNXI9bU"
   },
   "outputs": [],
   "source": [
    "# Convert sentences and tags to index sequences\n",
    "train_sentences_x = get_train_sentences_x(train_sentences, word2index)\n",
    "test_sentences_x = get_test_sentences_x(test_sentences, word2index)\n",
    "\n",
    "train_tags_y = get_train_tags_y(train_tags, tag2index)\n",
    "test_tags_y = get_test_tags_y(test_tags, tag2index)"
   ]
  },
  {
   "cell_type": "markdown",
   "metadata": {
    "id": "cWTtmMg1z87Y"
   },
   "source": [
    "# Padding Sequences for Uniform Length in NLP Model Training\n",
    "This code snippet pads the sequences of sentences and tags to a common length, determined by the maximum length among sentences in both the training and testing sets. It uses the pad_sequences function from Keras to ensure uniform sequence lengths. The parameter padding='post' indicates that padding is added at the end of each sequence. This step is vital for preparing input data for neural network models, especially those requiring fixed-length input sequences, such as recurrent neural networks. Uniform sequence lengths facilitate efficient model training and processing of input data."
   ]
  },
  {
   "cell_type": "code",
   "execution_count": 17,
   "metadata": {
    "execution": {
     "iopub.execute_input": "2024-01-04T06:36:24.991938Z",
     "iopub.status.busy": "2024-01-04T06:36:24.991550Z",
     "iopub.status.idle": "2024-01-04T06:36:25.012907Z",
     "shell.execute_reply": "2024-01-04T06:36:25.011010Z",
     "shell.execute_reply.started": "2024-01-04T06:36:24.991906Z"
    },
    "id": "K1fmfavyI9eC"
   },
   "outputs": [],
   "source": [
    "# Pad sequences to a common length\n",
    "MAX_LENGTH = max(len(max(train_sentences_x, key=len)), len(max(test_sentences_x, key=len)))\n",
    "\n",
    "train_sentences_x = pad_sequences(train_sentences_x, maxlen=MAX_LENGTH, padding='post')\n",
    "test_sentences_x = pad_sequences(test_sentences_x, maxlen=MAX_LENGTH, padding='post')\n",
    "train_tags_y = pad_sequences(train_tags_y, maxlen=MAX_LENGTH, padding='post')\n",
    "test_tags_y = pad_sequences(test_tags_y, maxlen=MAX_LENGTH, padding='post')"
   ]
  },
  {
   "cell_type": "markdown",
   "metadata": {
    "id": "e49GcuKG0LnZ"
   },
   "source": [
    "# Building and Compiling a Bidirectional LSTM Model for Sequence Labeling\n",
    "This code segment builds and compiles a Bidirectional Long Short-Term Memory (BiLSTM) model using the Keras library. The model includes an input layer with a specified shape, an embedding layer for word representations, a Bidirectional LSTM layer with 128 units and return sequences set to True for sequence labeling tasks, and a dense layer with the number of tags as output units. The softmax activation function is applied for multi-class classification. The model is compiled with categorical crossentropy as the loss function, the Adam optimizer with a learning rate of 0.001, and accuracy as the evaluation metric. This architecture is commonly employed in natural language processing tasks, particularly for sequence labeling."
   ]
  },
  {
   "cell_type": "code",
   "execution_count": 18,
   "metadata": {
    "execution": {
     "iopub.execute_input": "2024-01-04T06:36:25.016133Z",
     "iopub.status.busy": "2024-01-04T06:36:25.015619Z",
     "iopub.status.idle": "2024-01-04T06:36:25.780601Z",
     "shell.execute_reply": "2024-01-04T06:36:25.778635Z",
     "shell.execute_reply.started": "2024-01-04T06:36:25.016091Z"
    },
    "id": "8cG0HF97I9g2"
   },
   "outputs": [],
   "source": [
    "from keras.layers import Bidirectional\n",
    "\n",
    "model = Sequential()\n",
    "model.add(InputLayer(input_shape=(MAX_LENGTH,)))\n",
    "model.add(Embedding(len(word2index), 128))\n",
    "model.add(Bidirectional(LSTM(128, return_sequences=True)))\n",
    "model.add(Dense(len(tag2index)))\n",
    "model.add(Activation('softmax'))\n",
    "\n",
    "model.compile(loss='categorical_crossentropy',\n",
    "              optimizer=Adam(0.001),\n",
    "              metrics=['accuracy'])"
   ]
  },
  {
   "cell_type": "markdown",
   "metadata": {
    "id": "sQq6VFRK0chO"
   },
   "source": [
    "# Training\n"
   ]
  },
  {
   "cell_type": "code",
   "execution_count": 26,
   "metadata": {
    "colab": {
     "base_uri": "https://localhost:8080/"
    },
    "execution": {
     "iopub.execute_input": "2024-01-04T06:36:25.783707Z",
     "iopub.status.busy": "2024-01-04T06:36:25.783025Z",
     "iopub.status.idle": "2024-01-04T06:38:47.649587Z",
     "shell.execute_reply": "2024-01-04T06:38:47.648198Z",
     "shell.execute_reply.started": "2024-01-04T06:36:25.783660Z"
    },
    "id": "8jfq9HqtJI0D",
    "outputId": "2c2b4a06-23e7-46d9-be89-c6867a9d30a5"
   },
   "outputs": [
    {
     "name": "stdout",
     "output_type": "stream",
     "text": [
      "Epoch 1/5\n",
      "850/850 [==============================] - 323s 380ms/step - loss: 0.0154 - accuracy: 0.9953\n",
      "Epoch 2/5\n",
      "850/850 [==============================] - 353s 415ms/step - loss: 0.0124 - accuracy: 0.9959\n",
      "Epoch 3/5\n",
      "850/850 [==============================] - 345s 406ms/step - loss: 0.0105 - accuracy: 0.9963\n",
      "Epoch 4/5\n",
      "850/850 [==============================] - 317s 372ms/step - loss: 0.0093 - accuracy: 0.9965\n",
      "Epoch 5/5\n",
      "850/850 [==============================] - 306s 360ms/step - loss: 0.0084 - accuracy: 0.9967\n"
     ]
    }
   ],
   "source": [
    "# Train the model\n",
    "history = model.fit(train_sentences_x, to_categorical(train_tags_y, len(tag2index)), batch_size=32, epochs=5, verbose=1)"
   ]
  },
  {
   "cell_type": "markdown",
   "metadata": {
    "id": "HwrIP_fG23yg"
   },
   "source": [
    "# Model Anatomy\n"
   ]
  },
  {
   "cell_type": "code",
   "execution_count": 27,
   "metadata": {
    "colab": {
     "base_uri": "https://localhost:8080/"
    },
    "id": "QPZVuGTB8VQK",
    "outputId": "78e42741-2b14-4303-c2a0-5377c109689e"
   },
   "outputs": [
    {
     "name": "stdout",
     "output_type": "stream",
     "text": [
      "Model: \"sequential\"\n",
      "_________________________________________________________________\n",
      " Layer (type)                Output Shape              Param #   \n",
      "=================================================================\n",
      " embedding (Embedding)       (None, 289, 128)          7301120   \n",
      "                                                                 \n",
      " bidirectional (Bidirection  (None, 289, 256)          263168    \n",
      " al)                                                             \n",
      "                                                                 \n",
      " dense (Dense)               (None, 289, 213)          54741     \n",
      "                                                                 \n",
      " activation (Activation)     (None, 289, 213)          0         \n",
      "                                                                 \n",
      "=================================================================\n",
      "Total params: 7619029 (29.06 MB)\n",
      "Trainable params: 7619029 (29.06 MB)\n",
      "Non-trainable params: 0 (0.00 Byte)\n",
      "_________________________________________________________________\n"
     ]
    }
   ],
   "source": [
    "# Print the model summary\n",
    "model.summary()"
   ]
  },
  {
   "cell_type": "markdown",
   "metadata": {
    "id": "HwrIP_fG23yg"
   },
   "source": [
    "# Save Model\n"
   ]
  },
  {
   "cell_type": "code",
   "execution_count": 28,
   "metadata": {},
   "outputs": [
    {
     "name": "stderr",
     "output_type": "stream",
     "text": [
      "/Users/ziadhamwi/anaconda3/lib/python3.11/site-packages/keras/src/engine/training.py:3103: UserWarning: You are saving your model as an HDF5 file via `model.save()`. This file format is considered legacy. We recommend using instead the native Keras format, e.g. `model.save('my_model.keras')`.\n",
      "  saving_api.save_model(\n"
     ]
    }
   ],
   "source": [
    "model.save(\"BiLSTM.h5\")"
   ]
  },
  {
   "cell_type": "markdown",
   "metadata": {},
   "source": [
    "# Dump Notebook Environment\n",
    "Dump current kernel and notebook environment to the file below so you can quickly load it next time you open the notebook."
   ]
  },
  {
   "cell_type": "code",
   "execution_count": null,
   "metadata": {},
   "outputs": [],
   "source": [
    "import dill\n",
    "dill.dump_session('notebookWorking_env.db')"
   ]
  },
  {
   "cell_type": "code",
   "execution_count": 31,
   "metadata": {},
   "outputs": [
    {
     "name": "stdout",
     "output_type": "stream",
     "text": [
      "27/27 [==============================] - 3s 101ms/step\n",
      "Confusion Matrix:\n",
      "[[ 3  0  0 ...  0  0  0]\n",
      " [ 0  0  0 ...  0  0  0]\n",
      " [ 0  0  0 ...  0  0  0]\n",
      " ...\n",
      " [ 0  0  0 ...  0  0  0]\n",
      " [ 0  0  0 ...  0  0  0]\n",
      " [ 0  0  0 ...  0  0 28]]\n"
     ]
    }
   ],
   "source": [
    "from sklearn.metrics import confusion_matrix\n",
    "import numpy as np\n",
    "\n",
    "predictions = model.predict(test_sentences_x)\n",
    "\n",
    "predicted_labels = np.argmax(predictions, axis=2)\n",
    "\n",
    "true_labels_flat = test_tags_y.flatten()\n",
    "predicted_labels_flat = predicted_labels.flatten()\n",
    "\n",
    "non_pad_elements = true_labels_flat != 0\n",
    "\n",
    "conf_matrix = confusion_matrix(true_labels_flat[non_pad_elements], predicted_labels_flat[non_pad_elements])\n",
    "\n",
    "print(\"Confusion Matrix:\")\n",
    "print(conf_matrix)\n"
   ]
  },
  {
   "cell_type": "code",
   "execution_count": 34,
   "metadata": {
    "scrolled": false
   },
   "outputs": [
    {
     "name": "stdout",
     "output_type": "stream",
     "text": [
      "Classification Report:\n",
      "+---------------------------+-----------+--------+----------+---------+\n",
      "|                           | Precision | Recall | F1-score | Support |\n",
      "+---------------------------+-----------+--------+----------+---------+\n",
      "|        I-Newspaper        |   1.00    |  1.00  |   1.00   |    1    |\n",
      "|         I-Artist          |   0.62    |  0.28  |   0.38   |   18    |\n",
      "|        I-Military         |   0.57    |  0.29  |   0.38   |   14    |\n",
      "|        B-Computer         |   0.33    |  0.03  |   0.05   |   38    |\n",
      "|        I-Language         |   0.00    |  0.00  |   0.00   |    8    |\n",
      "|    B-Religious_Leader     |   1.00    |  0.22  |   0.36   |    9    |\n",
      "|        I-Ethnicity        |   1.00    |  1.00  |   1.00   |    1    |\n",
      "|          I-City           |   0.67    |  0.22  |   0.33   |    9    |\n",
      "|        B-Currency         |   0.75    |  0.79  |   0.77   |   19    |\n",
      "|         B-Airport         |   1.00    |  1.00  |   1.00   |    4    |\n",
      "|   B-Educational_Degree    |   0.00    |  0.00  |   0.00   |    2    |\n",
      "|        I-Director         |   0.00    |  0.00  |   0.00   |    1    |\n",
      "|        B-Military         |   1.00    |  0.36  |   0.53   |   11    |\n",
      "|        B-Director         |   0.00    |  0.00  |   0.00   |    1    |\n",
      "|    B-Natural_Disaster     |   1.00    |  1.00  |   1.00   |    1    |\n",
      "|         B-Island          |   1.00    |  0.08  |   0.14   |   13    |\n",
      "|         B-Animal          |   0.78    |  0.27  |   0.40   |   130   |\n",
      "|         I-Soldier         |   0.00    |  0.00  |   0.00   |    1    |\n",
      "|          B-Food           |   1.00    |  0.10  |   0.19   |   29    |\n",
      "|          I-Time           |   0.91    |  0.05  |   0.10   |   185   |\n",
      "|           I-Law           |   0.90    |  0.82  |   0.86   |   11    |\n",
      "|           B-Law           |   0.80    |  0.31  |   0.44   |   13    |\n",
      "|          I-Park           |   0.00    |  0.00  |   0.00   |    0    |\n",
      "|     I-Chemical_Thing      |   0.86    |  0.30  |   0.44   |   107   |\n",
      "|        B-Election         |   1.00    |  0.40  |   0.57   |    5    |\n",
      "|           B-Car           |   0.00    |  0.00  |   0.00   |    0    |\n",
      "|          I-Music          |   1.00    |  0.47  |   0.64   |   30    |\n",
      "|        B-Airplane         |   0.50    |  0.11  |   0.18   |   18    |\n",
      "|    I-Biological_Thing     |   0.75    |  0.06  |   0.12   |   47    |\n",
      "|       B-Politician        |   1.00    |  0.43  |   0.60   |   56    |\n",
      "|       I-Politician        |   0.86    |  0.30  |   0.44   |   40    |\n",
      "|   I-Educational_Degree    |   0.00    |  0.00  |   0.00   |    0    |\n",
      "|         B-Engine          |   0.00    |  0.00  |   0.00   |    4    |\n",
      "|         I-Attack          |   1.00    |  0.33  |   0.50   |    6    |\n",
      "|          I-Film           |   0.50    |  1.00  |   0.67   |    2    |\n",
      "|     I-Political_Party     |   1.00    |  0.07  |   0.14   |   27    |\n",
      "|        I-Province         |   0.00    |  0.00  |   0.00   |    2    |\n",
      "|         I-Author          |   0.00    |  0.00  |   0.00   |   15    |\n",
      "|        B-Ethnicity        |   0.23    |  0.20  |   0.21   |   15    |\n",
      "|          B-Time           |   0.60    |  0.06  |   0.11   |   103   |\n",
      "|       B-Nationality       |   0.82    |  0.34  |   0.48   |   136   |\n",
      "|          B-Park           |   0.00    |  0.00  |   0.00   |    0    |\n",
      "|          B-City           |   0.88    |  0.33  |   0.48   |   109   |\n",
      "|       B-Instrument        |   1.00    |  0.02  |   0.03   |   65    |\n",
      "|     B-Chemical_Thing      |   0.72    |  0.23  |   0.35   |   241   |\n",
      "|       B-Government        |   0.00    |  0.00  |   0.00   |   21    |\n",
      "|    B-Military_Conflict    |   0.91    |  0.37  |   0.53   |   27    |\n",
      "|        B-Religion         |   0.83    |  0.32  |   0.47   |   31    |\n",
      "|          B-Ship           |   1.00    |  0.08  |   0.14   |   13    |\n",
      "|         I-Animal          |   0.55    |  0.34  |   0.42   |   32    |\n",
      "|         B-Attack          |   0.00    |  0.00  |   0.00   |    7    |\n",
      "|         B-Country         |   0.93    |  0.59  |   0.72   |   246   |\n",
      "|          B-Film           |   0.50    |  1.00  |   0.67   |    1    |\n",
      "|        I-Currency         |   0.64    |  0.64  |   0.64   |   14    |\n",
      "|          B-Award          |   1.00    |  0.06  |   0.11   |   17    |\n",
      "|        B-Software         |   1.00    |  0.25  |   0.40   |    8    |\n",
      "|        B-Language         |   0.92    |  0.71  |   0.80   |   69    |\n",
      "|          OUTSIDE          |   0.87    |  0.99  |   0.93   |  17531  |\n",
      "|        B-Engineer         |   0.00    |  0.00  |   0.00   |    1    |\n",
      "|          I-Award          |   0.50    |  0.05  |   0.09   |   21    |\n",
      "|           B-God           |   1.00    |  0.33  |   0.50   |    6    |\n",
      "|        B-Body_Part        |   1.00    |  0.06  |   0.11   |   54    |\n",
      "|         I-Country         |   0.82    |  0.48  |   0.61   |   69    |\n",
      "|       I-Instrument        |   1.00    |  0.02  |   0.04   |   47    |\n",
      "|     B-Political_Party     |   1.00    |  0.10  |   0.18   |   20    |\n",
      "|          B-Road           |   0.00    |  0.00  |   0.00   |    0    |\n",
      "|         I-Airline         |   1.00    |  1.00  |   1.00   |   10    |\n",
      "|         B-County          |   0.00    |  0.00  |   0.00   |    3    |\n",
      "|         B-Company         |   0.72    |  0.36  |   0.48   |   64    |\n",
      "|          I-Food           |   0.50    |  0.12  |   0.20   |   16    |\n",
      "|         B-Athlete         |   0.00    |  0.00  |   0.00   |    0    |\n",
      "|         B-Author          |   1.00    |  0.04  |   0.08   |   25    |\n",
      "| I-Educational_Institution |   0.83    |  0.42  |   0.56   |   12    |\n",
      "|    I-Military_Conflict    |   0.91    |  0.57  |   0.70   |   37    |\n",
      "|          I-Road           |   0.00    |  0.00  |   0.00   |    0    |\n",
      "|     B-Sports_Facility     |   1.00    |  1.00  |   1.00   |    1    |\n",
      "|        B-Province         |   0.00    |  0.00  |   0.00   |    2    |\n",
      "|         I-County          |   0.00    |  0.00  |   0.00   |    1    |\n",
      "|        I-Computer         |   0.50    |  0.03  |   0.05   |   36    |\n",
      "|         I-Engine          |   0.25    |  1.00  |   0.40   |    1    |\n",
      "|    B-Biological_Thing     |   1.00    |  0.02  |   0.04   |   47    |\n",
      "|         B-Monarch         |   0.00    |  0.00  |   0.00   |    7    |\n",
      "|        I-Airplane         |   0.50    |  0.11  |   0.18   |    9    |\n",
      "|         I-Company         |   0.94    |  0.31  |   0.46   |   49    |\n",
      "|     I-Sports_Facility     |   1.00    |  1.00  |   1.00   |    2    |\n",
      "|          B-Date           |   0.57    |  0.28  |   0.38   |   239   |\n",
      "|         B-Theater         |   1.00    |  0.05  |   0.09   |   22    |\n",
      "|         B-Artist          |   0.50    |  0.07  |   0.12   |   14    |\n",
      "|      I-Body_Of_Water      |   1.00    |  0.77  |   0.87   |   39    |\n",
      "|          B-Music          |   0.83    |  0.31  |   0.45   |   16    |\n",
      "|         I-Monarch         |   1.00    |  0.20  |   0.33   |    5    |\n",
      "|          B-Color          |   0.80    |  0.42  |   0.55   |   19    |\n",
      "|        I-Election         |   0.50    |  0.40  |   0.44   |    5    |\n",
      "|         B-Airline         |   1.00    |  1.00  |   1.00   |    5    |\n",
      "|         B-Soldier         |   0.00    |  0.00  |   0.00   |    1    |\n",
      "|        I-Engineer         |   0.00    |  0.00  |   0.00   |    1    |\n",
      "|         I-Airport         |   1.00    |  0.83  |   0.91   |   12    |\n",
      "|          I-Date           |   0.84    |  0.40  |   0.54   |   235   |\n",
      "|      B-Body_Of_Water      |   0.97    |  0.49  |   0.65   |   57    |\n",
      "|         micro_avg         |   0.87    |  0.88  |   0.88   |  20782  |\n",
      "|         macro_avg         |   0.62    |  0.30  |   0.35   |  20782  |\n",
      "|       weighted_avg        |   0.86    |  0.88  |   0.85   |  20782  |\n",
      "+---------------------------+-----------+--------+----------+---------+\n"
     ]
    },
    {
     "name": "stderr",
     "output_type": "stream",
     "text": [
      "/Users/ziadhamwi/anaconda3/lib/python3.11/site-packages/sklearn/metrics/_classification.py:1469: UndefinedMetricWarning: Recall and F-score are ill-defined and being set to 0.0 in labels with no true samples. Use `zero_division` parameter to control this behavior.\n",
      "  _warn_prf(average, modifier, msg_start, len(result))\n",
      "/Users/ziadhamwi/anaconda3/lib/python3.11/site-packages/sklearn/metrics/_classification.py:1469: UndefinedMetricWarning: Recall and F-score are ill-defined and being set to 0.0 in labels with no true samples. Use `zero_division` parameter to control this behavior.\n",
      "  _warn_prf(average, modifier, msg_start, len(result))\n",
      "/Users/ziadhamwi/anaconda3/lib/python3.11/site-packages/sklearn/metrics/_classification.py:1469: UndefinedMetricWarning: Recall and F-score are ill-defined and being set to 0.0 in labels with no true samples. Use `zero_division` parameter to control this behavior.\n",
      "  _warn_prf(average, modifier, msg_start, len(result))\n"
     ]
    }
   ],
   "source": [
    "from sklearn.metrics import classification_report\n",
    "from tabulate import tabulate\n",
    "\n",
    "non_pad_elements = true_labels_flat != 0\n",
    "\n",
    "report = classification_report(true_labels_flat[non_pad_elements], \n",
    "                               predicted_labels_flat[non_pad_elements], \n",
    "                               labels=np.unique(predicted_labels_flat[non_pad_elements]))\n",
    "\n",
    "print(\"Classification Report:\")\n",
    "# print(report)\n",
    "\n",
    "\n",
    "array_output = report.split()\n",
    "\n",
    "for i in range(4, len(array_output)-20, 5):\n",
    "    id = array_output[i]\n",
    "    \n",
    "    desired_value = int(id)\n",
    "    desired_key = None\n",
    "\n",
    "    for key, value in tag2index.items():\n",
    "        if value == desired_value:\n",
    "            desired_key = key\n",
    "            break\n",
    "    array_output[i] = desired_key\n",
    "    \n",
    "# print(array_output)\n",
    "array_output = array_output[9:]\n",
    "\n",
    "# print(len(array_output))\n",
    "for i in range(len(array_output) - 1, -1, -1):\n",
    "    if array_output[i] == \"avg\":\n",
    "        array_output[i-1] += \"_avg\"\n",
    "        del array_output[i]\n",
    "# print(array_output)\n",
    "\n",
    "\n",
    "table = [array_output[i:i+5] for i in range(0, len(array_output), 5)]\n",
    "\n",
    "print(tabulate(table[0:], headers=['Precision', 'Recall', 'F1-score', 'Support'], tablefmt='pretty'))\n",
    "\n"
   ]
  },
  {
   "cell_type": "markdown",
   "metadata": {
    "id": "0xzvr5GdxK6k"
   },
   "source": [
    "# Testing the Model\n",
    "\n",
    "This code turns the model into a tag-wielding champion! Equipped with a custom function, it takes any sentence and predicts the appropriate tag for each word, like adding punctuation marks to complete a thought. Watch as it analyzes a sample sentence and unveils its predicted tags, revealing the model's real-world potential to understand and structure language on the fly!"
   ]
  },
  {
   "cell_type": "code",
   "execution_count": 36,
   "metadata": {},
   "outputs": [
    {
     "name": "stdout",
     "output_type": "stream",
     "text": [
      "1/1 [==============================] - 0s 42ms/step\n",
      "Original Sentence: ['كيرلا', 'هي', 'ولاية', 'هندية', 'تقع', 'على', 'ساحل', 'مليبار', 'الهندي', '،', 'أُنشئت', 'في', '1', 'نوفمبر', '1956', 'بعد', 'إقرار', 'قانون', 'إعادة', 'تنظيم', 'الولايات', '،', 'حيث', 'جمعت', 'بين', 'المناطق', 'الناطقة', 'باللغة', 'المالايالامية', 'من', 'مناطق', 'كوشين', 'ومليبار', 'وجنوب', 'كانارا', 'وترافانكور', '،', 'وتبلغ', 'مساحتها', '38,863', 'كيلومتر', 'مربع', '(15,005', 'ميل2)', 'وهي', 'الولاية', 'الهندية', 'الحادية', 'والعشرون', 'من', 'حيث', 'المساحة', '،', 'تحدها', 'ولاية', 'كارناتاكا', 'من', 'الشمال', 'والشمال', 'الشرقي', '،', 'وتاميل', 'نادو', 'من', 'الشرق', 'والجنوب', '،', 'وبحر', 'لكديف', 'من', 'الغرب', '.']\n",
      "Predicted Tags: ['B-County', 'OUTSIDE', 'OUTSIDE', 'B-Nationality', 'OUTSIDE', 'OUTSIDE', 'OUTSIDE', 'OUTSIDE', 'B-Nationality', 'OUTSIDE', 'OUTSIDE', 'OUTSIDE', 'B-Date', 'I-Date', 'I-Date', 'OUTSIDE', 'OUTSIDE', 'B-Law', 'I-Law', 'I-Law', 'I-Law', 'I-Law', 'OUTSIDE', 'OUTSIDE', 'OUTSIDE', 'OUTSIDE', 'OUTSIDE', 'OUTSIDE', 'B-Language', 'OUTSIDE', 'OUTSIDE', 'OUTSIDE', 'OUTSIDE', 'OUTSIDE', 'OUTSIDE', 'OUTSIDE', 'OUTSIDE', 'OUTSIDE', 'OUTSIDE', 'OUTSIDE', 'OUTSIDE', 'OUTSIDE', 'OUTSIDE', 'OUTSIDE', 'OUTSIDE', 'OUTSIDE', 'OUTSIDE', 'OUTSIDE', 'OUTSIDE', 'OUTSIDE', 'OUTSIDE', 'OUTSIDE', 'OUTSIDE', 'OUTSIDE', 'OUTSIDE', 'B-County', 'OUTSIDE', 'OUTSIDE', 'OUTSIDE', 'OUTSIDE', 'OUTSIDE', 'B-County', 'I-County', 'OUTSIDE', 'OUTSIDE', 'OUTSIDE', 'OUTSIDE', 'B-Body_Of_Water', 'I-Body_Of_Water', 'OUTSIDE', 'OUTSIDE', 'OUTSIDE', '-PAD-', '-PAD-', '-PAD-', '-PAD-', '-PAD-', '-PAD-', '-PAD-', '-PAD-', '-PAD-', '-PAD-', '-PAD-', '-PAD-', '-PAD-', '-PAD-', '-PAD-', '-PAD-', '-PAD-', '-PAD-', '-PAD-', '-PAD-', '-PAD-', '-PAD-', '-PAD-', '-PAD-', '-PAD-', '-PAD-', '-PAD-', '-PAD-', '-PAD-', '-PAD-', '-PAD-', '-PAD-', '-PAD-', '-PAD-', '-PAD-', '-PAD-', '-PAD-', '-PAD-', '-PAD-', '-PAD-', '-PAD-', '-PAD-', '-PAD-', '-PAD-', '-PAD-', '-PAD-', '-PAD-', '-PAD-', '-PAD-', '-PAD-', '-PAD-', '-PAD-', '-PAD-', '-PAD-', '-PAD-', '-PAD-', '-PAD-', '-PAD-', '-PAD-', '-PAD-', '-PAD-', '-PAD-', '-PAD-', '-PAD-', '-PAD-', '-PAD-', '-PAD-', '-PAD-', '-PAD-', '-PAD-', '-PAD-', '-PAD-', '-PAD-', '-PAD-', '-PAD-', '-PAD-', '-PAD-', '-PAD-', '-PAD-', '-PAD-', '-PAD-', '-PAD-', '-PAD-', '-PAD-', '-PAD-', '-PAD-', '-PAD-', '-PAD-', '-PAD-', '-PAD-', '-PAD-', '-PAD-', '-PAD-', '-PAD-', '-PAD-', '-PAD-', '-PAD-', '-PAD-', '-PAD-', '-PAD-', '-PAD-', '-PAD-', '-PAD-', '-PAD-', '-PAD-', '-PAD-', '-PAD-', '-PAD-', '-PAD-', '-PAD-', '-PAD-', '-PAD-', '-PAD-', '-PAD-', '-PAD-', '-PAD-', '-PAD-', '-PAD-', '-PAD-', '-PAD-', '-PAD-', '-PAD-', '-PAD-', '-PAD-', '-PAD-', '-PAD-', '-PAD-', '-PAD-', '-PAD-', '-PAD-', '-PAD-', '-PAD-', '-PAD-', '-PAD-', '-PAD-', '-PAD-', '-PAD-', '-PAD-', '-PAD-', '-PAD-', '-PAD-', '-PAD-', '-PAD-', '-PAD-', '-PAD-', '-PAD-', '-PAD-', '-PAD-', '-PAD-', '-PAD-', '-PAD-', '-PAD-', '-PAD-', '-PAD-', '-PAD-', '-PAD-', '-PAD-', '-PAD-', '-PAD-', '-PAD-', '-PAD-', '-PAD-', '-PAD-', '-PAD-', '-PAD-', '-PAD-', '-PAD-', '-PAD-', '-PAD-', '-PAD-', '-PAD-', '-PAD-', '-PAD-', '-PAD-', '-PAD-', '-PAD-', '-PAD-', '-PAD-', '-PAD-', '-PAD-', '-PAD-', '-PAD-', '-PAD-', '-PAD-', '-PAD-', '-PAD-', '-PAD-', '-PAD-', '-PAD-', '-PAD-', '-PAD-', '-PAD-', '-PAD-', '-PAD-', '-PAD-', '-PAD-', '-PAD-', '-PAD-', '-PAD-', '-PAD-', '-PAD-', '-PAD-', '-PAD-', '-PAD-', '-PAD-', '-PAD-', '-PAD-', '-PAD-', '-PAD-', '-PAD-', '-PAD-', '-PAD-', '-PAD-', '-PAD-', '-PAD-', '-PAD-', '-PAD-']\n"
     ]
    }
   ],
   "source": [
    "# Function to predict tags for a given sentence\n",
    "def predict_tags(sentence, model, word2index, index2tag):\n",
    "\n",
    "    sentence_x = [word2index.get(word, word2index['-OOV-']) for word in sentence]\n",
    "\n",
    "    sentence_x = pad_sequences([sentence_x], maxlen=MAX_LENGTH, padding='post')\n",
    "\n",
    "    predictions = model.predict(sentence_x)\n",
    "\n",
    "    predicted_tags = logits_to_tokens(predictions[0], index2tag)\n",
    "\n",
    "    return predicted_tags\n",
    "\n",
    "test_sentence = ['كيرلا', 'هي', 'ولاية', 'هندية', 'تقع', 'على', 'ساحل', 'مليبار', 'الهندي', '،', 'أُنشئت', 'في', '1', 'نوفمبر', '1956', 'بعد', 'إقرار', 'قانون', 'إعادة', 'تنظيم', 'الولايات', '،', 'حيث', 'جمعت', 'بين', 'المناطق', 'الناطقة', 'باللغة', 'المالايالامية', 'من', 'مناطق', 'كوشين', 'ومليبار', 'وجنوب', 'كانارا', 'وترافانكور', '،', 'وتبلغ', 'مساحتها', '38,863', 'كيلومتر', 'مربع', '(15,005', 'ميل2)', 'وهي', 'الولاية', 'الهندية', 'الحادية', 'والعشرون', 'من', 'حيث', 'المساحة', '،', 'تحدها', 'ولاية', 'كارناتاكا', 'من', 'الشمال', 'والشمال', 'الشرقي', '،', 'وتاميل', 'نادو', 'من', 'الشرق', 'والجنوب', '،', 'وبحر', 'لكديف', 'من', 'الغرب', '.']\n",
    "\n",
    "\n",
    "\n",
    "index2tag = {i: t for t, i in tag2index.items()}\n",
    "\n",
    "predicted_tags = predict_tags(test_sentence, model, word2index, index2tag)\n",
    "\n",
    "print(\"Original Sentence:\", test_sentence)\n",
    "print(\"Predicted Tags:\", predicted_tags)"
   ]
  }
 ],
 "metadata": {
  "colab": {
   "provenance": []
  },
  "kaggle": {
   "accelerator": "none",
   "dataSources": [
    {
     "datasetId": 4258218,
     "sourceId": 7335076,
     "sourceType": "datasetVersion"
    }
   ],
   "dockerImageVersionId": 30626,
   "isGpuEnabled": false,
   "isInternetEnabled": true,
   "language": "python",
   "sourceType": "notebook"
  },
  "kernelspec": {
   "display_name": "Python 3 (ipykernel)",
   "language": "python",
   "name": "python3"
  },
  "language_info": {
   "codemirror_mode": {
    "name": "ipython",
    "version": 3
   },
   "file_extension": ".py",
   "mimetype": "text/x-python",
   "name": "python",
   "nbconvert_exporter": "python",
   "pygments_lexer": "ipython3",
   "version": "3.11.5"
  },
  "widgets": {
   "application/vnd.jupyter.widget-state+json": {
    "02f865bb013449b7a5d6758a1809f0fd": {
     "model_module": "@jupyter-widgets/controls",
     "model_module_version": "1.5.0",
     "model_name": "DescriptionStyleModel",
     "state": {
      "_model_module": "@jupyter-widgets/controls",
      "_model_module_version": "1.5.0",
      "_model_name": "DescriptionStyleModel",
      "_view_count": null,
      "_view_module": "@jupyter-widgets/base",
      "_view_module_version": "1.2.0",
      "_view_name": "StyleView",
      "description_width": ""
     }
    },
    "043d0a2095fe4700a80f06213f424b55": {
     "model_module": "@jupyter-widgets/controls",
     "model_module_version": "1.5.0",
     "model_name": "ProgressStyleModel",
     "state": {
      "_model_module": "@jupyter-widgets/controls",
      "_model_module_version": "1.5.0",
      "_model_name": "ProgressStyleModel",
      "_view_count": null,
      "_view_module": "@jupyter-widgets/base",
      "_view_module_version": "1.2.0",
      "_view_name": "StyleView",
      "bar_color": null,
      "description_width": ""
     }
    },
    "096628addbf540cc9718863164b752ff": {
     "model_module": "@jupyter-widgets/controls",
     "model_module_version": "1.5.0",
     "model_name": "DescriptionStyleModel",
     "state": {
      "_model_module": "@jupyter-widgets/controls",
      "_model_module_version": "1.5.0",
      "_model_name": "DescriptionStyleModel",
      "_view_count": null,
      "_view_module": "@jupyter-widgets/base",
      "_view_module_version": "1.2.0",
      "_view_name": "StyleView",
      "description_width": ""
     }
    },
    "0c8ff5879eca4e25ba3cbbc46cf5cf45": {
     "model_module": "@jupyter-widgets/controls",
     "model_module_version": "1.5.0",
     "model_name": "ProgressStyleModel",
     "state": {
      "_model_module": "@jupyter-widgets/controls",
      "_model_module_version": "1.5.0",
      "_model_name": "ProgressStyleModel",
      "_view_count": null,
      "_view_module": "@jupyter-widgets/base",
      "_view_module_version": "1.2.0",
      "_view_name": "StyleView",
      "bar_color": null,
      "description_width": ""
     }
    },
    "10332f078b1f4d9d94a808617ee14594": {
     "model_module": "@jupyter-widgets/base",
     "model_module_version": "1.2.0",
     "model_name": "LayoutModel",
     "state": {
      "_model_module": "@jupyter-widgets/base",
      "_model_module_version": "1.2.0",
      "_model_name": "LayoutModel",
      "_view_count": null,
      "_view_module": "@jupyter-widgets/base",
      "_view_module_version": "1.2.0",
      "_view_name": "LayoutView",
      "align_content": null,
      "align_items": null,
      "align_self": null,
      "border": null,
      "bottom": null,
      "display": null,
      "flex": null,
      "flex_flow": null,
      "grid_area": null,
      "grid_auto_columns": null,
      "grid_auto_flow": null,
      "grid_auto_rows": null,
      "grid_column": null,
      "grid_gap": null,
      "grid_row": null,
      "grid_template_areas": null,
      "grid_template_columns": null,
      "grid_template_rows": null,
      "height": null,
      "justify_content": null,
      "justify_items": null,
      "left": null,
      "margin": null,
      "max_height": null,
      "max_width": null,
      "min_height": null,
      "min_width": null,
      "object_fit": null,
      "object_position": null,
      "order": null,
      "overflow": null,
      "overflow_x": null,
      "overflow_y": null,
      "padding": null,
      "right": null,
      "top": null,
      "visibility": null,
      "width": null
     }
    },
    "1426a8eac82840e1bec440eca0c47257": {
     "model_module": "@jupyter-widgets/controls",
     "model_module_version": "1.5.0",
     "model_name": "HTMLModel",
     "state": {
      "_dom_classes": [],
      "_model_module": "@jupyter-widgets/controls",
      "_model_module_version": "1.5.0",
      "_model_name": "HTMLModel",
      "_view_count": null,
      "_view_module": "@jupyter-widgets/controls",
      "_view_module_version": "1.5.0",
      "_view_name": "HTMLView",
      "description": "",
      "description_tooltip": null,
      "layout": "IPY_MODEL_f2ae2d9b105c4e83919c364482e851cb",
      "placeholder": "​",
      "style": "IPY_MODEL_6e78bc71d01442129fed2f1a5a610478",
      "value": " 115M/543M [00:00&lt;00:02, 158MB/s]"
     }
    },
    "25519cc80e024fa191aef0f633dead1e": {
     "model_module": "@jupyter-widgets/controls",
     "model_module_version": "1.5.0",
     "model_name": "FloatProgressModel",
     "state": {
      "_dom_classes": [],
      "_model_module": "@jupyter-widgets/controls",
      "_model_module_version": "1.5.0",
      "_model_name": "FloatProgressModel",
      "_view_count": null,
      "_view_module": "@jupyter-widgets/controls",
      "_view_module_version": "1.5.0",
      "_view_name": "ProgressView",
      "bar_style": "success",
      "description": "",
      "description_tooltip": null,
      "layout": "IPY_MODEL_5d1c06c5c6894d268af9414b28e01cba",
      "max": 384,
      "min": 0,
      "orientation": "horizontal",
      "style": "IPY_MODEL_0c8ff5879eca4e25ba3cbbc46cf5cf45",
      "value": 384
     }
    },
    "28043b36c0b841c982954aa37604e85b": {
     "model_module": "@jupyter-widgets/controls",
     "model_module_version": "1.5.0",
     "model_name": "FloatProgressModel",
     "state": {
      "_dom_classes": [],
      "_model_module": "@jupyter-widgets/controls",
      "_model_module_version": "1.5.0",
      "_model_name": "FloatProgressModel",
      "_view_count": null,
      "_view_module": "@jupyter-widgets/controls",
      "_view_module_version": "1.5.0",
      "_view_name": "ProgressView",
      "bar_style": "success",
      "description": "",
      "description_tooltip": null,
      "layout": "IPY_MODEL_4dd8fb006e684f2bbe2a2672d17063aa",
      "max": 112,
      "min": 0,
      "orientation": "horizontal",
      "style": "IPY_MODEL_043d0a2095fe4700a80f06213f424b55",
      "value": 112
     }
    },
    "285d9ba715ab48dd88aca5d4aaa61838": {
     "model_module": "@jupyter-widgets/controls",
     "model_module_version": "1.5.0",
     "model_name": "DescriptionStyleModel",
     "state": {
      "_model_module": "@jupyter-widgets/controls",
      "_model_module_version": "1.5.0",
      "_model_name": "DescriptionStyleModel",
      "_view_count": null,
      "_view_module": "@jupyter-widgets/base",
      "_view_module_version": "1.2.0",
      "_view_name": "StyleView",
      "description_width": ""
     }
    },
    "286c376ffc9642f3846c08a02969a17b": {
     "model_module": "@jupyter-widgets/controls",
     "model_module_version": "1.5.0",
     "model_name": "HBoxModel",
     "state": {
      "_dom_classes": [],
      "_model_module": "@jupyter-widgets/controls",
      "_model_module_version": "1.5.0",
      "_model_name": "HBoxModel",
      "_view_count": null,
      "_view_module": "@jupyter-widgets/controls",
      "_view_module_version": "1.5.0",
      "_view_name": "HBoxView",
      "box_style": "",
      "children": [
       "IPY_MODEL_f46f9d3354e642e99b5d5131b9d79b3d",
       "IPY_MODEL_25519cc80e024fa191aef0f633dead1e",
       "IPY_MODEL_3d6349013ccd4735a9762408130c75c2"
      ],
      "layout": "IPY_MODEL_b376605bf03547c0a010be08c2d85d2c"
     }
    },
    "294b6a6672bb4951ba70edf0d21c9c9c": {
     "model_module": "@jupyter-widgets/base",
     "model_module_version": "1.2.0",
     "model_name": "LayoutModel",
     "state": {
      "_model_module": "@jupyter-widgets/base",
      "_model_module_version": "1.2.0",
      "_model_name": "LayoutModel",
      "_view_count": null,
      "_view_module": "@jupyter-widgets/base",
      "_view_module_version": "1.2.0",
      "_view_name": "LayoutView",
      "align_content": null,
      "align_items": null,
      "align_self": null,
      "border": null,
      "bottom": null,
      "display": null,
      "flex": null,
      "flex_flow": null,
      "grid_area": null,
      "grid_auto_columns": null,
      "grid_auto_flow": null,
      "grid_auto_rows": null,
      "grid_column": null,
      "grid_gap": null,
      "grid_row": null,
      "grid_template_areas": null,
      "grid_template_columns": null,
      "grid_template_rows": null,
      "height": null,
      "justify_content": null,
      "justify_items": null,
      "left": null,
      "margin": null,
      "max_height": null,
      "max_width": null,
      "min_height": null,
      "min_width": null,
      "object_fit": null,
      "object_position": null,
      "order": null,
      "overflow": null,
      "overflow_x": null,
      "overflow_y": null,
      "padding": null,
      "right": null,
      "top": null,
      "visibility": null,
      "width": null
     }
    },
    "2efaa817462c408498e803eb516c599b": {
     "model_module": "@jupyter-widgets/controls",
     "model_module_version": "1.5.0",
     "model_name": "DescriptionStyleModel",
     "state": {
      "_model_module": "@jupyter-widgets/controls",
      "_model_module_version": "1.5.0",
      "_model_name": "DescriptionStyleModel",
      "_view_count": null,
      "_view_module": "@jupyter-widgets/base",
      "_view_module_version": "1.2.0",
      "_view_name": "StyleView",
      "description_width": ""
     }
    },
    "2f267dd788174b2996cea66f41e363a3": {
     "model_module": "@jupyter-widgets/base",
     "model_module_version": "1.2.0",
     "model_name": "LayoutModel",
     "state": {
      "_model_module": "@jupyter-widgets/base",
      "_model_module_version": "1.2.0",
      "_model_name": "LayoutModel",
      "_view_count": null,
      "_view_module": "@jupyter-widgets/base",
      "_view_module_version": "1.2.0",
      "_view_name": "LayoutView",
      "align_content": null,
      "align_items": null,
      "align_self": null,
      "border": null,
      "bottom": null,
      "display": null,
      "flex": null,
      "flex_flow": null,
      "grid_area": null,
      "grid_auto_columns": null,
      "grid_auto_flow": null,
      "grid_auto_rows": null,
      "grid_column": null,
      "grid_gap": null,
      "grid_row": null,
      "grid_template_areas": null,
      "grid_template_columns": null,
      "grid_template_rows": null,
      "height": null,
      "justify_content": null,
      "justify_items": null,
      "left": null,
      "margin": null,
      "max_height": null,
      "max_width": null,
      "min_height": null,
      "min_width": null,
      "object_fit": null,
      "object_position": null,
      "order": null,
      "overflow": null,
      "overflow_x": null,
      "overflow_y": null,
      "padding": null,
      "right": null,
      "top": null,
      "visibility": null,
      "width": null
     }
    },
    "2f6773b9fdb940a18106cfaf733bf9f0": {
     "model_module": "@jupyter-widgets/controls",
     "model_module_version": "1.5.0",
     "model_name": "DescriptionStyleModel",
     "state": {
      "_model_module": "@jupyter-widgets/controls",
      "_model_module_version": "1.5.0",
      "_model_name": "DescriptionStyleModel",
      "_view_count": null,
      "_view_module": "@jupyter-widgets/base",
      "_view_module_version": "1.2.0",
      "_view_name": "StyleView",
      "description_width": ""
     }
    },
    "30d8ad068b154a439e29baf184bc1c49": {
     "model_module": "@jupyter-widgets/base",
     "model_module_version": "1.2.0",
     "model_name": "LayoutModel",
     "state": {
      "_model_module": "@jupyter-widgets/base",
      "_model_module_version": "1.2.0",
      "_model_name": "LayoutModel",
      "_view_count": null,
      "_view_module": "@jupyter-widgets/base",
      "_view_module_version": "1.2.0",
      "_view_name": "LayoutView",
      "align_content": null,
      "align_items": null,
      "align_self": null,
      "border": null,
      "bottom": null,
      "display": null,
      "flex": null,
      "flex_flow": null,
      "grid_area": null,
      "grid_auto_columns": null,
      "grid_auto_flow": null,
      "grid_auto_rows": null,
      "grid_column": null,
      "grid_gap": null,
      "grid_row": null,
      "grid_template_areas": null,
      "grid_template_columns": null,
      "grid_template_rows": null,
      "height": null,
      "justify_content": null,
      "justify_items": null,
      "left": null,
      "margin": null,
      "max_height": null,
      "max_width": null,
      "min_height": null,
      "min_width": null,
      "object_fit": null,
      "object_position": null,
      "order": null,
      "overflow": null,
      "overflow_x": null,
      "overflow_y": null,
      "padding": null,
      "right": null,
      "top": null,
      "visibility": null,
      "width": null
     }
    },
    "33c0353ddd8a4ed5a71ce3489259ce3b": {
     "model_module": "@jupyter-widgets/controls",
     "model_module_version": "1.5.0",
     "model_name": "DescriptionStyleModel",
     "state": {
      "_model_module": "@jupyter-widgets/controls",
      "_model_module_version": "1.5.0",
      "_model_name": "DescriptionStyleModel",
      "_view_count": null,
      "_view_module": "@jupyter-widgets/base",
      "_view_module_version": "1.2.0",
      "_view_name": "StyleView",
      "description_width": ""
     }
    },
    "3527a84612b4418a86df4eef2132752c": {
     "model_module": "@jupyter-widgets/controls",
     "model_module_version": "1.5.0",
     "model_name": "FloatProgressModel",
     "state": {
      "_dom_classes": [],
      "_model_module": "@jupyter-widgets/controls",
      "_model_module_version": "1.5.0",
      "_model_name": "FloatProgressModel",
      "_view_count": null,
      "_view_module": "@jupyter-widgets/controls",
      "_view_module_version": "1.5.0",
      "_view_name": "ProgressView",
      "bar_style": "",
      "description": "",
      "description_tooltip": null,
      "layout": "IPY_MODEL_6176762d03684cf69bf28612f9eefe1c",
      "max": 543432324,
      "min": 0,
      "orientation": "horizontal",
      "style": "IPY_MODEL_bc01b388dab341559f66fe9bad06b606",
      "value": 115343360
     }
    },
    "36aa5bc6de4743139f0910f90541c63f": {
     "model_module": "@jupyter-widgets/controls",
     "model_module_version": "1.5.0",
     "model_name": "HBoxModel",
     "state": {
      "_dom_classes": [],
      "_model_module": "@jupyter-widgets/controls",
      "_model_module_version": "1.5.0",
      "_model_name": "HBoxModel",
      "_view_count": null,
      "_view_module": "@jupyter-widgets/controls",
      "_view_module_version": "1.5.0",
      "_view_name": "HBoxView",
      "box_style": "",
      "children": [
       "IPY_MODEL_9a3ce98785004430bc93636b22b26aef",
       "IPY_MODEL_88311dd593ee4566a2ea7cdf461d02cf",
       "IPY_MODEL_b03c91187a374ce9b6a55b802ac24a68"
      ],
      "layout": "IPY_MODEL_294b6a6672bb4951ba70edf0d21c9c9c"
     }
    },
    "39e5969ee6d543b3aaff1f21228bd9e6": {
     "model_module": "@jupyter-widgets/controls",
     "model_module_version": "1.5.0",
     "model_name": "DescriptionStyleModel",
     "state": {
      "_model_module": "@jupyter-widgets/controls",
      "_model_module_version": "1.5.0",
      "_model_name": "DescriptionStyleModel",
      "_view_count": null,
      "_view_module": "@jupyter-widgets/base",
      "_view_module_version": "1.2.0",
      "_view_name": "StyleView",
      "description_width": ""
     }
    },
    "3d6349013ccd4735a9762408130c75c2": {
     "model_module": "@jupyter-widgets/controls",
     "model_module_version": "1.5.0",
     "model_name": "HTMLModel",
     "state": {
      "_dom_classes": [],
      "_model_module": "@jupyter-widgets/controls",
      "_model_module_version": "1.5.0",
      "_model_name": "HTMLModel",
      "_view_count": null,
      "_view_module": "@jupyter-widgets/controls",
      "_view_module_version": "1.5.0",
      "_view_name": "HTMLView",
      "description": "",
      "description_tooltip": null,
      "layout": "IPY_MODEL_fa78498d9ce2421081e05b57f09a587c",
      "placeholder": "​",
      "style": "IPY_MODEL_096628addbf540cc9718863164b752ff",
      "value": " 384/384 [00:00&lt;00:00, 7.24kB/s]"
     }
    },
    "4a8dfcfd343142fc842e660b3dc74964": {
     "model_module": "@jupyter-widgets/controls",
     "model_module_version": "1.5.0",
     "model_name": "HBoxModel",
     "state": {
      "_dom_classes": [],
      "_model_module": "@jupyter-widgets/controls",
      "_model_module_version": "1.5.0",
      "_model_name": "HBoxModel",
      "_view_count": null,
      "_view_module": "@jupyter-widgets/controls",
      "_view_module_version": "1.5.0",
      "_view_name": "HBoxView",
      "box_style": "",
      "children": [
       "IPY_MODEL_5567e9c8a5d54165b248d725e809f95e",
       "IPY_MODEL_d92d5b71dcbe48d399a711288fb07a74",
       "IPY_MODEL_713cc883a58c4dd99c97dc991da72d34"
      ],
      "layout": "IPY_MODEL_fbdaabff9eb94ed5902f30b9e71dae86"
     }
    },
    "4dd8fb006e684f2bbe2a2672d17063aa": {
     "model_module": "@jupyter-widgets/base",
     "model_module_version": "1.2.0",
     "model_name": "LayoutModel",
     "state": {
      "_model_module": "@jupyter-widgets/base",
      "_model_module_version": "1.2.0",
      "_model_name": "LayoutModel",
      "_view_count": null,
      "_view_module": "@jupyter-widgets/base",
      "_view_module_version": "1.2.0",
      "_view_name": "LayoutView",
      "align_content": null,
      "align_items": null,
      "align_self": null,
      "border": null,
      "bottom": null,
      "display": null,
      "flex": null,
      "flex_flow": null,
      "grid_area": null,
      "grid_auto_columns": null,
      "grid_auto_flow": null,
      "grid_auto_rows": null,
      "grid_column": null,
      "grid_gap": null,
      "grid_row": null,
      "grid_template_areas": null,
      "grid_template_columns": null,
      "grid_template_rows": null,
      "height": null,
      "justify_content": null,
      "justify_items": null,
      "left": null,
      "margin": null,
      "max_height": null,
      "max_width": null,
      "min_height": null,
      "min_width": null,
      "object_fit": null,
      "object_position": null,
      "order": null,
      "overflow": null,
      "overflow_x": null,
      "overflow_y": null,
      "padding": null,
      "right": null,
      "top": null,
      "visibility": null,
      "width": null
     }
    },
    "5567e9c8a5d54165b248d725e809f95e": {
     "model_module": "@jupyter-widgets/controls",
     "model_module_version": "1.5.0",
     "model_name": "HTMLModel",
     "state": {
      "_dom_classes": [],
      "_model_module": "@jupyter-widgets/controls",
      "_model_module_version": "1.5.0",
      "_model_name": "HTMLModel",
      "_view_count": null,
      "_view_module": "@jupyter-widgets/controls",
      "_view_module_version": "1.5.0",
      "_view_name": "HTMLView",
      "description": "",
      "description_tooltip": null,
      "layout": "IPY_MODEL_c7e32382bc974fec9f23b728516243d0",
      "placeholder": "​",
      "style": "IPY_MODEL_39e5969ee6d543b3aaff1f21228bd9e6",
      "value": "tokenizer.json: 100%"
     }
    },
    "5d1c06c5c6894d268af9414b28e01cba": {
     "model_module": "@jupyter-widgets/base",
     "model_module_version": "1.2.0",
     "model_name": "LayoutModel",
     "state": {
      "_model_module": "@jupyter-widgets/base",
      "_model_module_version": "1.2.0",
      "_model_name": "LayoutModel",
      "_view_count": null,
      "_view_module": "@jupyter-widgets/base",
      "_view_module_version": "1.2.0",
      "_view_name": "LayoutView",
      "align_content": null,
      "align_items": null,
      "align_self": null,
      "border": null,
      "bottom": null,
      "display": null,
      "flex": null,
      "flex_flow": null,
      "grid_area": null,
      "grid_auto_columns": null,
      "grid_auto_flow": null,
      "grid_auto_rows": null,
      "grid_column": null,
      "grid_gap": null,
      "grid_row": null,
      "grid_template_areas": null,
      "grid_template_columns": null,
      "grid_template_rows": null,
      "height": null,
      "justify_content": null,
      "justify_items": null,
      "left": null,
      "margin": null,
      "max_height": null,
      "max_width": null,
      "min_height": null,
      "min_width": null,
      "object_fit": null,
      "object_position": null,
      "order": null,
      "overflow": null,
      "overflow_x": null,
      "overflow_y": null,
      "padding": null,
      "right": null,
      "top": null,
      "visibility": null,
      "width": null
     }
    },
    "60d33d27250741fd85a58996c90531ab": {
     "model_module": "@jupyter-widgets/base",
     "model_module_version": "1.2.0",
     "model_name": "LayoutModel",
     "state": {
      "_model_module": "@jupyter-widgets/base",
      "_model_module_version": "1.2.0",
      "_model_name": "LayoutModel",
      "_view_count": null,
      "_view_module": "@jupyter-widgets/base",
      "_view_module_version": "1.2.0",
      "_view_name": "LayoutView",
      "align_content": null,
      "align_items": null,
      "align_self": null,
      "border": null,
      "bottom": null,
      "display": null,
      "flex": null,
      "flex_flow": null,
      "grid_area": null,
      "grid_auto_columns": null,
      "grid_auto_flow": null,
      "grid_auto_rows": null,
      "grid_column": null,
      "grid_gap": null,
      "grid_row": null,
      "grid_template_areas": null,
      "grid_template_columns": null,
      "grid_template_rows": null,
      "height": null,
      "justify_content": null,
      "justify_items": null,
      "left": null,
      "margin": null,
      "max_height": null,
      "max_width": null,
      "min_height": null,
      "min_width": null,
      "object_fit": null,
      "object_position": null,
      "order": null,
      "overflow": null,
      "overflow_x": null,
      "overflow_y": null,
      "padding": null,
      "right": null,
      "top": null,
      "visibility": null,
      "width": null
     }
    },
    "6176762d03684cf69bf28612f9eefe1c": {
     "model_module": "@jupyter-widgets/base",
     "model_module_version": "1.2.0",
     "model_name": "LayoutModel",
     "state": {
      "_model_module": "@jupyter-widgets/base",
      "_model_module_version": "1.2.0",
      "_model_name": "LayoutModel",
      "_view_count": null,
      "_view_module": "@jupyter-widgets/base",
      "_view_module_version": "1.2.0",
      "_view_name": "LayoutView",
      "align_content": null,
      "align_items": null,
      "align_self": null,
      "border": null,
      "bottom": null,
      "display": null,
      "flex": null,
      "flex_flow": null,
      "grid_area": null,
      "grid_auto_columns": null,
      "grid_auto_flow": null,
      "grid_auto_rows": null,
      "grid_column": null,
      "grid_gap": null,
      "grid_row": null,
      "grid_template_areas": null,
      "grid_template_columns": null,
      "grid_template_rows": null,
      "height": null,
      "justify_content": null,
      "justify_items": null,
      "left": null,
      "margin": null,
      "max_height": null,
      "max_width": null,
      "min_height": null,
      "min_width": null,
      "object_fit": null,
      "object_position": null,
      "order": null,
      "overflow": null,
      "overflow_x": null,
      "overflow_y": null,
      "padding": null,
      "right": null,
      "top": null,
      "visibility": null,
      "width": null
     }
    },
    "62850eb6321942ff87d556f324f84906": {
     "model_module": "@jupyter-widgets/controls",
     "model_module_version": "1.5.0",
     "model_name": "HBoxModel",
     "state": {
      "_dom_classes": [],
      "_model_module": "@jupyter-widgets/controls",
      "_model_module_version": "1.5.0",
      "_model_name": "HBoxModel",
      "_view_count": null,
      "_view_module": "@jupyter-widgets/controls",
      "_view_module_version": "1.5.0",
      "_view_name": "HBoxView",
      "box_style": "",
      "children": [
       "IPY_MODEL_9faed2576dd845c8acbf16e4977bfc32",
       "IPY_MODEL_28043b36c0b841c982954aa37604e85b",
       "IPY_MODEL_d2b35dff7e094b69b35feea5d6dd7d72"
      ],
      "layout": "IPY_MODEL_f046ead775b7433cb8baf4d7f2451632"
     }
    },
    "67b8b9c1cb324e0a93a1923dcf1e9273": {
     "model_module": "@jupyter-widgets/controls",
     "model_module_version": "1.5.0",
     "model_name": "HTMLModel",
     "state": {
      "_dom_classes": [],
      "_model_module": "@jupyter-widgets/controls",
      "_model_module_version": "1.5.0",
      "_model_name": "HTMLModel",
      "_view_count": null,
      "_view_module": "@jupyter-widgets/controls",
      "_view_module_version": "1.5.0",
      "_view_name": "HTMLView",
      "description": "",
      "description_tooltip": null,
      "layout": "IPY_MODEL_ebb91ecd116f4f79981137fc5c472040",
      "placeholder": "​",
      "style": "IPY_MODEL_2f6773b9fdb940a18106cfaf733bf9f0",
      "value": " 825k/825k [00:00&lt;00:00, 7.74MB/s]"
     }
    },
    "6e78bc71d01442129fed2f1a5a610478": {
     "model_module": "@jupyter-widgets/controls",
     "model_module_version": "1.5.0",
     "model_name": "DescriptionStyleModel",
     "state": {
      "_model_module": "@jupyter-widgets/controls",
      "_model_module_version": "1.5.0",
      "_model_name": "DescriptionStyleModel",
      "_view_count": null,
      "_view_module": "@jupyter-widgets/base",
      "_view_module_version": "1.2.0",
      "_view_name": "StyleView",
      "description_width": ""
     }
    },
    "6f7bc7a5f8ca402db2ab4ce220a318e1": {
     "model_module": "@jupyter-widgets/controls",
     "model_module_version": "1.5.0",
     "model_name": "HBoxModel",
     "state": {
      "_dom_classes": [],
      "_model_module": "@jupyter-widgets/controls",
      "_model_module_version": "1.5.0",
      "_model_name": "HBoxModel",
      "_view_count": null,
      "_view_module": "@jupyter-widgets/controls",
      "_view_module_version": "1.5.0",
      "_view_name": "HBoxView",
      "box_style": "",
      "children": [
       "IPY_MODEL_8624847d60ff4f53a2228a03275edd1b",
       "IPY_MODEL_3527a84612b4418a86df4eef2132752c",
       "IPY_MODEL_1426a8eac82840e1bec440eca0c47257"
      ],
      "layout": "IPY_MODEL_2f267dd788174b2996cea66f41e363a3"
     }
    },
    "713cc883a58c4dd99c97dc991da72d34": {
     "model_module": "@jupyter-widgets/controls",
     "model_module_version": "1.5.0",
     "model_name": "HTMLModel",
     "state": {
      "_dom_classes": [],
      "_model_module": "@jupyter-widgets/controls",
      "_model_module_version": "1.5.0",
      "_model_name": "HTMLModel",
      "_view_count": null,
      "_view_module": "@jupyter-widgets/controls",
      "_view_module_version": "1.5.0",
      "_view_name": "HTMLView",
      "description": "",
      "description_tooltip": null,
      "layout": "IPY_MODEL_b6cee76662a148ecbeba49bea591d972",
      "placeholder": "​",
      "style": "IPY_MODEL_948c37bd9dcc447fa321b74548f55e07",
      "value": " 2.64M/2.64M [00:00&lt;00:00, 26.8MB/s]"
     }
    },
    "760a9cdb3eda4558b1036fb7e5262c66": {
     "model_module": "@jupyter-widgets/base",
     "model_module_version": "1.2.0",
     "model_name": "LayoutModel",
     "state": {
      "_model_module": "@jupyter-widgets/base",
      "_model_module_version": "1.2.0",
      "_model_name": "LayoutModel",
      "_view_count": null,
      "_view_module": "@jupyter-widgets/base",
      "_view_module_version": "1.2.0",
      "_view_name": "LayoutView",
      "align_content": null,
      "align_items": null,
      "align_self": null,
      "border": null,
      "bottom": null,
      "display": null,
      "flex": null,
      "flex_flow": null,
      "grid_area": null,
      "grid_auto_columns": null,
      "grid_auto_flow": null,
      "grid_auto_rows": null,
      "grid_column": null,
      "grid_gap": null,
      "grid_row": null,
      "grid_template_areas": null,
      "grid_template_columns": null,
      "grid_template_rows": null,
      "height": null,
      "justify_content": null,
      "justify_items": null,
      "left": null,
      "margin": null,
      "max_height": null,
      "max_width": null,
      "min_height": null,
      "min_width": null,
      "object_fit": null,
      "object_position": null,
      "order": null,
      "overflow": null,
      "overflow_x": null,
      "overflow_y": null,
      "padding": null,
      "right": null,
      "top": null,
      "visibility": null,
      "width": null
     }
    },
    "764dd1a0dde34a0fbd6b9d67b3cfdf5e": {
     "model_module": "@jupyter-widgets/controls",
     "model_module_version": "1.5.0",
     "model_name": "DescriptionStyleModel",
     "state": {
      "_model_module": "@jupyter-widgets/controls",
      "_model_module_version": "1.5.0",
      "_model_name": "DescriptionStyleModel",
      "_view_count": null,
      "_view_module": "@jupyter-widgets/base",
      "_view_module_version": "1.2.0",
      "_view_name": "StyleView",
      "description_width": ""
     }
    },
    "795f66cb485c4dc8a4ec20a0ee54c9de": {
     "model_module": "@jupyter-widgets/base",
     "model_module_version": "1.2.0",
     "model_name": "LayoutModel",
     "state": {
      "_model_module": "@jupyter-widgets/base",
      "_model_module_version": "1.2.0",
      "_model_name": "LayoutModel",
      "_view_count": null,
      "_view_module": "@jupyter-widgets/base",
      "_view_module_version": "1.2.0",
      "_view_name": "LayoutView",
      "align_content": null,
      "align_items": null,
      "align_self": null,
      "border": null,
      "bottom": null,
      "display": null,
      "flex": null,
      "flex_flow": null,
      "grid_area": null,
      "grid_auto_columns": null,
      "grid_auto_flow": null,
      "grid_auto_rows": null,
      "grid_column": null,
      "grid_gap": null,
      "grid_row": null,
      "grid_template_areas": null,
      "grid_template_columns": null,
      "grid_template_rows": null,
      "height": null,
      "justify_content": null,
      "justify_items": null,
      "left": null,
      "margin": null,
      "max_height": null,
      "max_width": null,
      "min_height": null,
      "min_width": null,
      "object_fit": null,
      "object_position": null,
      "order": null,
      "overflow": null,
      "overflow_x": null,
      "overflow_y": null,
      "padding": null,
      "right": null,
      "top": null,
      "visibility": null,
      "width": null
     }
    },
    "7db168d9826243efa24c2328ff5dc0e7": {
     "model_module": "@jupyter-widgets/base",
     "model_module_version": "1.2.0",
     "model_name": "LayoutModel",
     "state": {
      "_model_module": "@jupyter-widgets/base",
      "_model_module_version": "1.2.0",
      "_model_name": "LayoutModel",
      "_view_count": null,
      "_view_module": "@jupyter-widgets/base",
      "_view_module_version": "1.2.0",
      "_view_name": "LayoutView",
      "align_content": null,
      "align_items": null,
      "align_self": null,
      "border": null,
      "bottom": null,
      "display": null,
      "flex": null,
      "flex_flow": null,
      "grid_area": null,
      "grid_auto_columns": null,
      "grid_auto_flow": null,
      "grid_auto_rows": null,
      "grid_column": null,
      "grid_gap": null,
      "grid_row": null,
      "grid_template_areas": null,
      "grid_template_columns": null,
      "grid_template_rows": null,
      "height": null,
      "justify_content": null,
      "justify_items": null,
      "left": null,
      "margin": null,
      "max_height": null,
      "max_width": null,
      "min_height": null,
      "min_width": null,
      "object_fit": null,
      "object_position": null,
      "order": null,
      "overflow": null,
      "overflow_x": null,
      "overflow_y": null,
      "padding": null,
      "right": null,
      "top": null,
      "visibility": null,
      "width": null
     }
    },
    "7de10c6560e540a999826ba2f167918f": {
     "model_module": "@jupyter-widgets/controls",
     "model_module_version": "1.5.0",
     "model_name": "ProgressStyleModel",
     "state": {
      "_model_module": "@jupyter-widgets/controls",
      "_model_module_version": "1.5.0",
      "_model_name": "ProgressStyleModel",
      "_view_count": null,
      "_view_module": "@jupyter-widgets/base",
      "_view_module_version": "1.2.0",
      "_view_name": "StyleView",
      "bar_color": null,
      "description_width": ""
     }
    },
    "8624847d60ff4f53a2228a03275edd1b": {
     "model_module": "@jupyter-widgets/controls",
     "model_module_version": "1.5.0",
     "model_name": "HTMLModel",
     "state": {
      "_dom_classes": [],
      "_model_module": "@jupyter-widgets/controls",
      "_model_module_version": "1.5.0",
      "_model_name": "HTMLModel",
      "_view_count": null,
      "_view_module": "@jupyter-widgets/controls",
      "_view_module_version": "1.5.0",
      "_view_name": "HTMLView",
      "description": "",
      "description_tooltip": null,
      "layout": "IPY_MODEL_f10d91782c404326a595c75a5e166db6",
      "placeholder": "​",
      "style": "IPY_MODEL_764dd1a0dde34a0fbd6b9d67b3cfdf5e",
      "value": "model.safetensors:  21%"
     }
    },
    "88311dd593ee4566a2ea7cdf461d02cf": {
     "model_module": "@jupyter-widgets/controls",
     "model_module_version": "1.5.0",
     "model_name": "FloatProgressModel",
     "state": {
      "_dom_classes": [],
      "_model_module": "@jupyter-widgets/controls",
      "_model_module_version": "1.5.0",
      "_model_name": "FloatProgressModel",
      "_view_count": null,
      "_view_module": "@jupyter-widgets/controls",
      "_view_module_version": "1.5.0",
      "_view_name": "ProgressView",
      "bar_style": "success",
      "description": "",
      "description_tooltip": null,
      "layout": "IPY_MODEL_795f66cb485c4dc8a4ec20a0ee54c9de",
      "max": 381,
      "min": 0,
      "orientation": "horizontal",
      "style": "IPY_MODEL_88e79752bfb8471f8b476079d6dbc8f0",
      "value": 381
     }
    },
    "88e79752bfb8471f8b476079d6dbc8f0": {
     "model_module": "@jupyter-widgets/controls",
     "model_module_version": "1.5.0",
     "model_name": "ProgressStyleModel",
     "state": {
      "_model_module": "@jupyter-widgets/controls",
      "_model_module_version": "1.5.0",
      "_model_name": "ProgressStyleModel",
      "_view_count": null,
      "_view_module": "@jupyter-widgets/base",
      "_view_module_version": "1.2.0",
      "_view_name": "StyleView",
      "bar_color": null,
      "description_width": ""
     }
    },
    "8ffcdb4c8d6b4e3d9aec5a2c24a87a59": {
     "model_module": "@jupyter-widgets/controls",
     "model_module_version": "1.5.0",
     "model_name": "HBoxModel",
     "state": {
      "_dom_classes": [],
      "_model_module": "@jupyter-widgets/controls",
      "_model_module_version": "1.5.0",
      "_model_name": "HBoxModel",
      "_view_count": null,
      "_view_module": "@jupyter-widgets/controls",
      "_view_module_version": "1.5.0",
      "_view_name": "HBoxView",
      "box_style": "",
      "children": [
       "IPY_MODEL_ad38fd4a48fa456e9249fda5bcf10958",
       "IPY_MODEL_a84fc84752b8404b9f2bf8207dbb0b2a",
       "IPY_MODEL_67b8b9c1cb324e0a93a1923dcf1e9273"
      ],
      "layout": "IPY_MODEL_d68d8e2e848940668132b69248706dbb"
     }
    },
    "91a53f3329874cb5a5d7a29b2b029f79": {
     "model_module": "@jupyter-widgets/base",
     "model_module_version": "1.2.0",
     "model_name": "LayoutModel",
     "state": {
      "_model_module": "@jupyter-widgets/base",
      "_model_module_version": "1.2.0",
      "_model_name": "LayoutModel",
      "_view_count": null,
      "_view_module": "@jupyter-widgets/base",
      "_view_module_version": "1.2.0",
      "_view_name": "LayoutView",
      "align_content": null,
      "align_items": null,
      "align_self": null,
      "border": null,
      "bottom": null,
      "display": null,
      "flex": null,
      "flex_flow": null,
      "grid_area": null,
      "grid_auto_columns": null,
      "grid_auto_flow": null,
      "grid_auto_rows": null,
      "grid_column": null,
      "grid_gap": null,
      "grid_row": null,
      "grid_template_areas": null,
      "grid_template_columns": null,
      "grid_template_rows": null,
      "height": null,
      "justify_content": null,
      "justify_items": null,
      "left": null,
      "margin": null,
      "max_height": null,
      "max_width": null,
      "min_height": null,
      "min_width": null,
      "object_fit": null,
      "object_position": null,
      "order": null,
      "overflow": null,
      "overflow_x": null,
      "overflow_y": null,
      "padding": null,
      "right": null,
      "top": null,
      "visibility": null,
      "width": null
     }
    },
    "948c37bd9dcc447fa321b74548f55e07": {
     "model_module": "@jupyter-widgets/controls",
     "model_module_version": "1.5.0",
     "model_name": "DescriptionStyleModel",
     "state": {
      "_model_module": "@jupyter-widgets/controls",
      "_model_module_version": "1.5.0",
      "_model_name": "DescriptionStyleModel",
      "_view_count": null,
      "_view_module": "@jupyter-widgets/base",
      "_view_module_version": "1.2.0",
      "_view_name": "StyleView",
      "description_width": ""
     }
    },
    "9a3ce98785004430bc93636b22b26aef": {
     "model_module": "@jupyter-widgets/controls",
     "model_module_version": "1.5.0",
     "model_name": "HTMLModel",
     "state": {
      "_dom_classes": [],
      "_model_module": "@jupyter-widgets/controls",
      "_model_module_version": "1.5.0",
      "_model_name": "HTMLModel",
      "_view_count": null,
      "_view_module": "@jupyter-widgets/controls",
      "_view_module_version": "1.5.0",
      "_view_name": "HTMLView",
      "description": "",
      "description_tooltip": null,
      "layout": "IPY_MODEL_760a9cdb3eda4558b1036fb7e5262c66",
      "placeholder": "​",
      "style": "IPY_MODEL_2efaa817462c408498e803eb516c599b",
      "value": "tokenizer_config.json: 100%"
     }
    },
    "9faed2576dd845c8acbf16e4977bfc32": {
     "model_module": "@jupyter-widgets/controls",
     "model_module_version": "1.5.0",
     "model_name": "HTMLModel",
     "state": {
      "_dom_classes": [],
      "_model_module": "@jupyter-widgets/controls",
      "_model_module_version": "1.5.0",
      "_model_name": "HTMLModel",
      "_view_count": null,
      "_view_module": "@jupyter-widgets/controls",
      "_view_module_version": "1.5.0",
      "_view_name": "HTMLView",
      "description": "",
      "description_tooltip": null,
      "layout": "IPY_MODEL_60d33d27250741fd85a58996c90531ab",
      "placeholder": "​",
      "style": "IPY_MODEL_f617fb40acc44139948a1ad15dfc1df3",
      "value": "special_tokens_map.json: 100%"
     }
    },
    "a84fc84752b8404b9f2bf8207dbb0b2a": {
     "model_module": "@jupyter-widgets/controls",
     "model_module_version": "1.5.0",
     "model_name": "FloatProgressModel",
     "state": {
      "_dom_classes": [],
      "_model_module": "@jupyter-widgets/controls",
      "_model_module_version": "1.5.0",
      "_model_name": "FloatProgressModel",
      "_view_count": null,
      "_view_module": "@jupyter-widgets/controls",
      "_view_module_version": "1.5.0",
      "_view_name": "ProgressView",
      "bar_style": "success",
      "description": "",
      "description_tooltip": null,
      "layout": "IPY_MODEL_7db168d9826243efa24c2328ff5dc0e7",
      "max": 824793,
      "min": 0,
      "orientation": "horizontal",
      "style": "IPY_MODEL_a8d7240805884433a934fc68ae101410",
      "value": 824793
     }
    },
    "a8d7240805884433a934fc68ae101410": {
     "model_module": "@jupyter-widgets/controls",
     "model_module_version": "1.5.0",
     "model_name": "ProgressStyleModel",
     "state": {
      "_model_module": "@jupyter-widgets/controls",
      "_model_module_version": "1.5.0",
      "_model_name": "ProgressStyleModel",
      "_view_count": null,
      "_view_module": "@jupyter-widgets/base",
      "_view_module_version": "1.2.0",
      "_view_name": "StyleView",
      "bar_color": null,
      "description_width": ""
     }
    },
    "ad38fd4a48fa456e9249fda5bcf10958": {
     "model_module": "@jupyter-widgets/controls",
     "model_module_version": "1.5.0",
     "model_name": "HTMLModel",
     "state": {
      "_dom_classes": [],
      "_model_module": "@jupyter-widgets/controls",
      "_model_module_version": "1.5.0",
      "_model_name": "HTMLModel",
      "_view_count": null,
      "_view_module": "@jupyter-widgets/controls",
      "_view_module_version": "1.5.0",
      "_view_name": "HTMLView",
      "description": "",
      "description_tooltip": null,
      "layout": "IPY_MODEL_f8202d06c53c4577ac899465584ac277",
      "placeholder": "​",
      "style": "IPY_MODEL_c7e1b2d852564c7a92696bc143339247",
      "value": "vocab.txt: 100%"
     }
    },
    "b03c91187a374ce9b6a55b802ac24a68": {
     "model_module": "@jupyter-widgets/controls",
     "model_module_version": "1.5.0",
     "model_name": "HTMLModel",
     "state": {
      "_dom_classes": [],
      "_model_module": "@jupyter-widgets/controls",
      "_model_module_version": "1.5.0",
      "_model_name": "HTMLModel",
      "_view_count": null,
      "_view_module": "@jupyter-widgets/controls",
      "_view_module_version": "1.5.0",
      "_view_name": "HTMLView",
      "description": "",
      "description_tooltip": null,
      "layout": "IPY_MODEL_f65226bcf1d84a38bf1a6ecbd40f2cf4",
      "placeholder": "​",
      "style": "IPY_MODEL_02f865bb013449b7a5d6758a1809f0fd",
      "value": " 381/381 [00:00&lt;00:00, 10.0kB/s]"
     }
    },
    "b376605bf03547c0a010be08c2d85d2c": {
     "model_module": "@jupyter-widgets/base",
     "model_module_version": "1.2.0",
     "model_name": "LayoutModel",
     "state": {
      "_model_module": "@jupyter-widgets/base",
      "_model_module_version": "1.2.0",
      "_model_name": "LayoutModel",
      "_view_count": null,
      "_view_module": "@jupyter-widgets/base",
      "_view_module_version": "1.2.0",
      "_view_name": "LayoutView",
      "align_content": null,
      "align_items": null,
      "align_self": null,
      "border": null,
      "bottom": null,
      "display": null,
      "flex": null,
      "flex_flow": null,
      "grid_area": null,
      "grid_auto_columns": null,
      "grid_auto_flow": null,
      "grid_auto_rows": null,
      "grid_column": null,
      "grid_gap": null,
      "grid_row": null,
      "grid_template_areas": null,
      "grid_template_columns": null,
      "grid_template_rows": null,
      "height": null,
      "justify_content": null,
      "justify_items": null,
      "left": null,
      "margin": null,
      "max_height": null,
      "max_width": null,
      "min_height": null,
      "min_width": null,
      "object_fit": null,
      "object_position": null,
      "order": null,
      "overflow": null,
      "overflow_x": null,
      "overflow_y": null,
      "padding": null,
      "right": null,
      "top": null,
      "visibility": null,
      "width": null
     }
    },
    "b6cee76662a148ecbeba49bea591d972": {
     "model_module": "@jupyter-widgets/base",
     "model_module_version": "1.2.0",
     "model_name": "LayoutModel",
     "state": {
      "_model_module": "@jupyter-widgets/base",
      "_model_module_version": "1.2.0",
      "_model_name": "LayoutModel",
      "_view_count": null,
      "_view_module": "@jupyter-widgets/base",
      "_view_module_version": "1.2.0",
      "_view_name": "LayoutView",
      "align_content": null,
      "align_items": null,
      "align_self": null,
      "border": null,
      "bottom": null,
      "display": null,
      "flex": null,
      "flex_flow": null,
      "grid_area": null,
      "grid_auto_columns": null,
      "grid_auto_flow": null,
      "grid_auto_rows": null,
      "grid_column": null,
      "grid_gap": null,
      "grid_row": null,
      "grid_template_areas": null,
      "grid_template_columns": null,
      "grid_template_rows": null,
      "height": null,
      "justify_content": null,
      "justify_items": null,
      "left": null,
      "margin": null,
      "max_height": null,
      "max_width": null,
      "min_height": null,
      "min_width": null,
      "object_fit": null,
      "object_position": null,
      "order": null,
      "overflow": null,
      "overflow_x": null,
      "overflow_y": null,
      "padding": null,
      "right": null,
      "top": null,
      "visibility": null,
      "width": null
     }
    },
    "bc01b388dab341559f66fe9bad06b606": {
     "model_module": "@jupyter-widgets/controls",
     "model_module_version": "1.5.0",
     "model_name": "ProgressStyleModel",
     "state": {
      "_model_module": "@jupyter-widgets/controls",
      "_model_module_version": "1.5.0",
      "_model_name": "ProgressStyleModel",
      "_view_count": null,
      "_view_module": "@jupyter-widgets/base",
      "_view_module_version": "1.2.0",
      "_view_name": "StyleView",
      "bar_color": null,
      "description_width": ""
     }
    },
    "c7e1b2d852564c7a92696bc143339247": {
     "model_module": "@jupyter-widgets/controls",
     "model_module_version": "1.5.0",
     "model_name": "DescriptionStyleModel",
     "state": {
      "_model_module": "@jupyter-widgets/controls",
      "_model_module_version": "1.5.0",
      "_model_name": "DescriptionStyleModel",
      "_view_count": null,
      "_view_module": "@jupyter-widgets/base",
      "_view_module_version": "1.2.0",
      "_view_name": "StyleView",
      "description_width": ""
     }
    },
    "c7e32382bc974fec9f23b728516243d0": {
     "model_module": "@jupyter-widgets/base",
     "model_module_version": "1.2.0",
     "model_name": "LayoutModel",
     "state": {
      "_model_module": "@jupyter-widgets/base",
      "_model_module_version": "1.2.0",
      "_model_name": "LayoutModel",
      "_view_count": null,
      "_view_module": "@jupyter-widgets/base",
      "_view_module_version": "1.2.0",
      "_view_name": "LayoutView",
      "align_content": null,
      "align_items": null,
      "align_self": null,
      "border": null,
      "bottom": null,
      "display": null,
      "flex": null,
      "flex_flow": null,
      "grid_area": null,
      "grid_auto_columns": null,
      "grid_auto_flow": null,
      "grid_auto_rows": null,
      "grid_column": null,
      "grid_gap": null,
      "grid_row": null,
      "grid_template_areas": null,
      "grid_template_columns": null,
      "grid_template_rows": null,
      "height": null,
      "justify_content": null,
      "justify_items": null,
      "left": null,
      "margin": null,
      "max_height": null,
      "max_width": null,
      "min_height": null,
      "min_width": null,
      "object_fit": null,
      "object_position": null,
      "order": null,
      "overflow": null,
      "overflow_x": null,
      "overflow_y": null,
      "padding": null,
      "right": null,
      "top": null,
      "visibility": null,
      "width": null
     }
    },
    "d2b35dff7e094b69b35feea5d6dd7d72": {
     "model_module": "@jupyter-widgets/controls",
     "model_module_version": "1.5.0",
     "model_name": "HTMLModel",
     "state": {
      "_dom_classes": [],
      "_model_module": "@jupyter-widgets/controls",
      "_model_module_version": "1.5.0",
      "_model_name": "HTMLModel",
      "_view_count": null,
      "_view_module": "@jupyter-widgets/controls",
      "_view_module_version": "1.5.0",
      "_view_name": "HTMLView",
      "description": "",
      "description_tooltip": null,
      "layout": "IPY_MODEL_10332f078b1f4d9d94a808617ee14594",
      "placeholder": "​",
      "style": "IPY_MODEL_285d9ba715ab48dd88aca5d4aaa61838",
      "value": " 112/112 [00:00&lt;00:00, 3.02kB/s]"
     }
    },
    "d68d8e2e848940668132b69248706dbb": {
     "model_module": "@jupyter-widgets/base",
     "model_module_version": "1.2.0",
     "model_name": "LayoutModel",
     "state": {
      "_model_module": "@jupyter-widgets/base",
      "_model_module_version": "1.2.0",
      "_model_name": "LayoutModel",
      "_view_count": null,
      "_view_module": "@jupyter-widgets/base",
      "_view_module_version": "1.2.0",
      "_view_name": "LayoutView",
      "align_content": null,
      "align_items": null,
      "align_self": null,
      "border": null,
      "bottom": null,
      "display": null,
      "flex": null,
      "flex_flow": null,
      "grid_area": null,
      "grid_auto_columns": null,
      "grid_auto_flow": null,
      "grid_auto_rows": null,
      "grid_column": null,
      "grid_gap": null,
      "grid_row": null,
      "grid_template_areas": null,
      "grid_template_columns": null,
      "grid_template_rows": null,
      "height": null,
      "justify_content": null,
      "justify_items": null,
      "left": null,
      "margin": null,
      "max_height": null,
      "max_width": null,
      "min_height": null,
      "min_width": null,
      "object_fit": null,
      "object_position": null,
      "order": null,
      "overflow": null,
      "overflow_x": null,
      "overflow_y": null,
      "padding": null,
      "right": null,
      "top": null,
      "visibility": null,
      "width": null
     }
    },
    "d92d5b71dcbe48d399a711288fb07a74": {
     "model_module": "@jupyter-widgets/controls",
     "model_module_version": "1.5.0",
     "model_name": "FloatProgressModel",
     "state": {
      "_dom_classes": [],
      "_model_module": "@jupyter-widgets/controls",
      "_model_module_version": "1.5.0",
      "_model_name": "FloatProgressModel",
      "_view_count": null,
      "_view_module": "@jupyter-widgets/controls",
      "_view_module_version": "1.5.0",
      "_view_name": "ProgressView",
      "bar_style": "success",
      "description": "",
      "description_tooltip": null,
      "layout": "IPY_MODEL_91a53f3329874cb5a5d7a29b2b029f79",
      "max": 2642362,
      "min": 0,
      "orientation": "horizontal",
      "style": "IPY_MODEL_7de10c6560e540a999826ba2f167918f",
      "value": 2642362
     }
    },
    "ebb91ecd116f4f79981137fc5c472040": {
     "model_module": "@jupyter-widgets/base",
     "model_module_version": "1.2.0",
     "model_name": "LayoutModel",
     "state": {
      "_model_module": "@jupyter-widgets/base",
      "_model_module_version": "1.2.0",
      "_model_name": "LayoutModel",
      "_view_count": null,
      "_view_module": "@jupyter-widgets/base",
      "_view_module_version": "1.2.0",
      "_view_name": "LayoutView",
      "align_content": null,
      "align_items": null,
      "align_self": null,
      "border": null,
      "bottom": null,
      "display": null,
      "flex": null,
      "flex_flow": null,
      "grid_area": null,
      "grid_auto_columns": null,
      "grid_auto_flow": null,
      "grid_auto_rows": null,
      "grid_column": null,
      "grid_gap": null,
      "grid_row": null,
      "grid_template_areas": null,
      "grid_template_columns": null,
      "grid_template_rows": null,
      "height": null,
      "justify_content": null,
      "justify_items": null,
      "left": null,
      "margin": null,
      "max_height": null,
      "max_width": null,
      "min_height": null,
      "min_width": null,
      "object_fit": null,
      "object_position": null,
      "order": null,
      "overflow": null,
      "overflow_x": null,
      "overflow_y": null,
      "padding": null,
      "right": null,
      "top": null,
      "visibility": null,
      "width": null
     }
    },
    "f046ead775b7433cb8baf4d7f2451632": {
     "model_module": "@jupyter-widgets/base",
     "model_module_version": "1.2.0",
     "model_name": "LayoutModel",
     "state": {
      "_model_module": "@jupyter-widgets/base",
      "_model_module_version": "1.2.0",
      "_model_name": "LayoutModel",
      "_view_count": null,
      "_view_module": "@jupyter-widgets/base",
      "_view_module_version": "1.2.0",
      "_view_name": "LayoutView",
      "align_content": null,
      "align_items": null,
      "align_self": null,
      "border": null,
      "bottom": null,
      "display": null,
      "flex": null,
      "flex_flow": null,
      "grid_area": null,
      "grid_auto_columns": null,
      "grid_auto_flow": null,
      "grid_auto_rows": null,
      "grid_column": null,
      "grid_gap": null,
      "grid_row": null,
      "grid_template_areas": null,
      "grid_template_columns": null,
      "grid_template_rows": null,
      "height": null,
      "justify_content": null,
      "justify_items": null,
      "left": null,
      "margin": null,
      "max_height": null,
      "max_width": null,
      "min_height": null,
      "min_width": null,
      "object_fit": null,
      "object_position": null,
      "order": null,
      "overflow": null,
      "overflow_x": null,
      "overflow_y": null,
      "padding": null,
      "right": null,
      "top": null,
      "visibility": null,
      "width": null
     }
    },
    "f10d91782c404326a595c75a5e166db6": {
     "model_module": "@jupyter-widgets/base",
     "model_module_version": "1.2.0",
     "model_name": "LayoutModel",
     "state": {
      "_model_module": "@jupyter-widgets/base",
      "_model_module_version": "1.2.0",
      "_model_name": "LayoutModel",
      "_view_count": null,
      "_view_module": "@jupyter-widgets/base",
      "_view_module_version": "1.2.0",
      "_view_name": "LayoutView",
      "align_content": null,
      "align_items": null,
      "align_self": null,
      "border": null,
      "bottom": null,
      "display": null,
      "flex": null,
      "flex_flow": null,
      "grid_area": null,
      "grid_auto_columns": null,
      "grid_auto_flow": null,
      "grid_auto_rows": null,
      "grid_column": null,
      "grid_gap": null,
      "grid_row": null,
      "grid_template_areas": null,
      "grid_template_columns": null,
      "grid_template_rows": null,
      "height": null,
      "justify_content": null,
      "justify_items": null,
      "left": null,
      "margin": null,
      "max_height": null,
      "max_width": null,
      "min_height": null,
      "min_width": null,
      "object_fit": null,
      "object_position": null,
      "order": null,
      "overflow": null,
      "overflow_x": null,
      "overflow_y": null,
      "padding": null,
      "right": null,
      "top": null,
      "visibility": null,
      "width": null
     }
    },
    "f2ae2d9b105c4e83919c364482e851cb": {
     "model_module": "@jupyter-widgets/base",
     "model_module_version": "1.2.0",
     "model_name": "LayoutModel",
     "state": {
      "_model_module": "@jupyter-widgets/base",
      "_model_module_version": "1.2.0",
      "_model_name": "LayoutModel",
      "_view_count": null,
      "_view_module": "@jupyter-widgets/base",
      "_view_module_version": "1.2.0",
      "_view_name": "LayoutView",
      "align_content": null,
      "align_items": null,
      "align_self": null,
      "border": null,
      "bottom": null,
      "display": null,
      "flex": null,
      "flex_flow": null,
      "grid_area": null,
      "grid_auto_columns": null,
      "grid_auto_flow": null,
      "grid_auto_rows": null,
      "grid_column": null,
      "grid_gap": null,
      "grid_row": null,
      "grid_template_areas": null,
      "grid_template_columns": null,
      "grid_template_rows": null,
      "height": null,
      "justify_content": null,
      "justify_items": null,
      "left": null,
      "margin": null,
      "max_height": null,
      "max_width": null,
      "min_height": null,
      "min_width": null,
      "object_fit": null,
      "object_position": null,
      "order": null,
      "overflow": null,
      "overflow_x": null,
      "overflow_y": null,
      "padding": null,
      "right": null,
      "top": null,
      "visibility": null,
      "width": null
     }
    },
    "f46f9d3354e642e99b5d5131b9d79b3d": {
     "model_module": "@jupyter-widgets/controls",
     "model_module_version": "1.5.0",
     "model_name": "HTMLModel",
     "state": {
      "_dom_classes": [],
      "_model_module": "@jupyter-widgets/controls",
      "_model_module_version": "1.5.0",
      "_model_name": "HTMLModel",
      "_view_count": null,
      "_view_module": "@jupyter-widgets/controls",
      "_view_module_version": "1.5.0",
      "_view_name": "HTMLView",
      "description": "",
      "description_tooltip": null,
      "layout": "IPY_MODEL_30d8ad068b154a439e29baf184bc1c49",
      "placeholder": "​",
      "style": "IPY_MODEL_33c0353ddd8a4ed5a71ce3489259ce3b",
      "value": "config.json: 100%"
     }
    },
    "f617fb40acc44139948a1ad15dfc1df3": {
     "model_module": "@jupyter-widgets/controls",
     "model_module_version": "1.5.0",
     "model_name": "DescriptionStyleModel",
     "state": {
      "_model_module": "@jupyter-widgets/controls",
      "_model_module_version": "1.5.0",
      "_model_name": "DescriptionStyleModel",
      "_view_count": null,
      "_view_module": "@jupyter-widgets/base",
      "_view_module_version": "1.2.0",
      "_view_name": "StyleView",
      "description_width": ""
     }
    },
    "f65226bcf1d84a38bf1a6ecbd40f2cf4": {
     "model_module": "@jupyter-widgets/base",
     "model_module_version": "1.2.0",
     "model_name": "LayoutModel",
     "state": {
      "_model_module": "@jupyter-widgets/base",
      "_model_module_version": "1.2.0",
      "_model_name": "LayoutModel",
      "_view_count": null,
      "_view_module": "@jupyter-widgets/base",
      "_view_module_version": "1.2.0",
      "_view_name": "LayoutView",
      "align_content": null,
      "align_items": null,
      "align_self": null,
      "border": null,
      "bottom": null,
      "display": null,
      "flex": null,
      "flex_flow": null,
      "grid_area": null,
      "grid_auto_columns": null,
      "grid_auto_flow": null,
      "grid_auto_rows": null,
      "grid_column": null,
      "grid_gap": null,
      "grid_row": null,
      "grid_template_areas": null,
      "grid_template_columns": null,
      "grid_template_rows": null,
      "height": null,
      "justify_content": null,
      "justify_items": null,
      "left": null,
      "margin": null,
      "max_height": null,
      "max_width": null,
      "min_height": null,
      "min_width": null,
      "object_fit": null,
      "object_position": null,
      "order": null,
      "overflow": null,
      "overflow_x": null,
      "overflow_y": null,
      "padding": null,
      "right": null,
      "top": null,
      "visibility": null,
      "width": null
     }
    },
    "f8202d06c53c4577ac899465584ac277": {
     "model_module": "@jupyter-widgets/base",
     "model_module_version": "1.2.0",
     "model_name": "LayoutModel",
     "state": {
      "_model_module": "@jupyter-widgets/base",
      "_model_module_version": "1.2.0",
      "_model_name": "LayoutModel",
      "_view_count": null,
      "_view_module": "@jupyter-widgets/base",
      "_view_module_version": "1.2.0",
      "_view_name": "LayoutView",
      "align_content": null,
      "align_items": null,
      "align_self": null,
      "border": null,
      "bottom": null,
      "display": null,
      "flex": null,
      "flex_flow": null,
      "grid_area": null,
      "grid_auto_columns": null,
      "grid_auto_flow": null,
      "grid_auto_rows": null,
      "grid_column": null,
      "grid_gap": null,
      "grid_row": null,
      "grid_template_areas": null,
      "grid_template_columns": null,
      "grid_template_rows": null,
      "height": null,
      "justify_content": null,
      "justify_items": null,
      "left": null,
      "margin": null,
      "max_height": null,
      "max_width": null,
      "min_height": null,
      "min_width": null,
      "object_fit": null,
      "object_position": null,
      "order": null,
      "overflow": null,
      "overflow_x": null,
      "overflow_y": null,
      "padding": null,
      "right": null,
      "top": null,
      "visibility": null,
      "width": null
     }
    },
    "fa78498d9ce2421081e05b57f09a587c": {
     "model_module": "@jupyter-widgets/base",
     "model_module_version": "1.2.0",
     "model_name": "LayoutModel",
     "state": {
      "_model_module": "@jupyter-widgets/base",
      "_model_module_version": "1.2.0",
      "_model_name": "LayoutModel",
      "_view_count": null,
      "_view_module": "@jupyter-widgets/base",
      "_view_module_version": "1.2.0",
      "_view_name": "LayoutView",
      "align_content": null,
      "align_items": null,
      "align_self": null,
      "border": null,
      "bottom": null,
      "display": null,
      "flex": null,
      "flex_flow": null,
      "grid_area": null,
      "grid_auto_columns": null,
      "grid_auto_flow": null,
      "grid_auto_rows": null,
      "grid_column": null,
      "grid_gap": null,
      "grid_row": null,
      "grid_template_areas": null,
      "grid_template_columns": null,
      "grid_template_rows": null,
      "height": null,
      "justify_content": null,
      "justify_items": null,
      "left": null,
      "margin": null,
      "max_height": null,
      "max_width": null,
      "min_height": null,
      "min_width": null,
      "object_fit": null,
      "object_position": null,
      "order": null,
      "overflow": null,
      "overflow_x": null,
      "overflow_y": null,
      "padding": null,
      "right": null,
      "top": null,
      "visibility": null,
      "width": null
     }
    },
    "fbdaabff9eb94ed5902f30b9e71dae86": {
     "model_module": "@jupyter-widgets/base",
     "model_module_version": "1.2.0",
     "model_name": "LayoutModel",
     "state": {
      "_model_module": "@jupyter-widgets/base",
      "_model_module_version": "1.2.0",
      "_model_name": "LayoutModel",
      "_view_count": null,
      "_view_module": "@jupyter-widgets/base",
      "_view_module_version": "1.2.0",
      "_view_name": "LayoutView",
      "align_content": null,
      "align_items": null,
      "align_self": null,
      "border": null,
      "bottom": null,
      "display": null,
      "flex": null,
      "flex_flow": null,
      "grid_area": null,
      "grid_auto_columns": null,
      "grid_auto_flow": null,
      "grid_auto_rows": null,
      "grid_column": null,
      "grid_gap": null,
      "grid_row": null,
      "grid_template_areas": null,
      "grid_template_columns": null,
      "grid_template_rows": null,
      "height": null,
      "justify_content": null,
      "justify_items": null,
      "left": null,
      "margin": null,
      "max_height": null,
      "max_width": null,
      "min_height": null,
      "min_width": null,
      "object_fit": null,
      "object_position": null,
      "order": null,
      "overflow": null,
      "overflow_x": null,
      "overflow_y": null,
      "padding": null,
      "right": null,
      "top": null,
      "visibility": null,
      "width": null
     }
    }
   }
  }
 },
 "nbformat": 4,
 "nbformat_minor": 1
}
