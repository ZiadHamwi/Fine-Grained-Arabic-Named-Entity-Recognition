{
 "cells": [
  {
   "cell_type": "code",
   "execution_count": 1,
   "id": "512e06e4",
   "metadata": {
    "tags": []
   },
   "outputs": [
    {
     "name": "stderr",
     "output_type": "stream",
     "text": [
      "/home/mke37/.local/lib/python3.10/site-packages/pandas/core/arrays/masked.py:60: UserWarning: Pandas requires version '1.3.6' or newer of 'bottleneck' (version '1.3.5' currently installed).\n",
      "  from pandas.core import (\n",
      "2024-06-13 03:50:18.307372: E external/local_xla/xla/stream_executor/cuda/cuda_dnn.cc:9261] Unable to register cuDNN factory: Attempting to register factory for plugin cuDNN when one has already been registered\n",
      "2024-06-13 03:50:18.310415: E external/local_xla/xla/stream_executor/cuda/cuda_fft.cc:607] Unable to register cuFFT factory: Attempting to register factory for plugin cuFFT when one has already been registered\n",
      "2024-06-13 03:50:18.312167: E external/local_xla/xla/stream_executor/cuda/cuda_blas.cc:1515] Unable to register cuBLAS factory: Attempting to register factory for plugin cuBLAS when one has already been registered\n",
      "2024-06-13 03:50:18.339358: I tensorflow/core/platform/cpu_feature_guard.cc:182] This TensorFlow binary is optimized to use available CPU instructions in performance-critical operations.\n",
      "To enable the following instructions: AVX2 FMA, in other operations, rebuild TensorFlow with the appropriate compiler flags.\n",
      "2024-06-13 03:50:24.246426: W tensorflow/compiler/tf2tensorrt/utils/py_utils.cc:38] TF-TRT Warning: Could not find TensorRT\n",
      "/home/mke37/.local/lib/python3.10/site-packages/fuzzywuzzy/fuzz.py:11: UserWarning: Using slow pure-python SequenceMatcher. Install python-Levenshtein to remove this warning\n",
      "  warnings.warn('Using slow pure-python SequenceMatcher. Install python-Levenshtein to remove this warning')\n"
     ]
    }
   ],
   "source": [
    "from preprocess import NERDataset\n",
    "from cleaning import DataReader\n",
    "import numpy as np\n",
    "from utils import compute_metrics, get_label_map, get_inv_label_map, read_labels\n",
    "from tqdm.notebook import tqdm\n",
    "from sklearn.model_selection import train_test_split\n",
    "from transformers import AutoTokenizer, BertForTokenClassification, AdamW, get_linear_schedule_with_warmup\n",
    "from torch.utils.data import DataLoader\n",
    "import torch\n",
    "from torch import nn\n",
    "from config import Config\n",
    "\n",
    "from transformers import AutoTokenizer, BertForTokenClassification # Import AutoTokenizer and BertForTokenClassification from the transformers library for NLP tasks.\n",
    "import torch # Import the PyTorch library for tensor computations and deep learning.\n",
    "import numpy as np # Import NumPy for numerical operations and array manipulations.\n",
    "import argparse # Import argparse for parsing command-line arguments.\n",
    "from typing import List # Import List from the typing module for type annotations.\n",
    "from config import Config # Import Config class from the config module, used for loading and accessing configuration settings.\n",
    "# Import utility functions: read_labels (to read label data), get_label_map and get_inv_label_map (for mapping labels to indices and vice versa).\n",
    "from utils import read_labels, get_label_map, get_inv_label_map\n",
    "import argparse # Re-import argparse (duplicate import, not necessary).\n",
    "import sys # Import sys for interacting with the Python interpreter (e.g., command-line arguments, system exit).\n",
    "\n",
    "import os\n",
    "import numpy as np\n",
    "from fuzzywuzzy import fuzz\n",
    "import re\n",
    "\n",
    "import torch.nn.functional as F\n",
    "from typing import Tuple"
   ]
  },
  {
   "cell_type": "code",
   "execution_count": 2,
   "id": "981fe364-a328-428b-a3a4-4e20b247a353",
   "metadata": {
    "tags": []
   },
   "outputs": [
    {
     "name": "stdout",
     "output_type": "stream",
     "text": [
      "DONE!\n"
     ]
    }
   ],
   "source": [
    "sentences = []\n",
    "labels = []\n",
    "\n",
    "curr_sentence = []\n",
    "curr_labels = []\n",
    "\n",
    "with open(\"Labeled_SemiLabeledData_G.txt\", \"r\") as file:\n",
    "    for line in file:\n",
    "        if line != \"\\n\":\n",
    "            label = line.split()[0]\n",
    "            word = line.split()[1]\n",
    "            \n",
    "            curr_sentence.append(word)\n",
    "            curr_labels.append(label)\n",
    "        else:\n",
    "            sentences.append(curr_sentence)\n",
    "            labels.append(curr_labels)\n",
    "            curr_sentence = []\n",
    "            curr_labels = []\n",
    "            \n",
    "print(\"DONE!\")           "
   ]
  },
  {
   "cell_type": "code",
   "execution_count": 3,
   "id": "a4d6ee6f-85ed-48bf-8dda-d342f0f854e7",
   "metadata": {
    "tags": []
   },
   "outputs": [
    {
     "name": "stdout",
     "output_type": "stream",
     "text": [
      "21726 21726\n",
      "['يعد', 'مرض', 'آلزهايمر', 'واحدا', 'من', 'أكثر', 'الأمراض', 'كلفة', 'مالية', 'في', 'الدول', 'المتقدمة', '.']\n",
      "['OUTSIDE', 'OUTSIDE', 'B-Disease', 'OUTSIDE', 'OUTSIDE', 'OUTSIDE', 'OUTSIDE', 'OUTSIDE', 'OUTSIDE', 'OUTSIDE', 'OUTSIDE', 'OUTSIDE', 'OUTSIDE']\n"
     ]
    }
   ],
   "source": [
    "print(len(sentences), len(labels))\n",
    "print(sentences[-1])\n",
    "print(labels[-1])"
   ]
  },
  {
   "cell_type": "code",
   "execution_count": 4,
   "id": "b29445eb-47f8-4547-a7ee-959a7ff9460a",
   "metadata": {
    "tags": []
   },
   "outputs": [],
   "source": [
    "def remove_diacritics(text):\n",
    "    return re.sub(re.compile(r'[\\u0617-\\u061A\\u064B-\\u0652]'),\"\", text)"
   ]
  },
  {
   "cell_type": "code",
   "execution_count": 5,
   "id": "812d67ae-7f4f-43e5-a115-0e25656e13f6",
   "metadata": {
    "tags": []
   },
   "outputs": [],
   "source": [
    "for i in range(len(sentences)):\n",
    "    for j in range(len(sentences[i])):\n",
    "        sentences[i][j] = remove_diacritics(sentences[i][j])"
   ]
  },
  {
   "cell_type": "code",
   "execution_count": 6,
   "id": "c6eaee22",
   "metadata": {
    "tags": []
   },
   "outputs": [
    {
     "name": "stdout",
     "output_type": "stream",
     "text": [
      "Data: 21726 , Sentences: 21726 , Tags: 21726\n",
      "Data: 856 , Sentences: 856 , Tags: 856\n"
     ]
    },
    {
     "name": "stderr",
     "output_type": "stream",
     "text": [
      "Some weights of BertForTokenClassification were not initialized from the model checkpoint at aubmindlab/bert-base-arabertv02 and are newly initialized: ['classifier.bias', 'classifier.weight']\n",
      "You should probably TRAIN this model on a down-stream task to be able to use it for predictions and inference.\n"
     ]
    },
    {
     "name": "stdout",
     "output_type": "stream",
     "text": [
      "Training Epoch: 1\n"
     ]
    },
    {
     "name": "stderr",
     "output_type": "stream",
     "text": [
      "/apps/sw/miniconda/envs/transformers-r1/lib/python3.10/site-packages/transformers/optimization.py:411: FutureWarning: This implementation of AdamW is deprecated and will be removed in a future version. Use the PyTorch implementation torch.optim.AdamW instead, or set `no_deprecation_warning=True` to disable this warning\n",
      "  warnings.warn(\n"
     ]
    },
    {
     "data": {
      "application/vnd.jupyter.widget-view+json": {
       "model_id": "7e096bb8078b4970bc839088c161f590",
       "version_major": 2,
       "version_minor": 0
      },
      "text/plain": [
       "  0%|          | 0/1358 [00:00<?, ?it/s]"
      ]
     },
     "metadata": {},
     "output_type": "display_data"
    },
    {
     "name": "stdout",
     "output_type": "stream",
     "text": [
      "Train loss: 0.23477632877456686\n",
      "Evaluating Epoch: 1\n"
     ]
    },
    {
     "data": {
      "application/vnd.jupyter.widget-view+json": {
       "model_id": "ab9427feac074a2294c62ecf621ab68d",
       "version_major": 2,
       "version_minor": 0
      },
      "text/plain": [
       "  0%|          | 0/54 [00:00<?, ?it/s]"
      ]
     },
     "metadata": {},
     "output_type": "display_data"
    },
    {
     "name": "stderr",
     "output_type": "stream",
     "text": [
      "/home/mke37/.local/lib/python3.10/site-packages/seqeval/metrics/sequence_labeling.py:171: UserWarning: OUTSIDE seems not to be NE tag.\n",
      "  warnings.warn('{} seems not to be NE tag.'.format(chunk))\n"
     ]
    },
    {
     "name": "stdout",
     "output_type": "stream",
     "text": [
      "Eval loss: 0.5748514632383982\n",
      "Eval Metrics: {'accuracy_score': 0.8881679201691, 'precision': 0.5973154362416108, 'recall': 0.5021701388888888, 'f1': 0.5456260315963216}\n",
      "Training Epoch: 2\n"
     ]
    },
    {
     "data": {
      "application/vnd.jupyter.widget-view+json": {
       "model_id": "d8b6cd10ef354f2fa59bf1f1efbed5d4",
       "version_major": 2,
       "version_minor": 0
      },
      "text/plain": [
       "  0%|          | 0/1358 [00:00<?, ?it/s]"
      ]
     },
     "metadata": {},
     "output_type": "display_data"
    },
    {
     "name": "stdout",
     "output_type": "stream",
     "text": [
      "Train loss: 0.11477315382941439\n",
      "Evaluating Epoch: 2\n"
     ]
    },
    {
     "data": {
      "application/vnd.jupyter.widget-view+json": {
       "model_id": "c672888fa99c45699582cef69ecbd9f2",
       "version_major": 2,
       "version_minor": 0
      },
      "text/plain": [
       "  0%|          | 0/54 [00:00<?, ?it/s]"
      ]
     },
     "metadata": {},
     "output_type": "display_data"
    },
    {
     "name": "stdout",
     "output_type": "stream",
     "text": [
      "Eval loss: 0.5408632370332876\n",
      "Eval Metrics: {'accuracy_score': 0.8917563781153223, 'precision': 0.6184074457083765, 'recall': 0.5190972222222222, 'f1': 0.5644171779141104}\n",
      "Training Epoch: 3\n"
     ]
    },
    {
     "data": {
      "application/vnd.jupyter.widget-view+json": {
       "model_id": "587d70dfddf847c382e2781c8434e200",
       "version_major": 2,
       "version_minor": 0
      },
      "text/plain": [
       "  0%|          | 0/1358 [00:00<?, ?it/s]"
      ]
     },
     "metadata": {},
     "output_type": "display_data"
    },
    {
     "name": "stdout",
     "output_type": "stream",
     "text": [
      "Train loss: 0.08661249982102587\n",
      "Evaluating Epoch: 3\n"
     ]
    },
    {
     "data": {
      "application/vnd.jupyter.widget-view+json": {
       "model_id": "ccb2e7836648481d911c275f212a8fe9",
       "version_major": 2,
       "version_minor": 0
      },
      "text/plain": [
       "  0%|          | 0/54 [00:00<?, ?it/s]"
      ]
     },
     "metadata": {},
     "output_type": "display_data"
    },
    {
     "name": "stdout",
     "output_type": "stream",
     "text": [
      "Eval loss: 0.6762121099012869\n",
      "Eval Metrics: {'accuracy_score': 0.8894460010814531, 'precision': 0.6186666666666667, 'recall': 0.5034722222222222, 'f1': 0.5551567360612587}\n",
      "Training Epoch: 4\n"
     ]
    },
    {
     "data": {
      "application/vnd.jupyter.widget-view+json": {
       "model_id": "d84507688f3744dabc57d0b0161d8687",
       "version_major": 2,
       "version_minor": 0
      },
      "text/plain": [
       "  0%|          | 0/1358 [00:00<?, ?it/s]"
      ]
     },
     "metadata": {},
     "output_type": "display_data"
    },
    {
     "name": "stdout",
     "output_type": "stream",
     "text": [
      "Train loss: 0.07004266916685059\n",
      "Evaluating Epoch: 4\n"
     ]
    },
    {
     "data": {
      "application/vnd.jupyter.widget-view+json": {
       "model_id": "179597d8722345989538d586cebb50a1",
       "version_major": 2,
       "version_minor": 0
      },
      "text/plain": [
       "  0%|          | 0/54 [00:00<?, ?it/s]"
      ]
     },
     "metadata": {},
     "output_type": "display_data"
    },
    {
     "name": "stdout",
     "output_type": "stream",
     "text": [
      "Eval loss: 0.74682352402144\n",
      "Eval Metrics: {'accuracy_score': 0.8916580641989874, 'precision': 0.6292073832790445, 'recall': 0.5030381944444444, 'f1': 0.5590931017848529}\n",
      "Training Epoch: 5\n"
     ]
    },
    {
     "data": {
      "application/vnd.jupyter.widget-view+json": {
       "model_id": "ffbc6e6d26884d8e924e308cb83772c9",
       "version_major": 2,
       "version_minor": 0
      },
      "text/plain": [
       "  0%|          | 0/1358 [00:00<?, ?it/s]"
      ]
     },
     "metadata": {},
     "output_type": "display_data"
    },
    {
     "name": "stdout",
     "output_type": "stream",
     "text": [
      "Train loss: 0.05957132014507683\n",
      "Evaluating Epoch: 5\n"
     ]
    },
    {
     "data": {
      "application/vnd.jupyter.widget-view+json": {
       "model_id": "e5abc379a9f04f3d956780ac03d4d467",
       "version_major": 2,
       "version_minor": 0
      },
      "text/plain": [
       "  0%|          | 0/54 [00:00<?, ?it/s]"
      ]
     },
     "metadata": {},
     "output_type": "display_data"
    },
    {
     "name": "stdout",
     "output_type": "stream",
     "text": [
      "Eval loss: 0.7287734589642949\n",
      "Eval Metrics: {'accuracy_score': 0.8891510593324485, 'precision': 0.6075819672131147, 'recall': 0.5147569444444444, 'f1': 0.5573308270676691}\n",
      "Training Epoch: 6\n"
     ]
    },
    {
     "data": {
      "application/vnd.jupyter.widget-view+json": {
       "model_id": "608902c13bbd410995a8043605712838",
       "version_major": 2,
       "version_minor": 0
      },
      "text/plain": [
       "  0%|          | 0/1358 [00:00<?, ?it/s]"
      ]
     },
     "metadata": {},
     "output_type": "display_data"
    },
    {
     "name": "stdout",
     "output_type": "stream",
     "text": [
      "Train loss: 0.05193037115790455\n",
      "Evaluating Epoch: 6\n"
     ]
    },
    {
     "data": {
      "application/vnd.jupyter.widget-view+json": {
       "model_id": "5e308a1f6e104782bb2b7cf7b3fe597d",
       "version_major": 2,
       "version_minor": 0
      },
      "text/plain": [
       "  0%|          | 0/54 [00:00<?, ?it/s]"
      ]
     },
     "metadata": {},
     "output_type": "display_data"
    },
    {
     "name": "stdout",
     "output_type": "stream",
     "text": [
      "Eval loss: 0.8035496779614024\n",
      "Eval Metrics: {'accuracy_score': 0.8912156515754805, 'precision': 0.6133886870783601, 'recall': 0.5130208333333334, 'f1': 0.558733160009454}\n",
      "Training Epoch: 7\n"
     ]
    },
    {
     "data": {
      "application/vnd.jupyter.widget-view+json": {
       "model_id": "f6a5275003564ecab1c531e35e1f424b",
       "version_major": 2,
       "version_minor": 0
      },
      "text/plain": [
       "  0%|          | 0/1358 [00:00<?, ?it/s]"
      ]
     },
     "metadata": {},
     "output_type": "display_data"
    },
    {
     "name": "stdout",
     "output_type": "stream",
     "text": [
      "Train loss: 0.045537479612043616\n",
      "Evaluating Epoch: 7\n"
     ]
    },
    {
     "data": {
      "application/vnd.jupyter.widget-view+json": {
       "model_id": "afda3bd31e0440a89a7007a5819d5111",
       "version_major": 2,
       "version_minor": 0
      },
      "text/plain": [
       "  0%|          | 0/54 [00:00<?, ?it/s]"
      ]
     },
     "metadata": {},
     "output_type": "display_data"
    },
    {
     "name": "stdout",
     "output_type": "stream",
     "text": [
      "Eval loss: 0.8299842783146434\n",
      "Eval Metrics: {'accuracy_score': 0.8915597502826526, 'precision': 0.6197183098591549, 'recall': 0.515625, 'f1': 0.5628997867803838}\n",
      "Training Epoch: 8\n"
     ]
    },
    {
     "data": {
      "application/vnd.jupyter.widget-view+json": {
       "model_id": "2d89b2017e7f4c09a456eb7df861a368",
       "version_major": 2,
       "version_minor": 0
      },
      "text/plain": [
       "  0%|          | 0/1358 [00:00<?, ?it/s]"
      ]
     },
     "metadata": {},
     "output_type": "display_data"
    },
    {
     "name": "stdout",
     "output_type": "stream",
     "text": [
      "Train loss: 0.041594349449145196\n",
      "Evaluating Epoch: 8\n"
     ]
    },
    {
     "data": {
      "application/vnd.jupyter.widget-view+json": {
       "model_id": "c56d7d056a554b8d8316651d04e08a26",
       "version_major": 2,
       "version_minor": 0
      },
      "text/plain": [
       "  0%|          | 0/54 [00:00<?, ?it/s]"
      ]
     },
     "metadata": {},
     "output_type": "display_data"
    },
    {
     "name": "stdout",
     "output_type": "stream",
     "text": [
      "Eval loss: 0.8267502185923082\n",
      "Eval Metrics: {'accuracy_score': 0.8906749250356388, 'precision': 0.6061855670103092, 'recall': 0.5104166666666666, 'f1': 0.5541941564561734}\n",
      "Training Epoch: 9\n"
     ]
    },
    {
     "data": {
      "application/vnd.jupyter.widget-view+json": {
       "model_id": "53de945df0154c3b96cd5979e00dcdf7",
       "version_major": 2,
       "version_minor": 0
      },
      "text/plain": [
       "  0%|          | 0/1358 [00:00<?, ?it/s]"
      ]
     },
     "metadata": {},
     "output_type": "display_data"
    },
    {
     "name": "stdout",
     "output_type": "stream",
     "text": [
      "Train loss: 0.037042257337953036\n",
      "Evaluating Epoch: 9\n"
     ]
    },
    {
     "data": {
      "application/vnd.jupyter.widget-view+json": {
       "model_id": "6e3bd13d81bf4ac194840f4f385fbd37",
       "version_major": 2,
       "version_minor": 0
      },
      "text/plain": [
       "  0%|          | 0/54 [00:00<?, ?it/s]"
      ]
     },
     "metadata": {},
     "output_type": "display_data"
    },
    {
     "name": "stdout",
     "output_type": "stream",
     "text": [
      "Eval loss: 0.9674960369313205\n",
      "Eval Metrics: {'accuracy_score': 0.8917072211571548, 'precision': 0.6260593220338984, 'recall': 0.5130208333333334, 'f1': 0.5639312977099237}\n",
      "Training Epoch: 10\n"
     ]
    },
    {
     "data": {
      "application/vnd.jupyter.widget-view+json": {
       "model_id": "a8e7e51d60534d1491f6f7137cb3614f",
       "version_major": 2,
       "version_minor": 0
      },
      "text/plain": [
       "  0%|          | 0/1358 [00:00<?, ?it/s]"
      ]
     },
     "metadata": {},
     "output_type": "display_data"
    },
    {
     "name": "stdout",
     "output_type": "stream",
     "text": [
      "Train loss: 0.03425361372946058\n",
      "Evaluating Epoch: 10\n"
     ]
    },
    {
     "data": {
      "application/vnd.jupyter.widget-view+json": {
       "model_id": "6360fb8864554541893c727a68a28001",
       "version_major": 2,
       "version_minor": 0
      },
      "text/plain": [
       "  0%|          | 0/54 [00:00<?, ?it/s]"
      ]
     },
     "metadata": {},
     "output_type": "display_data"
    },
    {
     "name": "stdout",
     "output_type": "stream",
     "text": [
      "Eval loss: 0.9104320324129529\n",
      "Eval Metrics: {'accuracy_score': 0.8924445755296663, 'precision': 0.6228660113812726, 'recall': 0.5225694444444444, 'f1': 0.5683266462119423}\n",
      "Training Epoch: 11\n"
     ]
    },
    {
     "data": {
      "application/vnd.jupyter.widget-view+json": {
       "model_id": "15cbea2413bc46d89fb5d406886abec8",
       "version_major": 2,
       "version_minor": 0
      },
      "text/plain": [
       "  0%|          | 0/1358 [00:00<?, ?it/s]"
      ]
     },
     "metadata": {},
     "output_type": "display_data"
    },
    {
     "name": "stdout",
     "output_type": "stream",
     "text": [
      "Train loss: 0.03139747833968202\n",
      "Evaluating Epoch: 11\n"
     ]
    },
    {
     "data": {
      "application/vnd.jupyter.widget-view+json": {
       "model_id": "a3904fcfb1fc415f858de517a2097d09",
       "version_major": 2,
       "version_minor": 0
      },
      "text/plain": [
       "  0%|          | 0/54 [00:00<?, ?it/s]"
      ]
     },
     "metadata": {},
     "output_type": "display_data"
    },
    {
     "name": "stdout",
     "output_type": "stream",
     "text": [
      "Eval loss: 1.0501538095650849\n",
      "Eval Metrics: {'accuracy_score': 0.8911664946173131, 'precision': 0.6198521647307286, 'recall': 0.5095486111111112, 'f1': 0.5593139590281087}\n",
      "Training Epoch: 12\n"
     ]
    },
    {
     "data": {
      "application/vnd.jupyter.widget-view+json": {
       "model_id": "d1cb1bf309044a3388944769daac8bc3",
       "version_major": 2,
       "version_minor": 0
      },
      "text/plain": [
       "  0%|          | 0/1358 [00:00<?, ?it/s]"
      ]
     },
     "metadata": {},
     "output_type": "display_data"
    },
    {
     "name": "stdout",
     "output_type": "stream",
     "text": [
      "Train loss: 0.02929932904111349\n",
      "Evaluating Epoch: 12\n"
     ]
    },
    {
     "data": {
      "application/vnd.jupyter.widget-view+json": {
       "model_id": "7466cd149b1c4a68b66d5771f490c809",
       "version_major": 2,
       "version_minor": 0
      },
      "text/plain": [
       "  0%|          | 0/54 [00:00<?, ?it/s]"
      ]
     },
     "metadata": {},
     "output_type": "display_data"
    },
    {
     "name": "stdout",
     "output_type": "stream",
     "text": [
      "Eval loss: 1.0273340021570523\n",
      "Eval Metrics: {'accuracy_score': 0.8931327729440103, 'precision': 0.6224436287362349, 'recall': 0.5151909722222222, 'f1': 0.5637615768226074}\n",
      "Training Epoch: 13\n"
     ]
    },
    {
     "data": {
      "application/vnd.jupyter.widget-view+json": {
       "model_id": "346b0783dc3d4d04af1ec86369f6cd38",
       "version_major": 2,
       "version_minor": 0
      },
      "text/plain": [
       "  0%|          | 0/1358 [00:00<?, ?it/s]"
      ]
     },
     "metadata": {},
     "output_type": "display_data"
    },
    {
     "name": "stdout",
     "output_type": "stream",
     "text": [
      "Train loss: 0.02770171039866778\n",
      "Evaluating Epoch: 13\n"
     ]
    },
    {
     "data": {
      "application/vnd.jupyter.widget-view+json": {
       "model_id": "69d53ae856734069a37abd9ccb1d3a0f",
       "version_major": 2,
       "version_minor": 0
      },
      "text/plain": [
       "  0%|          | 0/54 [00:00<?, ?it/s]"
      ]
     },
     "metadata": {},
     "output_type": "display_data"
    },
    {
     "name": "stdout",
     "output_type": "stream",
     "text": [
      "Eval loss: 1.0695080312865752\n",
      "Eval Metrics: {'accuracy_score': 0.8913631224499828, 'precision': 0.6145778710015731, 'recall': 0.5086805555555556, 'f1': 0.5566373782949419}\n",
      "Training Epoch: 14\n"
     ]
    },
    {
     "data": {
      "application/vnd.jupyter.widget-view+json": {
       "model_id": "61b9ae0987bc4f4090d60c37bb77ef51",
       "version_major": 2,
       "version_minor": 0
      },
      "text/plain": [
       "  0%|          | 0/1358 [00:00<?, ?it/s]"
      ]
     },
     "metadata": {},
     "output_type": "display_data"
    },
    {
     "name": "stdout",
     "output_type": "stream",
     "text": [
      "Train loss: 0.02599223124168351\n",
      "Evaluating Epoch: 14\n"
     ]
    },
    {
     "data": {
      "application/vnd.jupyter.widget-view+json": {
       "model_id": "d381af5eaa354923ae9d96cf4ff9a895",
       "version_major": 2,
       "version_minor": 0
      },
      "text/plain": [
       "  0%|          | 0/54 [00:00<?, ?it/s]"
      ]
     },
     "metadata": {},
     "output_type": "display_data"
    },
    {
     "name": "stdout",
     "output_type": "stream",
     "text": [
      "Eval loss: 1.10303486055798\n",
      "Eval Metrics: {'accuracy_score': 0.8922479476969966, 'precision': 0.62148070907195, 'recall': 0.5173611111111112, 'f1': 0.5646612979630506}\n",
      "Training Epoch: 15\n"
     ]
    },
    {
     "data": {
      "application/vnd.jupyter.widget-view+json": {
       "model_id": "99ec3e580f49451c9a2dfa48c31a7e19",
       "version_major": 2,
       "version_minor": 0
      },
      "text/plain": [
       "  0%|          | 0/1358 [00:00<?, ?it/s]"
      ]
     },
     "metadata": {},
     "output_type": "display_data"
    },
    {
     "name": "stdout",
     "output_type": "stream",
     "text": [
      "Train loss: 0.024220795116558502\n",
      "Evaluating Epoch: 15\n"
     ]
    },
    {
     "data": {
      "application/vnd.jupyter.widget-view+json": {
       "model_id": "3e29817937a74a0c84e8fc39ddb5bee7",
       "version_major": 2,
       "version_minor": 0
      },
      "text/plain": [
       "  0%|          | 0/54 [00:00<?, ?it/s]"
      ]
     },
     "metadata": {},
     "output_type": "display_data"
    },
    {
     "name": "stdout",
     "output_type": "stream",
     "text": [
      "Eval loss: 1.1157305930499677\n",
      "Eval Metrics: {'accuracy_score': 0.89160890724082, 'precision': 0.615866388308977, 'recall': 0.5121527777777778, 'f1': 0.5592417061611376}\n",
      "Training Epoch: 16\n"
     ]
    },
    {
     "data": {
      "application/vnd.jupyter.widget-view+json": {
       "model_id": "0d02c8bcb7294dbbab58e62e5ba93166",
       "version_major": 2,
       "version_minor": 0
      },
      "text/plain": [
       "  0%|          | 0/1358 [00:00<?, ?it/s]"
      ]
     },
     "metadata": {},
     "output_type": "display_data"
    },
    {
     "name": "stdout",
     "output_type": "stream",
     "text": [
      "Train loss: 0.023362517274147385\n",
      "Evaluating Epoch: 16\n"
     ]
    },
    {
     "data": {
      "application/vnd.jupyter.widget-view+json": {
       "model_id": "26fd5f3e87db41b189cab4b213f750f8",
       "version_major": 2,
       "version_minor": 0
      },
      "text/plain": [
       "  0%|          | 0/54 [00:00<?, ?it/s]"
      ]
     },
     "metadata": {},
     "output_type": "display_data"
    },
    {
     "name": "stdout",
     "output_type": "stream",
     "text": [
      "Eval loss: 1.152050651885845\n",
      "Eval Metrics: {'accuracy_score': 0.8910681807009783, 'precision': 0.6178010471204188, 'recall': 0.5121527777777778, 'f1': 0.5600379686758424}\n",
      "Training Epoch: 17\n"
     ]
    },
    {
     "data": {
      "application/vnd.jupyter.widget-view+json": {
       "model_id": "65b60e1c65b8400b941d637548b17424",
       "version_major": 2,
       "version_minor": 0
      },
      "text/plain": [
       "  0%|          | 0/1358 [00:00<?, ?it/s]"
      ]
     },
     "metadata": {},
     "output_type": "display_data"
    },
    {
     "name": "stdout",
     "output_type": "stream",
     "text": [
      "Train loss: 0.022115027044642327\n",
      "Evaluating Epoch: 17\n"
     ]
    },
    {
     "data": {
      "application/vnd.jupyter.widget-view+json": {
       "model_id": "28c923feca5b4aa88bdfdff7cd146979",
       "version_major": 2,
       "version_minor": 0
      },
      "text/plain": [
       "  0%|          | 0/54 [00:00<?, ?it/s]"
      ]
     },
     "metadata": {},
     "output_type": "display_data"
    },
    {
     "name": "stdout",
     "output_type": "stream",
     "text": [
      "Eval loss: 1.1705885270127543\n",
      "Eval Metrics: {'accuracy_score': 0.8916580641989874, 'precision': 0.6184696569920844, 'recall': 0.5086805555555556, 'f1': 0.5582281495594189}\n",
      "Training Epoch: 18\n"
     ]
    },
    {
     "data": {
      "application/vnd.jupyter.widget-view+json": {
       "model_id": "6497fec1744941b4911ba1c75ebf7f08",
       "version_major": 2,
       "version_minor": 0
      },
      "text/plain": [
       "  0%|          | 0/1358 [00:00<?, ?it/s]"
      ]
     },
     "metadata": {},
     "output_type": "display_data"
    },
    {
     "name": "stdout",
     "output_type": "stream",
     "text": [
      "Train loss: 0.020812526579926733\n",
      "Evaluating Epoch: 18\n"
     ]
    },
    {
     "data": {
      "application/vnd.jupyter.widget-view+json": {
       "model_id": "e59ad45f65294ad7aa9203748e30a0d3",
       "version_major": 2,
       "version_minor": 0
      },
      "text/plain": [
       "  0%|          | 0/54 [00:00<?, ?it/s]"
      ]
     },
     "metadata": {},
     "output_type": "display_data"
    },
    {
     "name": "stdout",
     "output_type": "stream",
     "text": [
      "Eval loss: 1.2000986094828006\n",
      "Eval Metrics: {'accuracy_score': 0.8911173376591457, 'precision': 0.6186708860759493, 'recall': 0.5091145833333334, 'f1': 0.5585714285714286}\n",
      "Training Epoch: 19\n"
     ]
    },
    {
     "data": {
      "application/vnd.jupyter.widget-view+json": {
       "model_id": "c790c227d0d04a11b9c4ad5a6357b0af",
       "version_major": 2,
       "version_minor": 0
      },
      "text/plain": [
       "  0%|          | 0/1358 [00:00<?, ?it/s]"
      ]
     },
     "metadata": {},
     "output_type": "display_data"
    },
    {
     "name": "stdout",
     "output_type": "stream",
     "text": [
      "Train loss: 0.020056406569039478\n",
      "Evaluating Epoch: 19\n"
     ]
    },
    {
     "data": {
      "application/vnd.jupyter.widget-view+json": {
       "model_id": "1f849d3eb860449983ce412dc7efb860",
       "version_major": 2,
       "version_minor": 0
      },
      "text/plain": [
       "  0%|          | 0/54 [00:00<?, ?it/s]"
      ]
     },
     "metadata": {},
     "output_type": "display_data"
    },
    {
     "name": "stdout",
     "output_type": "stream",
     "text": [
      "Eval loss: 1.2160659884964977\n",
      "Eval Metrics: {'accuracy_score': 0.8917563781153223, 'precision': 0.6198217094913476, 'recall': 0.5130208333333334, 'f1': 0.5613868439800523}\n",
      "Training Epoch: 20\n"
     ]
    },
    {
     "data": {
      "application/vnd.jupyter.widget-view+json": {
       "model_id": "ce27f22458784a3fa55096b5dc6c1bc7",
       "version_major": 2,
       "version_minor": 0
      },
      "text/plain": [
       "  0%|          | 0/1358 [00:00<?, ?it/s]"
      ]
     },
     "metadata": {},
     "output_type": "display_data"
    },
    {
     "name": "stdout",
     "output_type": "stream",
     "text": [
      "Train loss: 0.019125314057031915\n",
      "Evaluating Epoch: 20\n"
     ]
    },
    {
     "data": {
      "application/vnd.jupyter.widget-view+json": {
       "model_id": "9539131127984371afc26a2d14885872",
       "version_major": 2,
       "version_minor": 0
      },
      "text/plain": [
       "  0%|          | 0/54 [00:00<?, ?it/s]"
      ]
     },
     "metadata": {},
     "output_type": "display_data"
    },
    {
     "name": "stdout",
     "output_type": "stream",
     "text": [
      "Eval loss: 1.242548222343127\n",
      "Eval Metrics: {'accuracy_score': 0.8917563781153223, 'precision': 0.620925341745531, 'recall': 0.5125868055555556, 'f1': 0.5615786970993819}\n",
      "DONE!\n"
     ]
    }
   ],
   "source": [
    "class NERTrainer:\n",
    "    def __init__(self, test_dataset_path):\n",
    "        self.cfg = Config()\n",
    "        self.data_reader = DataReader(\"Labeled_SemiLabeledData_G.txt\")\n",
    "        self.data, _, _ = self.data_reader.read_data_bert()\n",
    "        self.label_list = read_labels('NewEntities.txt')\n",
    "\n",
    "        self.label_map = get_label_map(self.label_list)\n",
    "        self.inv_label_map = get_inv_label_map(self.label_list)\n",
    "\n",
    "        # Load the test dataset\n",
    "        self.test_data_reader = DataReader(test_dataset_path)\n",
    "        self.test_data, _, _ = self.test_data_reader.read_data_bert()\n",
    "\n",
    "        self.TOKENIZER = AutoTokenizer.from_pretrained(self.cfg.MODEL_NAME)\n",
    "\n",
    "        self.train_dataset = NERDataset(\n",
    "            texts=[x[0] for x in self.data],\n",
    "            tags=[x[1] for x in self.data],\n",
    "            label_list=self.label_list,\n",
    "            model_name=self.cfg.MODEL_NAME,\n",
    "            max_length=self.cfg.MAX_LEN\n",
    "        )\n",
    "\n",
    "        self.test_dataset = NERDataset(\n",
    "            texts=[x[0] for x in self.test_data],\n",
    "            tags=[x[1] for x in self.test_data],\n",
    "            label_list=self.label_list,\n",
    "            model_name=self.cfg.MODEL_NAME,\n",
    "            max_length=self.cfg.MAX_LEN\n",
    "        )\n",
    "\n",
    "        self.train_data_loader = DataLoader(dataset=self.train_dataset, batch_size=self.cfg.TRAIN_BATCH_SIZE, shuffle=True)\n",
    "        self.test_data_loader = DataLoader(dataset=self.test_dataset, batch_size=self.cfg.VALID_BATCH_SIZE, shuffle=False)\n",
    "\n",
    "        self.model = BertForTokenClassification.from_pretrained(self.cfg.MODEL_NAME,\n",
    "                                                                return_dict=True,\n",
    "                                                                num_labels=len(self.label_map),\n",
    "                                                                output_attentions=False,\n",
    "                                                                output_hidden_states=False).to(self.cfg.device)\n",
    "\n",
    "        self.optimizer = AdamW(self.model.parameters(), lr=5e-5, correct_bias=False)\n",
    "        total_steps = len(self.train_data_loader) * self.cfg.EPOCHS\n",
    "\n",
    "        self.scheduler = get_linear_schedule_with_warmup(\n",
    "            self.optimizer,\n",
    "            num_warmup_steps=0,\n",
    "            num_training_steps=total_steps\n",
    "        )\n",
    "\n",
    "        self.best_eval_loss = float('inf')\n",
    "        self.best_model = None\n",
    "\n",
    "    def train_epoch(self):\n",
    "        self.model.train()\n",
    "        final_loss = 0\n",
    "\n",
    "        for data in tqdm(self.train_data_loader, total=len(self.train_data_loader)):\n",
    "            input_ids = data['input_ids'].to(self.cfg.device)\n",
    "            attention_mask = data['attention_mask'].to(self.cfg.device)\n",
    "            token_type_ids = data['token_type_ids'].to(self.cfg.device)\n",
    "            labels = data['labels'].to(self.cfg.device)\n",
    "\n",
    "            self.optimizer.zero_grad()\n",
    "            outputs = self.model(input_ids=input_ids,\n",
    "                                 token_type_ids=token_type_ids,\n",
    "                                 attention_mask=attention_mask,\n",
    "                                 labels=labels)\n",
    "\n",
    "            loss = outputs.loss\n",
    "            loss.backward()\n",
    "            nn.utils.clip_grad_norm_(self.model.parameters(), max_norm=1.0)\n",
    "            self.optimizer.step()\n",
    "            self.scheduler.step()\n",
    "            final_loss += loss.item()\n",
    "\n",
    "        loss = final_loss / len(self.train_data_loader)\n",
    "        print(f\"Train loss: {loss}\")\n",
    "\n",
    "        return loss\n",
    "\n",
    "    def eval_epoch(self):\n",
    "        self.model.eval()\n",
    "        final_loss = 0\n",
    "        all_labels = []\n",
    "        all_preds = []\n",
    "\n",
    "        with torch.no_grad():\n",
    "            for data in tqdm(self.test_data_loader, total=len(self.test_data_loader)):\n",
    "                input_ids = data['input_ids'].to(self.cfg.device)\n",
    "                attention_mask = data['attention_mask'].to(self.cfg.device)\n",
    "                token_type_ids = data['token_type_ids'].to(self.cfg.device)\n",
    "                labels = data['labels'].to(self.cfg.device)\n",
    "\n",
    "                outputs = self.model(input_ids=input_ids,\n",
    "                                     token_type_ids=token_type_ids,\n",
    "                                     attention_mask=attention_mask,\n",
    "                                     labels=labels)\n",
    "\n",
    "                loss = outputs.loss\n",
    "                final_loss += loss.item()\n",
    "\n",
    "                logits = outputs.logits.detach().cpu().numpy()\n",
    "                labels = labels.to('cpu').numpy()\n",
    "\n",
    "                all_preds.extend(logits)\n",
    "                all_labels.extend(labels)\n",
    "\n",
    "        all_preds = np.array(all_preds)\n",
    "        all_labels = np.asarray(all_labels)\n",
    "\n",
    "        metrics = compute_metrics(all_preds, all_labels, self.inv_label_map, False)\n",
    "        final_loss = final_loss / len(self.test_data_loader)\n",
    "\n",
    "        print(f\"Eval loss: {final_loss}\")\n",
    "        print(f\"Eval Metrics: {metrics}\")\n",
    "\n",
    "        return final_loss, metrics\n",
    "\n",
    "    def train(self):\n",
    "        for epoch in range(self.cfg.EPOCHS):\n",
    "            print(f\"Training Epoch: {epoch + 1}\")\n",
    "            self.train_epoch()\n",
    "\n",
    "            print(f\"Evaluating Epoch: {epoch + 1}\")\n",
    "            eval_loss, _ = self.eval_epoch()\n",
    "\n",
    "            if eval_loss < self.best_eval_loss:\n",
    "                self.best_eval_loss = eval_loss\n",
    "                self.best_model = self.model.state_dict()\n",
    "                torch.save(self.best_model, \"StudentG_Model.pt\")\n",
    "\n",
    "\n",
    "if __name__ == '__main__':\n",
    "    test_dataset_path = \"TestingData.txt\"\n",
    "    ner_trainer = NERTrainer(test_dataset_path)\n",
    "    ner_trainer.train()\n",
    "    print(\"DONE!\")"
   ]
  },
  {
   "cell_type": "code",
   "execution_count": 7,
   "id": "3a31ad65-0eec-4892-afd5-eb610cdbfb1d",
   "metadata": {
    "tags": []
   },
   "outputs": [],
   "source": [
    "import dill\n",
    "dill.dump_session('StudentCompleted_G.db')"
   ]
  }
 ],
 "metadata": {
  "kernelspec": {
   "display_name": "Python 3 (ipykernel)",
   "language": "python",
   "name": "python3"
  },
  "language_info": {
   "codemirror_mode": {
    "name": "ipython",
    "version": 3
   },
   "file_extension": ".py",
   "mimetype": "text/x-python",
   "name": "python",
   "nbconvert_exporter": "python",
   "pygments_lexer": "ipython3",
   "version": "3.10.13"
  }
 },
 "nbformat": 4,
 "nbformat_minor": 5
}
