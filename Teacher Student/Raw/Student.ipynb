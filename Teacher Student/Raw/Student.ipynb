{
 "cells": [
  {
   "cell_type": "code",
   "execution_count": 1,
   "id": "512e06e4",
   "metadata": {
    "tags": []
   },
   "outputs": [
    {
     "name": "stderr",
     "output_type": "stream",
     "text": [
      "/home/mke37/.local/lib/python3.10/site-packages/pandas/core/arrays/masked.py:60: UserWarning: Pandas requires version '1.3.6' or newer of 'bottleneck' (version '1.3.5' currently installed).\n",
      "  from pandas.core import (\n",
      "2024-06-13 03:48:23.202741: E external/local_xla/xla/stream_executor/cuda/cuda_dnn.cc:9261] Unable to register cuDNN factory: Attempting to register factory for plugin cuDNN when one has already been registered\n",
      "2024-06-13 03:48:23.202878: E external/local_xla/xla/stream_executor/cuda/cuda_fft.cc:607] Unable to register cuFFT factory: Attempting to register factory for plugin cuFFT when one has already been registered\n",
      "2024-06-13 03:48:23.204646: E external/local_xla/xla/stream_executor/cuda/cuda_blas.cc:1515] Unable to register cuBLAS factory: Attempting to register factory for plugin cuBLAS when one has already been registered\n",
      "2024-06-13 03:48:23.217892: I tensorflow/core/platform/cpu_feature_guard.cc:182] This TensorFlow binary is optimized to use available CPU instructions in performance-critical operations.\n",
      "To enable the following instructions: AVX2 FMA, in other operations, rebuild TensorFlow with the appropriate compiler flags.\n",
      "2024-06-13 03:48:26.072072: W tensorflow/compiler/tf2tensorrt/utils/py_utils.cc:38] TF-TRT Warning: Could not find TensorRT\n",
      "/home/mke37/.local/lib/python3.10/site-packages/fuzzywuzzy/fuzz.py:11: UserWarning: Using slow pure-python SequenceMatcher. Install python-Levenshtein to remove this warning\n",
      "  warnings.warn('Using slow pure-python SequenceMatcher. Install python-Levenshtein to remove this warning')\n"
     ]
    }
   ],
   "source": [
    "from preprocess import NERDataset\n",
    "from cleaning import DataReader\n",
    "import numpy as np\n",
    "from utils import compute_metrics, get_label_map, get_inv_label_map, read_labels\n",
    "from tqdm.notebook import tqdm\n",
    "from sklearn.model_selection import train_test_split\n",
    "from transformers import AutoTokenizer, BertForTokenClassification, AdamW, get_linear_schedule_with_warmup\n",
    "from torch.utils.data import DataLoader\n",
    "import torch\n",
    "from torch import nn\n",
    "from config import Config\n",
    "\n",
    "from transformers import AutoTokenizer, BertForTokenClassification # Import AutoTokenizer and BertForTokenClassification from the transformers library for NLP tasks.\n",
    "import torch # Import the PyTorch library for tensor computations and deep learning.\n",
    "import numpy as np # Import NumPy for numerical operations and array manipulations.\n",
    "import argparse # Import argparse for parsing command-line arguments.\n",
    "from typing import List # Import List from the typing module for type annotations.\n",
    "from config import Config # Import Config class from the config module, used for loading and accessing configuration settings.\n",
    "# Import utility functions: read_labels (to read label data), get_label_map and get_inv_label_map (for mapping labels to indices and vice versa).\n",
    "from utils import read_labels, get_label_map, get_inv_label_map\n",
    "import argparse # Re-import argparse (duplicate import, not necessary).\n",
    "import sys # Import sys for interacting with the Python interpreter (e.g., command-line arguments, system exit).\n",
    "\n",
    "import os\n",
    "import numpy as np\n",
    "from fuzzywuzzy import fuzz\n",
    "import re\n",
    "\n",
    "import torch.nn.functional as F\n",
    "from typing import Tuple"
   ]
  },
  {
   "cell_type": "code",
   "execution_count": 2,
   "id": "981fe364-a328-428b-a3a4-4e20b247a353",
   "metadata": {
    "tags": []
   },
   "outputs": [
    {
     "name": "stdout",
     "output_type": "stream",
     "text": [
      "DONE!\n"
     ]
    }
   ],
   "source": [
    "sentences = []\n",
    "labels = []\n",
    "\n",
    "curr_sentence = []\n",
    "curr_labels = []\n",
    "\n",
    "with open(\"Labeled_SemiLabeledData.txt\", \"r\") as file:\n",
    "    for line in file:\n",
    "        if line != \"\\n\":\n",
    "            label = line.split()[0]\n",
    "            word = line.split()[1]\n",
    "            \n",
    "            curr_sentence.append(word)\n",
    "            curr_labels.append(label)\n",
    "        else:\n",
    "            sentences.append(curr_sentence)\n",
    "            labels.append(curr_labels)\n",
    "            curr_sentence = []\n",
    "            curr_labels = []\n",
    "            \n",
    "print(\"DONE!\")           "
   ]
  },
  {
   "cell_type": "code",
   "execution_count": 3,
   "id": "a4d6ee6f-85ed-48bf-8dda-d342f0f854e7",
   "metadata": {
    "tags": []
   },
   "outputs": [
    {
     "name": "stdout",
     "output_type": "stream",
     "text": [
      "21724 21724\n",
      "['يعد', 'مرض', 'آلزهايمر', 'واحدا', 'من', 'أكثر', 'الأمراض', 'كلفة', 'مالية', 'في', 'الدول', 'المتقدمة', '.']\n",
      "['OUTSIDE', 'OUTSIDE', 'B-Disease', 'OUTSIDE', 'OUTSIDE', 'OUTSIDE', 'OUTSIDE', 'OUTSIDE', 'OUTSIDE', 'OUTSIDE', 'OUTSIDE', 'OUTSIDE', 'OUTSIDE']\n"
     ]
    }
   ],
   "source": [
    "print(len(sentences), len(labels))\n",
    "print(sentences[-1])\n",
    "print(labels[-1])"
   ]
  },
  {
   "cell_type": "code",
   "execution_count": 4,
   "id": "b29445eb-47f8-4547-a7ee-959a7ff9460a",
   "metadata": {
    "tags": []
   },
   "outputs": [],
   "source": [
    "def remove_diacritics(text):\n",
    "    return re.sub(re.compile(r'[\\u0617-\\u061A\\u064B-\\u0652]'),\"\", text)"
   ]
  },
  {
   "cell_type": "code",
   "execution_count": 5,
   "id": "812d67ae-7f4f-43e5-a115-0e25656e13f6",
   "metadata": {
    "tags": []
   },
   "outputs": [],
   "source": [
    "for i in range(len(sentences)):\n",
    "    for j in range(len(sentences[i])):\n",
    "        sentences[i][j] = remove_diacritics(sentences[i][j])"
   ]
  },
  {
   "cell_type": "code",
   "execution_count": 6,
   "id": "c6eaee22",
   "metadata": {
    "tags": []
   },
   "outputs": [
    {
     "name": "stdout",
     "output_type": "stream",
     "text": [
      "Data: 21724 , Sentences: 21724 , Tags: 21724\n",
      "Data: 856 , Sentences: 856 , Tags: 856\n"
     ]
    },
    {
     "name": "stderr",
     "output_type": "stream",
     "text": [
      "Some weights of BertForTokenClassification were not initialized from the model checkpoint at aubmindlab/bert-base-arabertv02 and are newly initialized: ['classifier.weight', 'classifier.bias']\n",
      "You should probably TRAIN this model on a down-stream task to be able to use it for predictions and inference.\n"
     ]
    },
    {
     "name": "stdout",
     "output_type": "stream",
     "text": [
      "Training Epoch: 1\n"
     ]
    },
    {
     "name": "stderr",
     "output_type": "stream",
     "text": [
      "/apps/sw/miniconda/envs/transformers-r1/lib/python3.10/site-packages/transformers/optimization.py:411: FutureWarning: This implementation of AdamW is deprecated and will be removed in a future version. Use the PyTorch implementation torch.optim.AdamW instead, or set `no_deprecation_warning=True` to disable this warning\n",
      "  warnings.warn(\n"
     ]
    },
    {
     "data": {
      "application/vnd.jupyter.widget-view+json": {
       "model_id": "4b4ab63ef5c2463d8dd289aeff73b3f3",
       "version_major": 2,
       "version_minor": 0
      },
      "text/plain": [
       "  0%|          | 0/1358 [00:00<?, ?it/s]"
      ]
     },
     "metadata": {},
     "output_type": "display_data"
    },
    {
     "name": "stdout",
     "output_type": "stream",
     "text": [
      "Train loss: 0.2241937559418962\n",
      "Evaluating Epoch: 1\n"
     ]
    },
    {
     "data": {
      "application/vnd.jupyter.widget-view+json": {
       "model_id": "60e36a754751445a83a1d6645b4b14df",
       "version_major": 2,
       "version_minor": 0
      },
      "text/plain": [
       "  0%|          | 0/54 [00:00<?, ?it/s]"
      ]
     },
     "metadata": {},
     "output_type": "display_data"
    },
    {
     "name": "stderr",
     "output_type": "stream",
     "text": [
      "/home/mke37/.local/lib/python3.10/site-packages/seqeval/metrics/sequence_labeling.py:171: UserWarning: OUTSIDE seems not to be NE tag.\n",
      "  warnings.warn('{} seems not to be NE tag.'.format(chunk))\n"
     ]
    },
    {
     "name": "stdout",
     "output_type": "stream",
     "text": [
      "Eval loss: 0.5785462433058355\n",
      "Eval Metrics: {'accuracy_score': 0.8723885365973554, 'precision': 0.5720279720279721, 'recall': 0.3550347222222222, 'f1': 0.4381360471344403}\n",
      "Training Epoch: 2\n"
     ]
    },
    {
     "data": {
      "application/vnd.jupyter.widget-view+json": {
       "model_id": "ecd6d7e4ad6741e7a047c39387c32221",
       "version_major": 2,
       "version_minor": 0
      },
      "text/plain": [
       "  0%|          | 0/1358 [00:00<?, ?it/s]"
      ]
     },
     "metadata": {},
     "output_type": "display_data"
    },
    {
     "name": "stdout",
     "output_type": "stream",
     "text": [
      "Train loss: 0.12284210735495821\n",
      "Evaluating Epoch: 2\n"
     ]
    },
    {
     "data": {
      "application/vnd.jupyter.widget-view+json": {
       "model_id": "de65abdeafe74c20a8f42f6ccfe6909c",
       "version_major": 2,
       "version_minor": 0
      },
      "text/plain": [
       "  0%|          | 0/54 [00:00<?, ?it/s]"
      ]
     },
     "metadata": {},
     "output_type": "display_data"
    },
    {
     "name": "stdout",
     "output_type": "stream",
     "text": [
      "Eval loss: 0.6368755266001379\n",
      "Eval Metrics: {'accuracy_score': 0.8790247259499582, 'precision': 0.6093544137022397, 'recall': 0.4014756944444444, 'f1': 0.48403976975405544}\n",
      "Training Epoch: 3\n"
     ]
    },
    {
     "data": {
      "application/vnd.jupyter.widget-view+json": {
       "model_id": "a58dca4045f94a26bed7aba1e3857021",
       "version_major": 2,
       "version_minor": 0
      },
      "text/plain": [
       "  0%|          | 0/1358 [00:00<?, ?it/s]"
      ]
     },
     "metadata": {},
     "output_type": "display_data"
    },
    {
     "name": "stdout",
     "output_type": "stream",
     "text": [
      "Train loss: 0.09502660423388296\n",
      "Evaluating Epoch: 3\n"
     ]
    },
    {
     "data": {
      "application/vnd.jupyter.widget-view+json": {
       "model_id": "ae31e265341c4c7182281a96539fd3ab",
       "version_major": 2,
       "version_minor": 0
      },
      "text/plain": [
       "  0%|          | 0/54 [00:00<?, ?it/s]"
      ]
     },
     "metadata": {},
     "output_type": "display_data"
    },
    {
     "name": "stdout",
     "output_type": "stream",
     "text": [
      "Eval loss: 0.7409004374165777\n",
      "Eval Metrics: {'accuracy_score': 0.8799587081551393, 'precision': 0.6554989075018208, 'recall': 0.390625, 'f1': 0.48952950775088383}\n",
      "Training Epoch: 4\n"
     ]
    },
    {
     "data": {
      "application/vnd.jupyter.widget-view+json": {
       "model_id": "240a266ab910484a9eff428394342828",
       "version_major": 2,
       "version_minor": 0
      },
      "text/plain": [
       "  0%|          | 0/1358 [00:00<?, ?it/s]"
      ]
     },
     "metadata": {},
     "output_type": "display_data"
    },
    {
     "name": "stdout",
     "output_type": "stream",
     "text": [
      "Train loss: 0.07904220175886847\n",
      "Evaluating Epoch: 4\n"
     ]
    },
    {
     "data": {
      "application/vnd.jupyter.widget-view+json": {
       "model_id": "1990277732b74bff9fde0e7ddf3c3dd4",
       "version_major": 2,
       "version_minor": 0
      },
      "text/plain": [
       "  0%|          | 0/54 [00:00<?, ?it/s]"
      ]
     },
     "metadata": {},
     "output_type": "display_data"
    },
    {
     "name": "stdout",
     "output_type": "stream",
     "text": [
      "Eval loss: 0.7106025096856885\n",
      "Eval Metrics: {'accuracy_score': 0.876812662832424, 'precision': 0.5952063914780293, 'recall': 0.3880208333333333, 'f1': 0.46978455070940617}\n",
      "Training Epoch: 5\n"
     ]
    },
    {
     "data": {
      "application/vnd.jupyter.widget-view+json": {
       "model_id": "b2203c4798b7435ebe6eadbde0413d90",
       "version_major": 2,
       "version_minor": 0
      },
      "text/plain": [
       "  0%|          | 0/1358 [00:00<?, ?it/s]"
      ]
     },
     "metadata": {},
     "output_type": "display_data"
    },
    {
     "name": "stdout",
     "output_type": "stream",
     "text": [
      "Train loss: 0.06749599689064995\n",
      "Evaluating Epoch: 5\n"
     ]
    },
    {
     "data": {
      "application/vnd.jupyter.widget-view+json": {
       "model_id": "6268e3bd2f80401098e417d02a12747a",
       "version_major": 2,
       "version_minor": 0
      },
      "text/plain": [
       "  0%|          | 0/54 [00:00<?, ?it/s]"
      ]
     },
     "metadata": {},
     "output_type": "display_data"
    },
    {
     "name": "stdout",
     "output_type": "stream",
     "text": [
      "Eval loss: 0.7272277344363155\n",
      "Eval Metrics: {'accuracy_score': 0.880843533402153, 'precision': 0.6119205298013245, 'recall': 0.4010416666666667, 'f1': 0.48453067645516523}\n",
      "Training Epoch: 6\n"
     ]
    },
    {
     "data": {
      "application/vnd.jupyter.widget-view+json": {
       "model_id": "e8552f4ef120469f913685d3eaee519c",
       "version_major": 2,
       "version_minor": 0
      },
      "text/plain": [
       "  0%|          | 0/1358 [00:00<?, ?it/s]"
      ]
     },
     "metadata": {},
     "output_type": "display_data"
    },
    {
     "name": "stdout",
     "output_type": "stream",
     "text": [
      "Train loss: 0.058933742754147644\n",
      "Evaluating Epoch: 6\n"
     ]
    },
    {
     "data": {
      "application/vnd.jupyter.widget-view+json": {
       "model_id": "108d4d03b48f4732888aa0486d432729",
       "version_major": 2,
       "version_minor": 0
      },
      "text/plain": [
       "  0%|          | 0/54 [00:00<?, ?it/s]"
      ]
     },
     "metadata": {},
     "output_type": "display_data"
    },
    {
     "name": "stdout",
     "output_type": "stream",
     "text": [
      "Eval loss: 0.883101160362087\n",
      "Eval Metrics: {'accuracy_score': 0.8786806272427862, 'precision': 0.6108815426997245, 'recall': 0.3849826388888889, 'f1': 0.472310969116081}\n",
      "Training Epoch: 7\n"
     ]
    },
    {
     "data": {
      "application/vnd.jupyter.widget-view+json": {
       "model_id": "b3a4b040477145fdb4b1ee16a37d81b0",
       "version_major": 2,
       "version_minor": 0
      },
      "text/plain": [
       "  0%|          | 0/1358 [00:00<?, ?it/s]"
      ]
     },
     "metadata": {},
     "output_type": "display_data"
    },
    {
     "name": "stdout",
     "output_type": "stream",
     "text": [
      "Train loss: 0.05286339055835949\n",
      "Evaluating Epoch: 7\n"
     ]
    },
    {
     "data": {
      "application/vnd.jupyter.widget-view+json": {
       "model_id": "6ee9abc26c6e4c4799b0daedb075f32f",
       "version_major": 2,
       "version_minor": 0
      },
      "text/plain": [
       "  0%|          | 0/54 [00:00<?, ?it/s]"
      ]
     },
     "metadata": {},
     "output_type": "display_data"
    },
    {
     "name": "stdout",
     "output_type": "stream",
     "text": [
      "Eval loss: 1.0821369019578453\n",
      "Eval Metrics: {'accuracy_score': 0.8778449589539399, 'precision': 0.6071188717259905, 'recall': 0.3923611111111111, 'f1': 0.47666754547851303}\n",
      "Training Epoch: 8\n"
     ]
    },
    {
     "data": {
      "application/vnd.jupyter.widget-view+json": {
       "model_id": "1802d12645dd4f889add4fd8c5d31a44",
       "version_major": 2,
       "version_minor": 0
      },
      "text/plain": [
       "  0%|          | 0/1358 [00:00<?, ?it/s]"
      ]
     },
     "metadata": {},
     "output_type": "display_data"
    },
    {
     "name": "stdout",
     "output_type": "stream",
     "text": [
      "Train loss: 0.04733116663385468\n",
      "Evaluating Epoch: 8\n"
     ]
    },
    {
     "data": {
      "application/vnd.jupyter.widget-view+json": {
       "model_id": "48b6eb878d7442f8a57fb2e20a08615a",
       "version_major": 2,
       "version_minor": 0
      },
      "text/plain": [
       "  0%|          | 0/54 [00:00<?, ?it/s]"
      ]
     },
     "metadata": {},
     "output_type": "display_data"
    },
    {
     "name": "stdout",
     "output_type": "stream",
     "text": [
      "Eval loss: 0.9450830361909337\n",
      "Eval Metrics: {'accuracy_score': 0.8809418473184879, 'precision': 0.5907928388746803, 'recall': 0.4010416666666667, 'f1': 0.47776628748707345}\n",
      "Training Epoch: 9\n"
     ]
    },
    {
     "data": {
      "application/vnd.jupyter.widget-view+json": {
       "model_id": "5d1f1b15e2124542a22b4332e91cc66f",
       "version_major": 2,
       "version_minor": 0
      },
      "text/plain": [
       "  0%|          | 0/1358 [00:00<?, ?it/s]"
      ]
     },
     "metadata": {},
     "output_type": "display_data"
    },
    {
     "name": "stdout",
     "output_type": "stream",
     "text": [
      "Train loss: 0.04331877847515535\n",
      "Evaluating Epoch: 9\n"
     ]
    },
    {
     "data": {
      "application/vnd.jupyter.widget-view+json": {
       "model_id": "bf276e56e9f5483db4db1d1f6cd06ffd",
       "version_major": 2,
       "version_minor": 0
      },
      "text/plain": [
       "  0%|          | 0/54 [00:00<?, ?it/s]"
      ]
     },
     "metadata": {},
     "output_type": "display_data"
    },
    {
     "name": "stdout",
     "output_type": "stream",
     "text": [
      "Eval loss: 1.0522784943071504\n",
      "Eval Metrics: {'accuracy_score': 0.876468564125252, 'precision': 0.6148308135349172, 'recall': 0.3706597222222222, 'f1': 0.46249661521797997}\n",
      "Training Epoch: 10\n"
     ]
    },
    {
     "data": {
      "application/vnd.jupyter.widget-view+json": {
       "model_id": "6af882ce655546c783319d9dcfd2c5f1",
       "version_major": 2,
       "version_minor": 0
      },
      "text/plain": [
       "  0%|          | 0/1358 [00:00<?, ?it/s]"
      ]
     },
     "metadata": {},
     "output_type": "display_data"
    },
    {
     "name": "stdout",
     "output_type": "stream",
     "text": [
      "Train loss: 0.03987832376661413\n",
      "Evaluating Epoch: 10\n"
     ]
    },
    {
     "data": {
      "application/vnd.jupyter.widget-view+json": {
       "model_id": "97af9fb070d04f049799103208c28f65",
       "version_major": 2,
       "version_minor": 0
      },
      "text/plain": [
       "  0%|          | 0/54 [00:00<?, ?it/s]"
      ]
     },
     "metadata": {},
     "output_type": "display_data"
    },
    {
     "name": "stdout",
     "output_type": "stream",
     "text": [
      "Eval loss: 1.1103051307576675\n",
      "Eval Metrics: {'accuracy_score': 0.8785331563682839, 'precision': 0.5980392156862745, 'recall': 0.3971354166666667, 'f1': 0.47730829420970267}\n",
      "Training Epoch: 11\n"
     ]
    },
    {
     "data": {
      "application/vnd.jupyter.widget-view+json": {
       "model_id": "5592861b05ca404c8850b9877e34dac7",
       "version_major": 2,
       "version_minor": 0
      },
      "text/plain": [
       "  0%|          | 0/1358 [00:00<?, ?it/s]"
      ]
     },
     "metadata": {},
     "output_type": "display_data"
    },
    {
     "name": "stdout",
     "output_type": "stream",
     "text": [
      "Train loss: 0.03705516251910612\n",
      "Evaluating Epoch: 11\n"
     ]
    },
    {
     "data": {
      "application/vnd.jupyter.widget-view+json": {
       "model_id": "053054d9a45a4fdd8d6221a355ddee27",
       "version_major": 2,
       "version_minor": 0
      },
      "text/plain": [
       "  0%|          | 0/54 [00:00<?, ?it/s]"
      ]
     },
     "metadata": {},
     "output_type": "display_data"
    },
    {
     "name": "stdout",
     "output_type": "stream",
     "text": [
      "Eval loss: 1.114584366928924\n",
      "Eval Metrics: {'accuracy_score': 0.8792705107407953, 'precision': 0.5916824196597353, 'recall': 0.4075520833333333, 'f1': 0.4826522744795682}\n",
      "Training Epoch: 12\n"
     ]
    },
    {
     "data": {
      "application/vnd.jupyter.widget-view+json": {
       "model_id": "68f3cd01de0a494d93b6d793bfaa7486",
       "version_major": 2,
       "version_minor": 0
      },
      "text/plain": [
       "  0%|          | 0/1358 [00:00<?, ?it/s]"
      ]
     },
     "metadata": {},
     "output_type": "display_data"
    },
    {
     "name": "stdout",
     "output_type": "stream",
     "text": [
      "Train loss: 0.034745620163887964\n",
      "Evaluating Epoch: 12\n"
     ]
    },
    {
     "data": {
      "application/vnd.jupyter.widget-view+json": {
       "model_id": "8151cbe332534d079b0efc92b4efc0fc",
       "version_major": 2,
       "version_minor": 0
      },
      "text/plain": [
       "  0%|          | 0/54 [00:00<?, ?it/s]"
      ]
     },
     "metadata": {},
     "output_type": "display_data"
    },
    {
     "name": "stdout",
     "output_type": "stream",
     "text": [
      "Eval loss: 1.1650072342405717\n",
      "Eval Metrics: {'accuracy_score': 0.8770092906650937, 'precision': 0.6054982817869415, 'recall': 0.3823784722222222, 'f1': 0.4687416866187816}\n",
      "Training Epoch: 13\n"
     ]
    },
    {
     "data": {
      "application/vnd.jupyter.widget-view+json": {
       "model_id": "6f5e95d099774e748d670f0ea56bdc7c",
       "version_major": 2,
       "version_minor": 0
      },
      "text/plain": [
       "  0%|          | 0/1358 [00:00<?, ?it/s]"
      ]
     },
     "metadata": {},
     "output_type": "display_data"
    },
    {
     "name": "stdout",
     "output_type": "stream",
     "text": [
      "Train loss: 0.03254670706782997\n",
      "Evaluating Epoch: 13\n"
     ]
    },
    {
     "data": {
      "application/vnd.jupyter.widget-view+json": {
       "model_id": "6b629767691b47a4b4e6713a505e90dc",
       "version_major": 2,
       "version_minor": 0
      },
      "text/plain": [
       "  0%|          | 0/54 [00:00<?, ?it/s]"
      ]
     },
     "metadata": {},
     "output_type": "display_data"
    },
    {
     "name": "stdout",
     "output_type": "stream",
     "text": [
      "Eval loss: 1.183531285918973\n",
      "Eval Metrics: {'accuracy_score': 0.878778941159121, 'precision': 0.6064814814814815, 'recall': 0.3980034722222222, 'f1': 0.4806079664570231}\n",
      "Training Epoch: 14\n"
     ]
    },
    {
     "data": {
      "application/vnd.jupyter.widget-view+json": {
       "model_id": "d59a7b360947411788fa7c983c913ea2",
       "version_major": 2,
       "version_minor": 0
      },
      "text/plain": [
       "  0%|          | 0/1358 [00:00<?, ?it/s]"
      ]
     },
     "metadata": {},
     "output_type": "display_data"
    },
    {
     "name": "stdout",
     "output_type": "stream",
     "text": [
      "Train loss: 0.030693079641088673\n",
      "Evaluating Epoch: 14\n"
     ]
    },
    {
     "data": {
      "application/vnd.jupyter.widget-view+json": {
       "model_id": "b7632ee30e7f4e5598746598ecb0b0d1",
       "version_major": 2,
       "version_minor": 0
      },
      "text/plain": [
       "  0%|          | 0/54 [00:00<?, ?it/s]"
      ]
     },
     "metadata": {},
     "output_type": "display_data"
    },
    {
     "name": "stdout",
     "output_type": "stream",
     "text": [
      "Eval loss: 1.2150339333823434\n",
      "Eval Metrics: {'accuracy_score': 0.8786314702846187, 'precision': 0.602496714848883, 'recall': 0.3980034722222222, 'f1': 0.4793518034500784}\n",
      "Training Epoch: 15\n"
     ]
    },
    {
     "data": {
      "application/vnd.jupyter.widget-view+json": {
       "model_id": "7d755a9d4555425784da60da5938004b",
       "version_major": 2,
       "version_minor": 0
      },
      "text/plain": [
       "  0%|          | 0/1358 [00:00<?, ?it/s]"
      ]
     },
     "metadata": {},
     "output_type": "display_data"
    },
    {
     "name": "stdout",
     "output_type": "stream",
     "text": [
      "Train loss: 0.029290905543617577\n",
      "Evaluating Epoch: 15\n"
     ]
    },
    {
     "data": {
      "application/vnd.jupyter.widget-view+json": {
       "model_id": "0ba2f864e043470cbe3e1696681bba11",
       "version_major": 2,
       "version_minor": 0
      },
      "text/plain": [
       "  0%|          | 0/54 [00:00<?, ?it/s]"
      ]
     },
     "metadata": {},
     "output_type": "display_data"
    },
    {
     "name": "stdout",
     "output_type": "stream",
     "text": [
      "Eval loss: 1.2293675292835191\n",
      "Eval Metrics: {'accuracy_score': 0.8773042324140982, 'precision': 0.6009421265141319, 'recall': 0.3875868055555556, 'f1': 0.4712401055408971}\n",
      "Training Epoch: 16\n"
     ]
    },
    {
     "data": {
      "application/vnd.jupyter.widget-view+json": {
       "model_id": "32f1e56f97984fd8a840b788c548dcfa",
       "version_major": 2,
       "version_minor": 0
      },
      "text/plain": [
       "  0%|          | 0/1358 [00:00<?, ?it/s]"
      ]
     },
     "metadata": {},
     "output_type": "display_data"
    },
    {
     "name": "stdout",
     "output_type": "stream",
     "text": [
      "Train loss: 0.02768696439200865\n",
      "Evaluating Epoch: 16\n"
     ]
    },
    {
     "data": {
      "application/vnd.jupyter.widget-view+json": {
       "model_id": "2c71254d73c54cabbd0977cda5d54b4f",
       "version_major": 2,
       "version_minor": 0
      },
      "text/plain": [
       "  0%|          | 0/54 [00:00<?, ?it/s]"
      ]
     },
     "metadata": {},
     "output_type": "display_data"
    },
    {
     "name": "stdout",
     "output_type": "stream",
     "text": [
      "Eval loss: 1.3306724572623219\n",
      "Eval Metrics: {'accuracy_score': 0.8769109767487588, 'precision': 0.6028708133971292, 'recall': 0.3828125, 'f1': 0.46827714361560924}\n",
      "Training Epoch: 17\n"
     ]
    },
    {
     "data": {
      "application/vnd.jupyter.widget-view+json": {
       "model_id": "42db4d86ca8a4c9a89dfc8e3c7ca9766",
       "version_major": 2,
       "version_minor": 0
      },
      "text/plain": [
       "  0%|          | 0/1358 [00:00<?, ?it/s]"
      ]
     },
     "metadata": {},
     "output_type": "display_data"
    },
    {
     "name": "stdout",
     "output_type": "stream",
     "text": [
      "Train loss: 0.026501539913475904\n",
      "Evaluating Epoch: 17\n"
     ]
    },
    {
     "data": {
      "application/vnd.jupyter.widget-view+json": {
       "model_id": "861b08f55eca43aebfd5a5e5aab67a91",
       "version_major": 2,
       "version_minor": 0
      },
      "text/plain": [
       "  0%|          | 0/54 [00:00<?, ?it/s]"
      ]
     },
     "metadata": {},
     "output_type": "display_data"
    },
    {
     "name": "stdout",
     "output_type": "stream",
     "text": [
      "Eval loss: 1.3562464725778058\n",
      "Eval Metrics: {'accuracy_score': 0.8781399007029445, 'precision': 0.6, 'recall': 0.3880208333333333, 'f1': 0.4712704269899841}\n",
      "Training Epoch: 18\n"
     ]
    },
    {
     "data": {
      "application/vnd.jupyter.widget-view+json": {
       "model_id": "b90152db667e4854b858f0d120b4e2e6",
       "version_major": 2,
       "version_minor": 0
      },
      "text/plain": [
       "  0%|          | 0/1358 [00:00<?, ?it/s]"
      ]
     },
     "metadata": {},
     "output_type": "display_data"
    },
    {
     "name": "stdout",
     "output_type": "stream",
     "text": [
      "Train loss: 0.025203276272526335\n",
      "Evaluating Epoch: 18\n"
     ]
    },
    {
     "data": {
      "application/vnd.jupyter.widget-view+json": {
       "model_id": "f00b745089ca48c28e6c7e65481d31d2",
       "version_major": 2,
       "version_minor": 0
      },
      "text/plain": [
       "  0%|          | 0/54 [00:00<?, ?it/s]"
      ]
     },
     "metadata": {},
     "output_type": "display_data"
    },
    {
     "name": "stdout",
     "output_type": "stream",
     "text": [
      "Eval loss: 1.3639080892834399\n",
      "Eval Metrics: {'accuracy_score': 0.8775991741631027, 'precision': 0.601078167115903, 'recall': 0.3871527777777778, 'f1': 0.470960929250264}\n",
      "Training Epoch: 19\n"
     ]
    },
    {
     "data": {
      "application/vnd.jupyter.widget-view+json": {
       "model_id": "6c9b20b313df408c950f6f0d59b1f12c",
       "version_major": 2,
       "version_minor": 0
      },
      "text/plain": [
       "  0%|          | 0/1358 [00:00<?, ?it/s]"
      ]
     },
     "metadata": {},
     "output_type": "display_data"
    },
    {
     "name": "stdout",
     "output_type": "stream",
     "text": [
      "Train loss: 0.024498248856496003\n",
      "Evaluating Epoch: 19\n"
     ]
    },
    {
     "data": {
      "application/vnd.jupyter.widget-view+json": {
       "model_id": "4e46139cb37f494ea63b40e92238a5da",
       "version_major": 2,
       "version_minor": 0
      },
      "text/plain": [
       "  0%|          | 0/54 [00:00<?, ?it/s]"
      ]
     },
     "metadata": {},
     "output_type": "display_data"
    },
    {
     "name": "stdout",
     "output_type": "stream",
     "text": [
      "Eval loss: 1.3793820437319853\n",
      "Eval Metrics: {'accuracy_score': 0.8775008602467679, 'precision': 0.6025469168900804, 'recall': 0.3901909722222222, 'f1': 0.47365648050579556}\n",
      "Training Epoch: 20\n"
     ]
    },
    {
     "data": {
      "application/vnd.jupyter.widget-view+json": {
       "model_id": "c270814574e7489c81077e80ca7606fd",
       "version_major": 2,
       "version_minor": 0
      },
      "text/plain": [
       "  0%|          | 0/1358 [00:00<?, ?it/s]"
      ]
     },
     "metadata": {},
     "output_type": "display_data"
    },
    {
     "name": "stdout",
     "output_type": "stream",
     "text": [
      "Train loss: 0.0234110610485773\n",
      "Evaluating Epoch: 20\n"
     ]
    },
    {
     "data": {
      "application/vnd.jupyter.widget-view+json": {
       "model_id": "2d01217a6886444dae419b6bf55cc074",
       "version_major": 2,
       "version_minor": 0
      },
      "text/plain": [
       "  0%|          | 0/54 [00:00<?, ?it/s]"
      ]
     },
     "metadata": {},
     "output_type": "display_data"
    },
    {
     "name": "stdout",
     "output_type": "stream",
     "text": [
      "Eval loss: 1.409962546011364\n",
      "Eval Metrics: {'accuracy_score': 0.8776483311212702, 'precision': 0.6018766756032171, 'recall': 0.3897569444444444, 'f1': 0.4731296101159115}\n",
      "DONE!\n"
     ]
    }
   ],
   "source": [
    "class NERTrainer:\n",
    "    def __init__(self, test_dataset_path):\n",
    "        self.cfg = Config()\n",
    "        self.data_reader = DataReader(\"Labeled_SemiLabeledData.txt\")\n",
    "        self.data, _, _ = self.data_reader.read_data_bert()\n",
    "        self.label_list = read_labels('NewEntities.txt')\n",
    "\n",
    "        self.label_map = get_label_map(self.label_list)\n",
    "        self.inv_label_map = get_inv_label_map(self.label_list)\n",
    "\n",
    "        # Load the test dataset\n",
    "        self.test_data_reader = DataReader(test_dataset_path)\n",
    "        self.test_data, _, _ = self.test_data_reader.read_data_bert()\n",
    "\n",
    "        self.TOKENIZER = AutoTokenizer.from_pretrained(self.cfg.MODEL_NAME)\n",
    "\n",
    "        self.train_dataset = NERDataset(\n",
    "            texts=[x[0] for x in self.data],\n",
    "            tags=[x[1] for x in self.data],\n",
    "            label_list=self.label_list,\n",
    "            model_name=self.cfg.MODEL_NAME,\n",
    "            max_length=self.cfg.MAX_LEN\n",
    "        )\n",
    "\n",
    "        self.test_dataset = NERDataset(\n",
    "            texts=[x[0] for x in self.test_data],\n",
    "            tags=[x[1] for x in self.test_data],\n",
    "            label_list=self.label_list,\n",
    "            model_name=self.cfg.MODEL_NAME,\n",
    "            max_length=self.cfg.MAX_LEN\n",
    "        )\n",
    "\n",
    "        self.train_data_loader = DataLoader(dataset=self.train_dataset, batch_size=self.cfg.TRAIN_BATCH_SIZE, shuffle=True)\n",
    "        self.test_data_loader = DataLoader(dataset=self.test_dataset, batch_size=self.cfg.VALID_BATCH_SIZE, shuffle=False)\n",
    "\n",
    "        self.model = BertForTokenClassification.from_pretrained(self.cfg.MODEL_NAME,\n",
    "                                                                return_dict=True,\n",
    "                                                                num_labels=len(self.label_map),\n",
    "                                                                output_attentions=False,\n",
    "                                                                output_hidden_states=False).to(self.cfg.device)\n",
    "\n",
    "        self.optimizer = AdamW(self.model.parameters(), lr=5e-5, correct_bias=False)\n",
    "        total_steps = len(self.train_data_loader) * self.cfg.EPOCHS\n",
    "\n",
    "        self.scheduler = get_linear_schedule_with_warmup(\n",
    "            self.optimizer,\n",
    "            num_warmup_steps=0,\n",
    "            num_training_steps=total_steps\n",
    "        )\n",
    "\n",
    "        self.best_eval_loss = float('inf')\n",
    "        self.best_model = None\n",
    "\n",
    "    def train_epoch(self):\n",
    "        self.model.train()\n",
    "        final_loss = 0\n",
    "\n",
    "        for data in tqdm(self.train_data_loader, total=len(self.train_data_loader)):\n",
    "            input_ids = data['input_ids'].to(self.cfg.device)\n",
    "            attention_mask = data['attention_mask'].to(self.cfg.device)\n",
    "            token_type_ids = data['token_type_ids'].to(self.cfg.device)\n",
    "            labels = data['labels'].to(self.cfg.device)\n",
    "\n",
    "            self.optimizer.zero_grad()\n",
    "            outputs = self.model(input_ids=input_ids,\n",
    "                                 token_type_ids=token_type_ids,\n",
    "                                 attention_mask=attention_mask,\n",
    "                                 labels=labels)\n",
    "\n",
    "            loss = outputs.loss\n",
    "            loss.backward()\n",
    "            nn.utils.clip_grad_norm_(self.model.parameters(), max_norm=1.0)\n",
    "            self.optimizer.step()\n",
    "            self.scheduler.step()\n",
    "            final_loss += loss.item()\n",
    "\n",
    "        loss = final_loss / len(self.train_data_loader)\n",
    "        print(f\"Train loss: {loss}\")\n",
    "\n",
    "        return loss\n",
    "\n",
    "    def eval_epoch(self):\n",
    "        self.model.eval()\n",
    "        final_loss = 0\n",
    "        all_labels = []\n",
    "        all_preds = []\n",
    "\n",
    "        with torch.no_grad():\n",
    "            for data in tqdm(self.test_data_loader, total=len(self.test_data_loader)):\n",
    "                input_ids = data['input_ids'].to(self.cfg.device)\n",
    "                attention_mask = data['attention_mask'].to(self.cfg.device)\n",
    "                token_type_ids = data['token_type_ids'].to(self.cfg.device)\n",
    "                labels = data['labels'].to(self.cfg.device)\n",
    "\n",
    "                outputs = self.model(input_ids=input_ids,\n",
    "                                     token_type_ids=token_type_ids,\n",
    "                                     attention_mask=attention_mask,\n",
    "                                     labels=labels)\n",
    "\n",
    "                loss = outputs.loss\n",
    "                final_loss += loss.item()\n",
    "\n",
    "                logits = outputs.logits.detach().cpu().numpy()\n",
    "                labels = labels.to('cpu').numpy()\n",
    "\n",
    "                all_preds.extend(logits)\n",
    "                all_labels.extend(labels)\n",
    "\n",
    "        all_preds = np.array(all_preds)\n",
    "        all_labels = np.asarray(all_labels)\n",
    "\n",
    "        metrics = compute_metrics(all_preds, all_labels, self.inv_label_map, False)\n",
    "        final_loss = final_loss / len(self.test_data_loader)\n",
    "\n",
    "        print(f\"Eval loss: {final_loss}\")\n",
    "        print(f\"Eval Metrics: {metrics}\")\n",
    "\n",
    "        return final_loss, metrics\n",
    "\n",
    "    def train(self):\n",
    "        for epoch in range(self.cfg.EPOCHS):\n",
    "            print(f\"Training Epoch: {epoch + 1}\")\n",
    "            self.train_epoch()\n",
    "\n",
    "            print(f\"Evaluating Epoch: {epoch + 1}\")\n",
    "            eval_loss, _ = self.eval_epoch()\n",
    "\n",
    "            if eval_loss < self.best_eval_loss:\n",
    "                self.best_eval_loss = eval_loss\n",
    "                self.best_model = self.model.state_dict()\n",
    "                torch.save(self.best_model, \"StudentModel.pt\")\n",
    "\n",
    "\n",
    "if __name__ == '__main__':\n",
    "    test_dataset_path = \"TestingData.txt\"\n",
    "    ner_trainer = NERTrainer(test_dataset_path)\n",
    "    ner_trainer.train()\n",
    "    print(\"DONE!\")"
   ]
  },
  {
   "cell_type": "code",
   "execution_count": 7,
   "id": "3a31ad65-0eec-4892-afd5-eb610cdbfb1d",
   "metadata": {
    "tags": []
   },
   "outputs": [],
   "source": [
    "import dill\n",
    "dill.dump_session('StudentCompleted.db')"
   ]
  }
 ],
 "metadata": {
  "kernelspec": {
   "display_name": "Python 3 (ipykernel)",
   "language": "python",
   "name": "python3"
  },
  "language_info": {
   "codemirror_mode": {
    "name": "ipython",
    "version": 3
   },
   "file_extension": ".py",
   "mimetype": "text/x-python",
   "name": "python",
   "nbconvert_exporter": "python",
   "pygments_lexer": "ipython3",
   "version": "3.10.13"
  }
 },
 "nbformat": 4,
 "nbformat_minor": 5
}
