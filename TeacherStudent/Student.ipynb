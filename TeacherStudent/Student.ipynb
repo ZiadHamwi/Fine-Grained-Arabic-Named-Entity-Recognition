{
 "cells": [
  {
   "cell_type": "code",
   "execution_count": 2,
   "id": "a5181e52-1cbd-4d5a-ad08-c3444e38ec95",
   "metadata": {
    "tags": []
   },
   "outputs": [
    {
     "name": "stderr",
     "output_type": "stream",
     "text": [
      "/home/mke37/.local/lib/python3.10/site-packages/pandas/core/arrays/masked.py:60: UserWarning: Pandas requires version '1.3.6' or newer of 'bottleneck' (version '1.3.5' currently installed).\n",
      "  from pandas.core import (\n",
      "2024-08-25 12:06:45.704476: E external/local_xla/xla/stream_executor/cuda/cuda_dnn.cc:9261] Unable to register cuDNN factory: Attempting to register factory for plugin cuDNN when one has already been registered\n",
      "2024-08-25 12:06:45.704528: E external/local_xla/xla/stream_executor/cuda/cuda_fft.cc:607] Unable to register cuFFT factory: Attempting to register factory for plugin cuFFT when one has already been registered\n",
      "2024-08-25 12:06:45.705690: E external/local_xla/xla/stream_executor/cuda/cuda_blas.cc:1515] Unable to register cuBLAS factory: Attempting to register factory for plugin cuBLAS when one has already been registered\n",
      "2024-08-25 12:06:45.715184: I tensorflow/core/platform/cpu_feature_guard.cc:182] This TensorFlow binary is optimized to use available CPU instructions in performance-critical operations.\n",
      "To enable the following instructions: AVX2 FMA, in other operations, rebuild TensorFlow with the appropriate compiler flags.\n",
      "2024-08-25 12:06:48.752465: W tensorflow/compiler/tf2tensorrt/utils/py_utils.cc:38] TF-TRT Warning: Could not find TensorRT\n",
      "/home/mke37/.local/lib/python3.10/site-packages/fuzzywuzzy/fuzz.py:11: UserWarning: Using slow pure-python SequenceMatcher. Install python-Levenshtein to remove this warning\n",
      "  warnings.warn('Using slow pure-python SequenceMatcher. Install python-Levenshtein to remove this warning')\n"
     ]
    }
   ],
   "source": [
    "import dill\n",
    "dill.load_session('StudentCompleted_G.db')"
   ]
  },
  {
   "cell_type": "code",
   "execution_count": 1,
   "id": "8f028f4c-f5d5-4d02-9594-5d7fc6acaa9e",
   "metadata": {
    "tags": []
   },
   "outputs": [
    {
     "name": "stdout",
     "output_type": "stream",
     "text": [
      "DEBUG\n"
     ]
    }
   ],
   "source": [
    "print(\"DEBUG\")"
   ]
  },
  {
   "cell_type": "code",
   "execution_count": 1,
   "id": "512e06e4",
   "metadata": {
    "tags": []
   },
   "outputs": [
    {
     "name": "stderr",
     "output_type": "stream",
     "text": [
      "/home/mke37/.local/lib/python3.10/site-packages/pandas/core/arrays/masked.py:60: UserWarning: Pandas requires version '1.3.6' or newer of 'bottleneck' (version '1.3.5' currently installed).\n",
      "  from pandas.core import (\n",
      "2024-06-13 03:50:18.307372: E external/local_xla/xla/stream_executor/cuda/cuda_dnn.cc:9261] Unable to register cuDNN factory: Attempting to register factory for plugin cuDNN when one has already been registered\n",
      "2024-06-13 03:50:18.310415: E external/local_xla/xla/stream_executor/cuda/cuda_fft.cc:607] Unable to register cuFFT factory: Attempting to register factory for plugin cuFFT when one has already been registered\n",
      "2024-06-13 03:50:18.312167: E external/local_xla/xla/stream_executor/cuda/cuda_blas.cc:1515] Unable to register cuBLAS factory: Attempting to register factory for plugin cuBLAS when one has already been registered\n",
      "2024-06-13 03:50:18.339358: I tensorflow/core/platform/cpu_feature_guard.cc:182] This TensorFlow binary is optimized to use available CPU instructions in performance-critical operations.\n",
      "To enable the following instructions: AVX2 FMA, in other operations, rebuild TensorFlow with the appropriate compiler flags.\n",
      "2024-06-13 03:50:24.246426: W tensorflow/compiler/tf2tensorrt/utils/py_utils.cc:38] TF-TRT Warning: Could not find TensorRT\n",
      "/home/mke37/.local/lib/python3.10/site-packages/fuzzywuzzy/fuzz.py:11: UserWarning: Using slow pure-python SequenceMatcher. Install python-Levenshtein to remove this warning\n",
      "  warnings.warn('Using slow pure-python SequenceMatcher. Install python-Levenshtein to remove this warning')\n"
     ]
    }
   ],
   "source": [
    "from preprocess import NERDataset\n",
    "from cleaning import DataReader\n",
    "import numpy as np\n",
    "from utils import compute_metrics, get_label_map, get_inv_label_map, read_labels\n",
    "from tqdm.notebook import tqdm\n",
    "from sklearn.model_selection import train_test_split\n",
    "from transformers import AutoTokenizer, BertForTokenClassification, AdamW, get_linear_schedule_with_warmup\n",
    "from torch.utils.data import DataLoader\n",
    "import torch\n",
    "from torch import nn\n",
    "from config import Config\n",
    "\n",
    "from transformers import AutoTokenizer, BertForTokenClassification # Import AutoTokenizer and BertForTokenClassification from the transformers library for NLP tasks.\n",
    "import torch # Import the PyTorch library for tensor computations and deep learning.\n",
    "import numpy as np # Import NumPy for numerical operations and array manipulations.\n",
    "import argparse # Import argparse for parsing command-line arguments.\n",
    "from typing import List # Import List from the typing module for type annotations.\n",
    "from config import Config # Import Config class from the config module, used for loading and accessing configuration settings.\n",
    "# Import utility functions: read_labels (to read label data), get_label_map and get_inv_label_map (for mapping labels to indices and vice versa).\n",
    "from utils import read_labels, get_label_map, get_inv_label_map\n",
    "import argparse # Re-import argparse (duplicate import, not necessary).\n",
    "import sys # Import sys for interacting with the Python interpreter (e.g., command-line arguments, system exit).\n",
    "\n",
    "import os\n",
    "import numpy as np\n",
    "from fuzzywuzzy import fuzz\n",
    "import re\n",
    "\n",
    "import torch.nn.functional as F\n",
    "from typing import Tuple"
   ]
  },
  {
   "cell_type": "code",
   "execution_count": 2,
   "id": "981fe364-a328-428b-a3a4-4e20b247a353",
   "metadata": {
    "tags": []
   },
   "outputs": [
    {
     "name": "stdout",
     "output_type": "stream",
     "text": [
      "DONE!\n"
     ]
    }
   ],
   "source": [
    "sentences = []\n",
    "labels = []\n",
    "\n",
    "curr_sentence = []\n",
    "curr_labels = []\n",
    "\n",
    "with open(\"Labeled_SemiLabeledData_G.txt\", \"r\") as file:\n",
    "    for line in file:\n",
    "        if line != \"\\n\":\n",
    "            label = line.split()[0]\n",
    "            word = line.split()[1]\n",
    "            \n",
    "            curr_sentence.append(word)\n",
    "            curr_labels.append(label)\n",
    "        else:\n",
    "            sentences.append(curr_sentence)\n",
    "            labels.append(curr_labels)\n",
    "            curr_sentence = []\n",
    "            curr_labels = []\n",
    "            \n",
    "print(\"DONE!\")           "
   ]
  },
  {
   "cell_type": "code",
   "execution_count": 3,
   "id": "a4d6ee6f-85ed-48bf-8dda-d342f0f854e7",
   "metadata": {
    "tags": []
   },
   "outputs": [
    {
     "name": "stdout",
     "output_type": "stream",
     "text": [
      "21726 21726\n",
      "['يعد', 'مرض', 'آلزهايمر', 'واحدا', 'من', 'أكثر', 'الأمراض', 'كلفة', 'مالية', 'في', 'الدول', 'المتقدمة', '.']\n",
      "['OUTSIDE', 'OUTSIDE', 'B-Disease', 'OUTSIDE', 'OUTSIDE', 'OUTSIDE', 'OUTSIDE', 'OUTSIDE', 'OUTSIDE', 'OUTSIDE', 'OUTSIDE', 'OUTSIDE', 'OUTSIDE']\n"
     ]
    }
   ],
   "source": [
    "print(len(sentences), len(labels))\n",
    "print(sentences[-1])\n",
    "print(labels[-1])"
   ]
  },
  {
   "cell_type": "code",
   "execution_count": 4,
   "id": "b29445eb-47f8-4547-a7ee-959a7ff9460a",
   "metadata": {
    "tags": []
   },
   "outputs": [],
   "source": [
    "def remove_diacritics(text):\n",
    "    return re.sub(re.compile(r'[\\u0617-\\u061A\\u064B-\\u0652]'),\"\", text)"
   ]
  },
  {
   "cell_type": "code",
   "execution_count": 5,
   "id": "812d67ae-7f4f-43e5-a115-0e25656e13f6",
   "metadata": {
    "tags": []
   },
   "outputs": [],
   "source": [
    "for i in range(len(sentences)):\n",
    "    for j in range(len(sentences[i])):\n",
    "        sentences[i][j] = remove_diacritics(sentences[i][j])"
   ]
  },
  {
   "cell_type": "code",
   "execution_count": 6,
   "id": "c6eaee22",
   "metadata": {
    "scrolled": true,
    "tags": []
   },
   "outputs": [
    {
     "name": "stdout",
     "output_type": "stream",
     "text": [
      "Data: 21726 , Sentences: 21726 , Tags: 21726\n",
      "Data: 856 , Sentences: 856 , Tags: 856\n"
     ]
    },
    {
     "name": "stderr",
     "output_type": "stream",
     "text": [
      "Some weights of BertForTokenClassification were not initialized from the model checkpoint at aubmindlab/bert-base-arabertv02 and are newly initialized: ['classifier.bias', 'classifier.weight']\n",
      "You should probably TRAIN this model on a down-stream task to be able to use it for predictions and inference.\n"
     ]
    },
    {
     "name": "stdout",
     "output_type": "stream",
     "text": [
      "Training Epoch: 1\n"
     ]
    },
    {
     "name": "stderr",
     "output_type": "stream",
     "text": [
      "/apps/sw/miniconda/envs/transformers-r1/lib/python3.10/site-packages/transformers/optimization.py:411: FutureWarning: This implementation of AdamW is deprecated and will be removed in a future version. Use the PyTorch implementation torch.optim.AdamW instead, or set `no_deprecation_warning=True` to disable this warning\n",
      "  warnings.warn(\n"
     ]
    },
    {
     "data": {
      "application/vnd.jupyter.widget-view+json": {
       "model_id": "7e096bb8078b4970bc839088c161f590",
       "version_major": 2,
       "version_minor": 0
      },
      "text/plain": [
       "  0%|          | 0/1358 [00:00<?, ?it/s]"
      ]
     },
     "metadata": {},
     "output_type": "display_data"
    },
    {
     "name": "stdout",
     "output_type": "stream",
     "text": [
      "Train loss: 0.23477632877456686\n",
      "Evaluating Epoch: 1\n"
     ]
    },
    {
     "data": {
      "application/vnd.jupyter.widget-view+json": {
       "model_id": "ab9427feac074a2294c62ecf621ab68d",
       "version_major": 2,
       "version_minor": 0
      },
      "text/plain": [
       "  0%|          | 0/54 [00:00<?, ?it/s]"
      ]
     },
     "metadata": {},
     "output_type": "display_data"
    },
    {
     "name": "stderr",
     "output_type": "stream",
     "text": [
      "/home/mke37/.local/lib/python3.10/site-packages/seqeval/metrics/sequence_labeling.py:171: UserWarning: OUTSIDE seems not to be NE tag.\n",
      "  warnings.warn('{} seems not to be NE tag.'.format(chunk))\n"
     ]
    },
    {
     "name": "stdout",
     "output_type": "stream",
     "text": [
      "Eval loss: 0.5748514632383982\n",
      "Eval Metrics: {'accuracy_score': 0.8881679201691, 'precision': 0.5973154362416108, 'recall': 0.5021701388888888, 'f1': 0.5456260315963216}\n",
      "Training Epoch: 2\n"
     ]
    },
    {
     "data": {
      "application/vnd.jupyter.widget-view+json": {
       "model_id": "d8b6cd10ef354f2fa59bf1f1efbed5d4",
       "version_major": 2,
       "version_minor": 0
      },
      "text/plain": [
       "  0%|          | 0/1358 [00:00<?, ?it/s]"
      ]
     },
     "metadata": {},
     "output_type": "display_data"
    },
    {
     "name": "stdout",
     "output_type": "stream",
     "text": [
      "Train loss: 0.11477315382941439\n",
      "Evaluating Epoch: 2\n"
     ]
    },
    {
     "data": {
      "application/vnd.jupyter.widget-view+json": {
       "model_id": "c672888fa99c45699582cef69ecbd9f2",
       "version_major": 2,
       "version_minor": 0
      },
      "text/plain": [
       "  0%|          | 0/54 [00:00<?, ?it/s]"
      ]
     },
     "metadata": {},
     "output_type": "display_data"
    },
    {
     "name": "stdout",
     "output_type": "stream",
     "text": [
      "Eval loss: 0.5408632370332876\n",
      "Eval Metrics: {'accuracy_score': 0.8917563781153223, 'precision': 0.6184074457083765, 'recall': 0.5190972222222222, 'f1': 0.5644171779141104}\n",
      "Training Epoch: 3\n"
     ]
    },
    {
     "data": {
      "application/vnd.jupyter.widget-view+json": {
       "model_id": "587d70dfddf847c382e2781c8434e200",
       "version_major": 2,
       "version_minor": 0
      },
      "text/plain": [
       "  0%|          | 0/1358 [00:00<?, ?it/s]"
      ]
     },
     "metadata": {},
     "output_type": "display_data"
    },
    {
     "name": "stdout",
     "output_type": "stream",
     "text": [
      "Train loss: 0.08661249982102587\n",
      "Evaluating Epoch: 3\n"
     ]
    },
    {
     "data": {
      "application/vnd.jupyter.widget-view+json": {
       "model_id": "ccb2e7836648481d911c275f212a8fe9",
       "version_major": 2,
       "version_minor": 0
      },
      "text/plain": [
       "  0%|          | 0/54 [00:00<?, ?it/s]"
      ]
     },
     "metadata": {},
     "output_type": "display_data"
    },
    {
     "name": "stdout",
     "output_type": "stream",
     "text": [
      "Eval loss: 0.6762121099012869\n",
      "Eval Metrics: {'accuracy_score': 0.8894460010814531, 'precision': 0.6186666666666667, 'recall': 0.5034722222222222, 'f1': 0.5551567360612587}\n",
      "Training Epoch: 4\n"
     ]
    },
    {
     "data": {
      "application/vnd.jupyter.widget-view+json": {
       "model_id": "d84507688f3744dabc57d0b0161d8687",
       "version_major": 2,
       "version_minor": 0
      },
      "text/plain": [
       "  0%|          | 0/1358 [00:00<?, ?it/s]"
      ]
     },
     "metadata": {},
     "output_type": "display_data"
    },
    {
     "name": "stdout",
     "output_type": "stream",
     "text": [
      "Train loss: 0.07004266916685059\n",
      "Evaluating Epoch: 4\n"
     ]
    },
    {
     "data": {
      "application/vnd.jupyter.widget-view+json": {
       "model_id": "179597d8722345989538d586cebb50a1",
       "version_major": 2,
       "version_minor": 0
      },
      "text/plain": [
       "  0%|          | 0/54 [00:00<?, ?it/s]"
      ]
     },
     "metadata": {},
     "output_type": "display_data"
    },
    {
     "name": "stdout",
     "output_type": "stream",
     "text": [
      "Eval loss: 0.74682352402144\n",
      "Eval Metrics: {'accuracy_score': 0.8916580641989874, 'precision': 0.6292073832790445, 'recall': 0.5030381944444444, 'f1': 0.5590931017848529}\n",
      "Training Epoch: 5\n"
     ]
    },
    {
     "data": {
      "application/vnd.jupyter.widget-view+json": {
       "model_id": "ffbc6e6d26884d8e924e308cb83772c9",
       "version_major": 2,
       "version_minor": 0
      },
      "text/plain": [
       "  0%|          | 0/1358 [00:00<?, ?it/s]"
      ]
     },
     "metadata": {},
     "output_type": "display_data"
    },
    {
     "name": "stdout",
     "output_type": "stream",
     "text": [
      "Train loss: 0.05957132014507683\n",
      "Evaluating Epoch: 5\n"
     ]
    },
    {
     "data": {
      "application/vnd.jupyter.widget-view+json": {
       "model_id": "e5abc379a9f04f3d956780ac03d4d467",
       "version_major": 2,
       "version_minor": 0
      },
      "text/plain": [
       "  0%|          | 0/54 [00:00<?, ?it/s]"
      ]
     },
     "metadata": {},
     "output_type": "display_data"
    },
    {
     "name": "stdout",
     "output_type": "stream",
     "text": [
      "Eval loss: 0.7287734589642949\n",
      "Eval Metrics: {'accuracy_score': 0.8891510593324485, 'precision': 0.6075819672131147, 'recall': 0.5147569444444444, 'f1': 0.5573308270676691}\n",
      "Training Epoch: 6\n"
     ]
    },
    {
     "data": {
      "application/vnd.jupyter.widget-view+json": {
       "model_id": "608902c13bbd410995a8043605712838",
       "version_major": 2,
       "version_minor": 0
      },
      "text/plain": [
       "  0%|          | 0/1358 [00:00<?, ?it/s]"
      ]
     },
     "metadata": {},
     "output_type": "display_data"
    },
    {
     "name": "stdout",
     "output_type": "stream",
     "text": [
      "Train loss: 0.05193037115790455\n",
      "Evaluating Epoch: 6\n"
     ]
    },
    {
     "data": {
      "application/vnd.jupyter.widget-view+json": {
       "model_id": "5e308a1f6e104782bb2b7cf7b3fe597d",
       "version_major": 2,
       "version_minor": 0
      },
      "text/plain": [
       "  0%|          | 0/54 [00:00<?, ?it/s]"
      ]
     },
     "metadata": {},
     "output_type": "display_data"
    },
    {
     "name": "stdout",
     "output_type": "stream",
     "text": [
      "Eval loss: 0.8035496779614024\n",
      "Eval Metrics: {'accuracy_score': 0.8912156515754805, 'precision': 0.6133886870783601, 'recall': 0.5130208333333334, 'f1': 0.558733160009454}\n",
      "Training Epoch: 7\n"
     ]
    },
    {
     "data": {
      "application/vnd.jupyter.widget-view+json": {
       "model_id": "f6a5275003564ecab1c531e35e1f424b",
       "version_major": 2,
       "version_minor": 0
      },
      "text/plain": [
       "  0%|          | 0/1358 [00:00<?, ?it/s]"
      ]
     },
     "metadata": {},
     "output_type": "display_data"
    },
    {
     "name": "stdout",
     "output_type": "stream",
     "text": [
      "Train loss: 0.045537479612043616\n",
      "Evaluating Epoch: 7\n"
     ]
    },
    {
     "data": {
      "application/vnd.jupyter.widget-view+json": {
       "model_id": "afda3bd31e0440a89a7007a5819d5111",
       "version_major": 2,
       "version_minor": 0
      },
      "text/plain": [
       "  0%|          | 0/54 [00:00<?, ?it/s]"
      ]
     },
     "metadata": {},
     "output_type": "display_data"
    },
    {
     "name": "stdout",
     "output_type": "stream",
     "text": [
      "Eval loss: 0.8299842783146434\n",
      "Eval Metrics: {'accuracy_score': 0.8915597502826526, 'precision': 0.6197183098591549, 'recall': 0.515625, 'f1': 0.5628997867803838}\n",
      "Training Epoch: 8\n"
     ]
    },
    {
     "data": {
      "application/vnd.jupyter.widget-view+json": {
       "model_id": "2d89b2017e7f4c09a456eb7df861a368",
       "version_major": 2,
       "version_minor": 0
      },
      "text/plain": [
       "  0%|          | 0/1358 [00:00<?, ?it/s]"
      ]
     },
     "metadata": {},
     "output_type": "display_data"
    },
    {
     "name": "stdout",
     "output_type": "stream",
     "text": [
      "Train loss: 0.041594349449145196\n",
      "Evaluating Epoch: 8\n"
     ]
    },
    {
     "data": {
      "application/vnd.jupyter.widget-view+json": {
       "model_id": "c56d7d056a554b8d8316651d04e08a26",
       "version_major": 2,
       "version_minor": 0
      },
      "text/plain": [
       "  0%|          | 0/54 [00:00<?, ?it/s]"
      ]
     },
     "metadata": {},
     "output_type": "display_data"
    },
    {
     "name": "stdout",
     "output_type": "stream",
     "text": [
      "Eval loss: 0.8267502185923082\n",
      "Eval Metrics: {'accuracy_score': 0.8906749250356388, 'precision': 0.6061855670103092, 'recall': 0.5104166666666666, 'f1': 0.5541941564561734}\n",
      "Training Epoch: 9\n"
     ]
    },
    {
     "data": {
      "application/vnd.jupyter.widget-view+json": {
       "model_id": "53de945df0154c3b96cd5979e00dcdf7",
       "version_major": 2,
       "version_minor": 0
      },
      "text/plain": [
       "  0%|          | 0/1358 [00:00<?, ?it/s]"
      ]
     },
     "metadata": {},
     "output_type": "display_data"
    },
    {
     "name": "stdout",
     "output_type": "stream",
     "text": [
      "Train loss: 0.037042257337953036\n",
      "Evaluating Epoch: 9\n"
     ]
    },
    {
     "data": {
      "application/vnd.jupyter.widget-view+json": {
       "model_id": "6e3bd13d81bf4ac194840f4f385fbd37",
       "version_major": 2,
       "version_minor": 0
      },
      "text/plain": [
       "  0%|          | 0/54 [00:00<?, ?it/s]"
      ]
     },
     "metadata": {},
     "output_type": "display_data"
    },
    {
     "name": "stdout",
     "output_type": "stream",
     "text": [
      "Eval loss: 0.9674960369313205\n",
      "Eval Metrics: {'accuracy_score': 0.8917072211571548, 'precision': 0.6260593220338984, 'recall': 0.5130208333333334, 'f1': 0.5639312977099237}\n",
      "Training Epoch: 10\n"
     ]
    },
    {
     "data": {
      "application/vnd.jupyter.widget-view+json": {
       "model_id": "a8e7e51d60534d1491f6f7137cb3614f",
       "version_major": 2,
       "version_minor": 0
      },
      "text/plain": [
       "  0%|          | 0/1358 [00:00<?, ?it/s]"
      ]
     },
     "metadata": {},
     "output_type": "display_data"
    },
    {
     "name": "stdout",
     "output_type": "stream",
     "text": [
      "Train loss: 0.03425361372946058\n",
      "Evaluating Epoch: 10\n"
     ]
    },
    {
     "data": {
      "application/vnd.jupyter.widget-view+json": {
       "model_id": "6360fb8864554541893c727a68a28001",
       "version_major": 2,
       "version_minor": 0
      },
      "text/plain": [
       "  0%|          | 0/54 [00:00<?, ?it/s]"
      ]
     },
     "metadata": {},
     "output_type": "display_data"
    },
    {
     "name": "stdout",
     "output_type": "stream",
     "text": [
      "Eval loss: 0.9104320324129529\n",
      "Eval Metrics: {'accuracy_score': 0.8924445755296663, 'precision': 0.6228660113812726, 'recall': 0.5225694444444444, 'f1': 0.5683266462119423}\n",
      "Training Epoch: 11\n"
     ]
    },
    {
     "data": {
      "application/vnd.jupyter.widget-view+json": {
       "model_id": "15cbea2413bc46d89fb5d406886abec8",
       "version_major": 2,
       "version_minor": 0
      },
      "text/plain": [
       "  0%|          | 0/1358 [00:00<?, ?it/s]"
      ]
     },
     "metadata": {},
     "output_type": "display_data"
    },
    {
     "name": "stdout",
     "output_type": "stream",
     "text": [
      "Train loss: 0.03139747833968202\n",
      "Evaluating Epoch: 11\n"
     ]
    },
    {
     "data": {
      "application/vnd.jupyter.widget-view+json": {
       "model_id": "a3904fcfb1fc415f858de517a2097d09",
       "version_major": 2,
       "version_minor": 0
      },
      "text/plain": [
       "  0%|          | 0/54 [00:00<?, ?it/s]"
      ]
     },
     "metadata": {},
     "output_type": "display_data"
    },
    {
     "name": "stdout",
     "output_type": "stream",
     "text": [
      "Eval loss: 1.0501538095650849\n",
      "Eval Metrics: {'accuracy_score': 0.8911664946173131, 'precision': 0.6198521647307286, 'recall': 0.5095486111111112, 'f1': 0.5593139590281087}\n",
      "Training Epoch: 12\n"
     ]
    },
    {
     "data": {
      "application/vnd.jupyter.widget-view+json": {
       "model_id": "d1cb1bf309044a3388944769daac8bc3",
       "version_major": 2,
       "version_minor": 0
      },
      "text/plain": [
       "  0%|          | 0/1358 [00:00<?, ?it/s]"
      ]
     },
     "metadata": {},
     "output_type": "display_data"
    },
    {
     "name": "stdout",
     "output_type": "stream",
     "text": [
      "Train loss: 0.02929932904111349\n",
      "Evaluating Epoch: 12\n"
     ]
    },
    {
     "data": {
      "application/vnd.jupyter.widget-view+json": {
       "model_id": "7466cd149b1c4a68b66d5771f490c809",
       "version_major": 2,
       "version_minor": 0
      },
      "text/plain": [
       "  0%|          | 0/54 [00:00<?, ?it/s]"
      ]
     },
     "metadata": {},
     "output_type": "display_data"
    },
    {
     "name": "stdout",
     "output_type": "stream",
     "text": [
      "Eval loss: 1.0273340021570523\n",
      "Eval Metrics: {'accuracy_score': 0.8931327729440103, 'precision': 0.6224436287362349, 'recall': 0.5151909722222222, 'f1': 0.5637615768226074}\n",
      "Training Epoch: 13\n"
     ]
    },
    {
     "data": {
      "application/vnd.jupyter.widget-view+json": {
       "model_id": "346b0783dc3d4d04af1ec86369f6cd38",
       "version_major": 2,
       "version_minor": 0
      },
      "text/plain": [
       "  0%|          | 0/1358 [00:00<?, ?it/s]"
      ]
     },
     "metadata": {},
     "output_type": "display_data"
    },
    {
     "name": "stdout",
     "output_type": "stream",
     "text": [
      "Train loss: 0.02770171039866778\n",
      "Evaluating Epoch: 13\n"
     ]
    },
    {
     "data": {
      "application/vnd.jupyter.widget-view+json": {
       "model_id": "69d53ae856734069a37abd9ccb1d3a0f",
       "version_major": 2,
       "version_minor": 0
      },
      "text/plain": [
       "  0%|          | 0/54 [00:00<?, ?it/s]"
      ]
     },
     "metadata": {},
     "output_type": "display_data"
    },
    {
     "name": "stdout",
     "output_type": "stream",
     "text": [
      "Eval loss: 1.0695080312865752\n",
      "Eval Metrics: {'accuracy_score': 0.8913631224499828, 'precision': 0.6145778710015731, 'recall': 0.5086805555555556, 'f1': 0.5566373782949419}\n",
      "Training Epoch: 14\n"
     ]
    },
    {
     "data": {
      "application/vnd.jupyter.widget-view+json": {
       "model_id": "61b9ae0987bc4f4090d60c37bb77ef51",
       "version_major": 2,
       "version_minor": 0
      },
      "text/plain": [
       "  0%|          | 0/1358 [00:00<?, ?it/s]"
      ]
     },
     "metadata": {},
     "output_type": "display_data"
    },
    {
     "name": "stdout",
     "output_type": "stream",
     "text": [
      "Train loss: 0.02599223124168351\n",
      "Evaluating Epoch: 14\n"
     ]
    },
    {
     "data": {
      "application/vnd.jupyter.widget-view+json": {
       "model_id": "d381af5eaa354923ae9d96cf4ff9a895",
       "version_major": 2,
       "version_minor": 0
      },
      "text/plain": [
       "  0%|          | 0/54 [00:00<?, ?it/s]"
      ]
     },
     "metadata": {},
     "output_type": "display_data"
    },
    {
     "name": "stdout",
     "output_type": "stream",
     "text": [
      "Eval loss: 1.10303486055798\n",
      "Eval Metrics: {'accuracy_score': 0.8922479476969966, 'precision': 0.62148070907195, 'recall': 0.5173611111111112, 'f1': 0.5646612979630506}\n",
      "Training Epoch: 15\n"
     ]
    },
    {
     "data": {
      "application/vnd.jupyter.widget-view+json": {
       "model_id": "99ec3e580f49451c9a2dfa48c31a7e19",
       "version_major": 2,
       "version_minor": 0
      },
      "text/plain": [
       "  0%|          | 0/1358 [00:00<?, ?it/s]"
      ]
     },
     "metadata": {},
     "output_type": "display_data"
    },
    {
     "name": "stdout",
     "output_type": "stream",
     "text": [
      "Train loss: 0.024220795116558502\n",
      "Evaluating Epoch: 15\n"
     ]
    },
    {
     "data": {
      "application/vnd.jupyter.widget-view+json": {
       "model_id": "3e29817937a74a0c84e8fc39ddb5bee7",
       "version_major": 2,
       "version_minor": 0
      },
      "text/plain": [
       "  0%|          | 0/54 [00:00<?, ?it/s]"
      ]
     },
     "metadata": {},
     "output_type": "display_data"
    },
    {
     "name": "stdout",
     "output_type": "stream",
     "text": [
      "Eval loss: 1.1157305930499677\n",
      "Eval Metrics: {'accuracy_score': 0.89160890724082, 'precision': 0.615866388308977, 'recall': 0.5121527777777778, 'f1': 0.5592417061611376}\n",
      "Training Epoch: 16\n"
     ]
    },
    {
     "data": {
      "application/vnd.jupyter.widget-view+json": {
       "model_id": "0d02c8bcb7294dbbab58e62e5ba93166",
       "version_major": 2,
       "version_minor": 0
      },
      "text/plain": [
       "  0%|          | 0/1358 [00:00<?, ?it/s]"
      ]
     },
     "metadata": {},
     "output_type": "display_data"
    },
    {
     "name": "stdout",
     "output_type": "stream",
     "text": [
      "Train loss: 0.023362517274147385\n",
      "Evaluating Epoch: 16\n"
     ]
    },
    {
     "data": {
      "application/vnd.jupyter.widget-view+json": {
       "model_id": "26fd5f3e87db41b189cab4b213f750f8",
       "version_major": 2,
       "version_minor": 0
      },
      "text/plain": [
       "  0%|          | 0/54 [00:00<?, ?it/s]"
      ]
     },
     "metadata": {},
     "output_type": "display_data"
    },
    {
     "name": "stdout",
     "output_type": "stream",
     "text": [
      "Eval loss: 1.152050651885845\n",
      "Eval Metrics: {'accuracy_score': 0.8910681807009783, 'precision': 0.6178010471204188, 'recall': 0.5121527777777778, 'f1': 0.5600379686758424}\n",
      "Training Epoch: 17\n"
     ]
    },
    {
     "data": {
      "application/vnd.jupyter.widget-view+json": {
       "model_id": "65b60e1c65b8400b941d637548b17424",
       "version_major": 2,
       "version_minor": 0
      },
      "text/plain": [
       "  0%|          | 0/1358 [00:00<?, ?it/s]"
      ]
     },
     "metadata": {},
     "output_type": "display_data"
    },
    {
     "name": "stdout",
     "output_type": "stream",
     "text": [
      "Train loss: 0.022115027044642327\n",
      "Evaluating Epoch: 17\n"
     ]
    },
    {
     "data": {
      "application/vnd.jupyter.widget-view+json": {
       "model_id": "28c923feca5b4aa88bdfdff7cd146979",
       "version_major": 2,
       "version_minor": 0
      },
      "text/plain": [
       "  0%|          | 0/54 [00:00<?, ?it/s]"
      ]
     },
     "metadata": {},
     "output_type": "display_data"
    },
    {
     "name": "stdout",
     "output_type": "stream",
     "text": [
      "Eval loss: 1.1705885270127543\n",
      "Eval Metrics: {'accuracy_score': 0.8916580641989874, 'precision': 0.6184696569920844, 'recall': 0.5086805555555556, 'f1': 0.5582281495594189}\n",
      "Training Epoch: 18\n"
     ]
    },
    {
     "data": {
      "application/vnd.jupyter.widget-view+json": {
       "model_id": "6497fec1744941b4911ba1c75ebf7f08",
       "version_major": 2,
       "version_minor": 0
      },
      "text/plain": [
       "  0%|          | 0/1358 [00:00<?, ?it/s]"
      ]
     },
     "metadata": {},
     "output_type": "display_data"
    },
    {
     "name": "stdout",
     "output_type": "stream",
     "text": [
      "Train loss: 0.020812526579926733\n",
      "Evaluating Epoch: 18\n"
     ]
    },
    {
     "data": {
      "application/vnd.jupyter.widget-view+json": {
       "model_id": "e59ad45f65294ad7aa9203748e30a0d3",
       "version_major": 2,
       "version_minor": 0
      },
      "text/plain": [
       "  0%|          | 0/54 [00:00<?, ?it/s]"
      ]
     },
     "metadata": {},
     "output_type": "display_data"
    },
    {
     "name": "stdout",
     "output_type": "stream",
     "text": [
      "Eval loss: 1.2000986094828006\n",
      "Eval Metrics: {'accuracy_score': 0.8911173376591457, 'precision': 0.6186708860759493, 'recall': 0.5091145833333334, 'f1': 0.5585714285714286}\n",
      "Training Epoch: 19\n"
     ]
    },
    {
     "data": {
      "application/vnd.jupyter.widget-view+json": {
       "model_id": "c790c227d0d04a11b9c4ad5a6357b0af",
       "version_major": 2,
       "version_minor": 0
      },
      "text/plain": [
       "  0%|          | 0/1358 [00:00<?, ?it/s]"
      ]
     },
     "metadata": {},
     "output_type": "display_data"
    },
    {
     "name": "stdout",
     "output_type": "stream",
     "text": [
      "Train loss: 0.020056406569039478\n",
      "Evaluating Epoch: 19\n"
     ]
    },
    {
     "data": {
      "application/vnd.jupyter.widget-view+json": {
       "model_id": "1f849d3eb860449983ce412dc7efb860",
       "version_major": 2,
       "version_minor": 0
      },
      "text/plain": [
       "  0%|          | 0/54 [00:00<?, ?it/s]"
      ]
     },
     "metadata": {},
     "output_type": "display_data"
    },
    {
     "name": "stdout",
     "output_type": "stream",
     "text": [
      "Eval loss: 1.2160659884964977\n",
      "Eval Metrics: {'accuracy_score': 0.8917563781153223, 'precision': 0.6198217094913476, 'recall': 0.5130208333333334, 'f1': 0.5613868439800523}\n",
      "Training Epoch: 20\n"
     ]
    },
    {
     "data": {
      "application/vnd.jupyter.widget-view+json": {
       "model_id": "ce27f22458784a3fa55096b5dc6c1bc7",
       "version_major": 2,
       "version_minor": 0
      },
      "text/plain": [
       "  0%|          | 0/1358 [00:00<?, ?it/s]"
      ]
     },
     "metadata": {},
     "output_type": "display_data"
    },
    {
     "name": "stdout",
     "output_type": "stream",
     "text": [
      "Train loss: 0.019125314057031915\n",
      "Evaluating Epoch: 20\n"
     ]
    },
    {
     "data": {
      "application/vnd.jupyter.widget-view+json": {
       "model_id": "9539131127984371afc26a2d14885872",
       "version_major": 2,
       "version_minor": 0
      },
      "text/plain": [
       "  0%|          | 0/54 [00:00<?, ?it/s]"
      ]
     },
     "metadata": {},
     "output_type": "display_data"
    },
    {
     "name": "stdout",
     "output_type": "stream",
     "text": [
      "Eval loss: 1.242548222343127\n",
      "Eval Metrics: {'accuracy_score': 0.8917563781153223, 'precision': 0.620925341745531, 'recall': 0.5125868055555556, 'f1': 0.5615786970993819}\n",
      "DONE!\n"
     ]
    }
   ],
   "source": [
    "class NERTrainer:\n",
    "    def __init__(self, test_dataset_path):\n",
    "        self.cfg = Config()\n",
    "        self.data_reader = DataReader(\"Labeled_SemiLabeledData_G.txt\")\n",
    "        self.data, _, _ = self.data_reader.read_data_bert()\n",
    "        self.label_list = read_labels('NewEntities.txt')\n",
    "\n",
    "        self.label_map = get_label_map(self.label_list)\n",
    "        self.inv_label_map = get_inv_label_map(self.label_list)\n",
    "\n",
    "        # Load the test dataset\n",
    "        self.test_data_reader = DataReader(test_dataset_path)\n",
    "        self.test_data, _, _ = self.test_data_reader.read_data_bert()\n",
    "\n",
    "        self.TOKENIZER = AutoTokenizer.from_pretrained(self.cfg.MODEL_NAME)\n",
    "\n",
    "        self.train_dataset = NERDataset(\n",
    "            texts=[x[0] for x in self.data],\n",
    "            tags=[x[1] for x in self.data],\n",
    "            label_list=self.label_list,\n",
    "            model_name=self.cfg.MODEL_NAME,\n",
    "            max_length=self.cfg.MAX_LEN\n",
    "        )\n",
    "\n",
    "        self.test_dataset = NERDataset(\n",
    "            texts=[x[0] for x in self.test_data],\n",
    "            tags=[x[1] for x in self.test_data],\n",
    "            label_list=self.label_list,\n",
    "            model_name=self.cfg.MODEL_NAME,\n",
    "            max_length=self.cfg.MAX_LEN\n",
    "        )\n",
    "\n",
    "        self.train_data_loader = DataLoader(dataset=self.train_dataset, batch_size=self.cfg.TRAIN_BATCH_SIZE, shuffle=True)\n",
    "        self.test_data_loader = DataLoader(dataset=self.test_dataset, batch_size=self.cfg.VALID_BATCH_SIZE, shuffle=False)\n",
    "\n",
    "        self.model = BertForTokenClassification.from_pretrained(self.cfg.MODEL_NAME,\n",
    "                                                                return_dict=True,\n",
    "                                                                num_labels=len(self.label_map),\n",
    "                                                                output_attentions=False,\n",
    "                                                                output_hidden_states=False).to(self.cfg.device)\n",
    "\n",
    "        self.optimizer = AdamW(self.model.parameters(), lr=5e-5, correct_bias=False)\n",
    "        total_steps = len(self.train_data_loader) * self.cfg.EPOCHS\n",
    "\n",
    "        self.scheduler = get_linear_schedule_with_warmup(\n",
    "            self.optimizer,\n",
    "            num_warmup_steps=0,\n",
    "            num_training_steps=total_steps\n",
    "        )\n",
    "\n",
    "        self.best_eval_loss = float('inf')\n",
    "        self.best_model = None\n",
    "\n",
    "    def train_epoch(self):\n",
    "        self.model.train()\n",
    "        final_loss = 0\n",
    "\n",
    "        for data in tqdm(self.train_data_loader, total=len(self.train_data_loader)):\n",
    "            input_ids = data['input_ids'].to(self.cfg.device)\n",
    "            attention_mask = data['attention_mask'].to(self.cfg.device)\n",
    "            token_type_ids = data['token_type_ids'].to(self.cfg.device)\n",
    "            labels = data['labels'].to(self.cfg.device)\n",
    "\n",
    "            self.optimizer.zero_grad()\n",
    "            outputs = self.model(input_ids=input_ids,\n",
    "                                 token_type_ids=token_type_ids,\n",
    "                                 attention_mask=attention_mask,\n",
    "                                 labels=labels)\n",
    "\n",
    "            loss = outputs.loss\n",
    "            loss.backward()\n",
    "            nn.utils.clip_grad_norm_(self.model.parameters(), max_norm=1.0)\n",
    "            self.optimizer.step()\n",
    "            self.scheduler.step()\n",
    "            final_loss += loss.item()\n",
    "\n",
    "        loss = final_loss / len(self.train_data_loader)\n",
    "        print(f\"Train loss: {loss}\")\n",
    "\n",
    "        return loss\n",
    "\n",
    "    def eval_epoch(self):\n",
    "        self.model.eval()\n",
    "        final_loss = 0\n",
    "        all_labels = []\n",
    "        all_preds = []\n",
    "\n",
    "        with torch.no_grad():\n",
    "            for data in tqdm(self.test_data_loader, total=len(self.test_data_loader)):\n",
    "                input_ids = data['input_ids'].to(self.cfg.device)\n",
    "                attention_mask = data['attention_mask'].to(self.cfg.device)\n",
    "                token_type_ids = data['token_type_ids'].to(self.cfg.device)\n",
    "                labels = data['labels'].to(self.cfg.device)\n",
    "\n",
    "                outputs = self.model(input_ids=input_ids,\n",
    "                                     token_type_ids=token_type_ids,\n",
    "                                     attention_mask=attention_mask,\n",
    "                                     labels=labels)\n",
    "\n",
    "                loss = outputs.loss\n",
    "                final_loss += loss.item()\n",
    "\n",
    "                logits = outputs.logits.detach().cpu().numpy()\n",
    "                labels = labels.to('cpu').numpy()\n",
    "\n",
    "                all_preds.extend(logits)\n",
    "                all_labels.extend(labels)\n",
    "\n",
    "        all_preds = np.array(all_preds)\n",
    "        all_labels = np.asarray(all_labels)\n",
    "\n",
    "        metrics = compute_metrics(all_preds, all_labels, self.inv_label_map, False)\n",
    "        final_loss = final_loss / len(self.test_data_loader)\n",
    "\n",
    "        print(f\"Eval loss: {final_loss}\")\n",
    "        print(f\"Eval Metrics: {metrics}\")\n",
    "\n",
    "        return final_loss, metrics\n",
    "\n",
    "    def train(self):\n",
    "        for epoch in range(self.cfg.EPOCHS):\n",
    "            print(f\"Training Epoch: {epoch + 1}\")\n",
    "            self.train_epoch()\n",
    "\n",
    "            print(f\"Evaluating Epoch: {epoch + 1}\")\n",
    "            eval_loss, _ = self.eval_epoch()\n",
    "\n",
    "            if eval_loss < self.best_eval_loss:\n",
    "                self.best_eval_loss = eval_loss\n",
    "                self.best_model = self.model.state_dict()\n",
    "                torch.save(self.best_model, \"StudentG_Model.pt\")\n",
    "\n",
    "\n",
    "if __name__ == '__main__':\n",
    "    test_dataset_path = \"TestingData.txt\"\n",
    "    ner_trainer = NERTrainer(test_dataset_path)\n",
    "    ner_trainer.train()\n",
    "    print(\"DONE!\")"
   ]
  },
  {
   "cell_type": "code",
   "execution_count": 3,
   "id": "d26de805-a81f-45f6-b775-367d05d3065d",
   "metadata": {
    "tags": []
   },
   "outputs": [
    {
     "name": "stdout",
     "output_type": "stream",
     "text": [
      "DONE!\n"
     ]
    }
   ],
   "source": [
    "sentences = []\n",
    "labels = []\n",
    "\n",
    "curr_sentence = []\n",
    "curr_labels = []\n",
    "\n",
    "with open(\"TestingData.txt\", \"r\") as file:\n",
    "    for line in file:\n",
    "        if line != \"\\n\":\n",
    "            label = line.split()[0]\n",
    "            word = line.split()[1]\n",
    "            \n",
    "            curr_sentence.append(word)\n",
    "            curr_labels.append(label)\n",
    "        else:\n",
    "            sentences.append(curr_sentence)\n",
    "            labels.append(curr_labels)\n",
    "            curr_sentence = []\n",
    "            curr_labels = []\n",
    "            \n",
    "print(\"DONE!\")           "
   ]
  },
  {
   "cell_type": "code",
   "execution_count": 4,
   "id": "39dd8a1b-81bf-4417-a309-23be669eb50a",
   "metadata": {
    "tags": []
   },
   "outputs": [
    {
     "name": "stderr",
     "output_type": "stream",
     "text": [
      "Some weights of BertForTokenClassification were not initialized from the model checkpoint at aubmindlab/bert-base-arabertv02 and are newly initialized: ['classifier.bias', 'classifier.weight']\n",
      "You should probably TRAIN this model on a down-stream task to be able to use it for predictions and inference.\n"
     ]
    },
    {
     "name": "stdout",
     "output_type": "stream",
     "text": [
      "0.0 %\n",
      "11.68 %\n",
      "23.36 %\n",
      "35.05 %\n",
      "46.73 %\n",
      "58.41 %\n",
      "70.09 %\n",
      "81.78 %\n",
      "93.46 %\n",
      "100 %\n"
     ]
    }
   ],
   "source": [
    "class NERPredictor:\n",
    "    def __init__(self, model_path: str):\n",
    "        self.cfg = Config() # Initialize and load configuration settings from the Config class.\n",
    "        \n",
    "        # Read the label list from the specified file path.\n",
    "        self.label_list = read_labels('NewEntities.txt')\n",
    "        # Create mappings from labels to indices and vice versa.\n",
    "        self.label_map = get_label_map(self.label_list)\n",
    "        self.inv_label_map = get_inv_label_map(self.label_list)\n",
    "\n",
    "        # Load the pre-trained BERT model for token classification.\n",
    "        self.model = BertForTokenClassification.from_pretrained(\n",
    "            self.cfg.MODEL_NAME,\n",
    "            return_dict=True,\n",
    "            num_labels=len(self.label_map),\n",
    "            output_attentions=False,\n",
    "            output_hidden_states=False\n",
    "        )\n",
    "\n",
    "        # Load the saved model weights.\n",
    "        self.model.load_state_dict(torch.load(model_path, map_location='cpu'))\n",
    "        # Load the tokenizer associated with the pre-trained BERT model.\n",
    "        self.tokenizer = AutoTokenizer.from_pretrained(self.cfg.MODEL_NAME)\n",
    "\n",
    "    def predict(self, sentences: str) -> List[str]:\n",
    "        \n",
    "        foundDecimal = False\n",
    "        \n",
    "        # Tokenize the input sentence to get input IDs.\n",
    "        input_ids = self.tokenizer.encode(sentences, return_tensors='pt')\n",
    "        # print(len(input_ids[0]), input_ids)\n",
    "        with torch.no_grad(): # Disable gradient calculations for inference.\n",
    "            self.model.to('cpu') # Ensure the model is on CPU for inference.\n",
    "            # Get model predictions for the input IDs.\n",
    "            output = self.model(input_ids)\n",
    "\n",
    "        # Convert model logits to label indices.\n",
    "        label_indices = np.argmax(output.logits.to('cpu').numpy(), axis=2)\n",
    "        # Convert input IDs back to tokens.\n",
    "        tokens = self.tokenizer.convert_ids_to_tokens(input_ids.to('cpu').numpy()[0])\n",
    "\n",
    "        new_tokens, new_labels = [], []\n",
    "\n",
    "        label_indices_0 = label_indices[0]\n",
    "        for i in range(len(tokens)):\n",
    "            token = tokens[i]\n",
    "            label_idx = label_indices_0[i]\n",
    "            # Merge subword tokens that start with \"##\".\n",
    "            # print(token, label_idx, \"DEBUG\", i)\n",
    "            \n",
    "            if foundDecimal:\n",
    "                # print(\"__________foundDecimal__________\")\n",
    "                token = \"##\" + tokens[i]\n",
    "                foundDecimal = False\n",
    "            if token.startswith(\".\") and tokens[i-1][-1].isdigit() and i != len(tokens)-2:\n",
    "                # print(\"__________foundDecimal__________\")\n",
    "                foundDecimal = True\n",
    "                token = \"##\" + tokens[i]\n",
    "                \n",
    "            if token == \"%\" or token == \"٪\" and i != 1:\n",
    "                # print(\"________foundPercentage_________\")\n",
    "                token = \"##\" + tokens[i]\n",
    "                \n",
    "            if (token == \"٬\" or token == \"٫\") and (any(char.isdigit() for char in prev_token) and any(char.isdigit() for char in tokens[i+1])):\n",
    "                # print(\"___________foundComma___________\")\n",
    "                token = \"##\" + tokens[i]\n",
    "                foundDecimal = True\n",
    "                            \n",
    "            if token.startswith(\"##\") :\n",
    "                # print(\"_____________MERGE_______________\")\n",
    "                new_tokens[-1] = new_tokens[-1] + token[2:]\n",
    "            else:\n",
    "                if input_ids[0][i] == 2 or input_ids[0][i] == 3:\n",
    "                    continue\n",
    "                # Append the label for the token to new_labels.\n",
    "                new_labels.append(self.inv_label_map[label_idx])\n",
    "                # Append the token to new_tokens.\n",
    "                new_tokens.append(token)\n",
    "                \n",
    "            prev_token = token\n",
    "            \n",
    "        # Return the list of labels corresponding to each token in the input.\n",
    "        return new_labels\n",
    "    \n",
    "if __name__ == '__main__':\n",
    "    predictor = NERPredictor(model_path='StudentG_Model.pt')\n",
    "\n",
    "#     index = 320\n",
    "    \n",
    "#     predicted_labels = predictor.predict(' '.join(testSentences[index]))\n",
    "#     print()\n",
    "#     print(predicted_labels)\n",
    "#     for token, label in zip(testSentences[index], predicted_labels):\n",
    "#         print(label, token)\n",
    "        \n",
    "        \n",
    "#     for i in range(0, len(testSentences[index])):\n",
    "#         print(testSentences[index][i], predicted_labels[i])\n",
    "        \n",
    "#     for i in range(len(testSentences[index]), len(predicted_labels)):\n",
    "#         print(predicted_labels[i])\n",
    "        \n",
    "#     print(len(predicted_labels))\n",
    "\n",
    "    labelsPredictedArray = []\n",
    "    for i in range(0, len(sentences)):\n",
    "        predicted_labels = predictor.predict(' '.join(sentences[i]))\n",
    "        labelsPredictedArray.append(predicted_labels)\n",
    "        if i % 100 == 0:\n",
    "            print(round((i/len(sentences)) * 100, 2), \"%\")\n",
    "        \n",
    "    print(\"100 %\")\n"
   ]
  },
  {
   "cell_type": "code",
   "execution_count": 5,
   "id": "4af83124-8c6e-42c0-baff-d9bd604f29d5",
   "metadata": {
    "tags": []
   },
   "outputs": [
    {
     "name": "stdout",
     "output_type": "stream",
     "text": [
      "Accuracy: 0.8965045521015143\n"
     ]
    },
    {
     "name": "stderr",
     "output_type": "stream",
     "text": [
      "/home/mke37/.local/lib/python3.10/site-packages/sklearn/metrics/_classification.py:1344: UndefinedMetricWarning: Precision is ill-defined and being set to 0.0 in labels with no predicted samples. Use `zero_division` parameter to control this behavior.\n",
      "  _warn_prf(average, modifier, msg_start, len(result))\n",
      "/home/mke37/.local/lib/python3.10/site-packages/sklearn/metrics/_classification.py:1344: UndefinedMetricWarning: Recall is ill-defined and being set to 0.0 in labels with no true samples. Use `zero_division` parameter to control this behavior.\n",
      "  _warn_prf(average, modifier, msg_start, len(result))\n"
     ]
    },
    {
     "name": "stdout",
     "output_type": "stream",
     "text": [
      "Precision: 0.8878726545719696\n",
      "Recall: 0.8965045521015143\n",
      "F1 Score: 0.8813827859215332\n"
     ]
    },
    {
     "name": "stderr",
     "output_type": "stream",
     "text": [
      "/home/mke37/.local/lib/python3.10/site-packages/sklearn/metrics/_classification.py:1344: UndefinedMetricWarning: Precision and F-score are ill-defined and being set to 0.0 in labels with no predicted samples. Use `zero_division` parameter to control this behavior.\n",
      "  _warn_prf(average, modifier, msg_start, len(result))\n",
      "/home/mke37/.local/lib/python3.10/site-packages/sklearn/metrics/_classification.py:1344: UndefinedMetricWarning: Recall and F-score are ill-defined and being set to 0.0 in labels with no true samples. Use `zero_division` parameter to control this behavior.\n",
      "  _warn_prf(average, modifier, msg_start, len(result))\n",
      "/home/mke37/.local/lib/python3.10/site-packages/sklearn/metrics/_classification.py:1344: UndefinedMetricWarning: Precision and F-score are ill-defined and being set to 0.0 in labels with no predicted samples. Use `zero_division` parameter to control this behavior.\n",
      "  _warn_prf(average, modifier, msg_start, len(result))\n",
      "/home/mke37/.local/lib/python3.10/site-packages/sklearn/metrics/_classification.py:1344: UndefinedMetricWarning: Recall and F-score are ill-defined and being set to 0.0 in labels with no true samples. Use `zero_division` parameter to control this behavior.\n",
      "  _warn_prf(average, modifier, msg_start, len(result))\n"
     ]
    },
    {
     "name": "stdout",
     "output_type": "stream",
     "text": [
      "                           precision    recall  f1-score   support\n",
      "\n",
      "                  B-Actor       0.00      0.00      0.00         2\n",
      "                B-Airline       1.00      0.40      0.57         5\n",
      "               B-Airplane       0.53      0.44      0.48        18\n",
      "                B-Airport       1.00      1.00      1.00         4\n",
      "              B-Algorithm       0.00      0.00      0.00         6\n",
      "                 B-Animal       0.83      0.48      0.61       130\n",
      "              B-Architect       0.00      0.00      0.00         2\n",
      "                 B-Artist       0.61      0.79      0.69        14\n",
      "                 B-Attack       1.00      0.14      0.25         7\n",
      "                 B-Author       0.82      0.36      0.50        25\n",
      "                  B-Award       0.94      0.94      0.94        17\n",
      "       B-Biological_Thing       0.00      0.00      0.00        47\n",
      "          B-Body_Of_Water       0.90      0.61      0.73        57\n",
      "              B-Body_Part       0.87      0.24      0.38        54\n",
      "      B-Broadcast_Network       0.00      0.00      0.00         1\n",
      "      B-Broadcast_Program       0.00      0.00      0.00         1\n",
      "                    B-Car       0.00      0.00      0.00         0\n",
      "         B-Chemical_Thing       0.68      0.64      0.66       241\n",
      "                   B-City       0.74      0.61      0.67       109\n",
      "                  B-Color       0.30      0.84      0.44        19\n",
      "                B-Company       0.63      0.62      0.63        64\n",
      "               B-Computer       0.58      0.76      0.66        38\n",
      "                B-Country       0.88      0.95      0.91       246\n",
      "                 B-County       0.00      0.00      0.00         3\n",
      "               B-Currency       0.76      0.84      0.80        19\n",
      "                   B-Date       0.71      0.75      0.73       239\n",
      "               B-Director       0.14      1.00      0.25         1\n",
      "                B-Disease       0.00      0.00      0.00         0\n",
      "                 B-Doctor       1.00      0.67      0.80         3\n",
      "                   B-Drug       0.00      0.00      0.00         9\n",
      "     B-Educational_Degree       0.17      0.50      0.25         2\n",
      " B-Educational_Department       0.00      0.00      0.00         5\n",
      "B-Educational_Institution       0.80      0.50      0.62         8\n",
      "               B-Election       0.50      0.20      0.29         5\n",
      "                 B-Engine       0.38      0.75      0.50         4\n",
      "               B-Engineer       0.00      0.00      0.00         1\n",
      "              B-Ethnicity       0.30      0.73      0.42        15\n",
      "                   B-Film       0.50      1.00      0.67         1\n",
      "                   B-Food       0.56      0.17      0.26        29\n",
      "                   B-Game       0.50      0.17      0.25        12\n",
      "                B-Glacier       0.00      0.00      0.00         4\n",
      "                    B-God       1.00      1.00      1.00         6\n",
      "             B-Government       0.00      0.00      0.00        21\n",
      "      B-Government_Agency       0.67      0.31      0.42        13\n",
      "             B-Instrument       0.75      0.14      0.23        65\n",
      "                 B-Island       0.80      0.31      0.44        13\n",
      "               B-Language       0.80      0.88      0.84        69\n",
      "                    B-Law       0.72      1.00      0.84        13\n",
      "           B-Living_Thing       0.75      0.35      0.48        51\n",
      "               B-Military       1.00      0.64      0.78        11\n",
      "      B-Military_Conflict       0.88      0.78      0.82        27\n",
      "           B-Mobile_Phone       1.00      0.40      0.57         5\n",
      "                B-Monarch       0.50      0.14      0.22         7\n",
      "               B-Mountain       0.80      0.57      0.67         7\n",
      "                  B-Music       0.50      0.50      0.50        16\n",
      "               B-Musician       1.00      0.12      0.22        16\n",
      "            B-Nationality       0.76      0.85      0.81       136\n",
      "       B-Natural_Disaster       0.00      0.00      0.00         1\n",
      "              B-Newspaper       1.00      1.00      1.00         1\n",
      "                   B-Park       0.00      0.00      0.00         0\n",
      "                   B-Play       0.00      0.00      0.00         5\n",
      "        B-Political_Party       0.27      0.20      0.23        20\n",
      "             B-Politician       0.95      0.71      0.82        56\n",
      "          B-Power_Station       0.40      0.50      0.44         4\n",
      "   B-Programming_Language       0.00      0.00      0.00         5\n",
      "                B-Protest       1.00      0.50      0.67         2\n",
      "               B-Province       0.00      0.00      0.00         2\n",
      "                B-Railway       0.00      0.00      0.00         2\n",
      "               B-Religion       0.68      0.90      0.78        31\n",
      "       B-Religious_Leader       1.00      0.33      0.50         9\n",
      "             B-Restaurant       1.00      0.75      0.86         4\n",
      "                   B-Ship       0.62      0.38      0.48        13\n",
      "               B-Software       1.00      0.38      0.55         8\n",
      "                B-Soldier       0.00      0.00      0.00         1\n",
      "           B-Sports_Event       0.00      0.00      0.00         0\n",
      "        B-Sports_Facility       0.00      0.00      0.00         1\n",
      "          B-Sports_League       0.00      0.00      0.00         0\n",
      "       B-Terrorist_Attack       0.00      0.00      0.00         2\n",
      "                B-Theater       0.00      0.00      0.00        22\n",
      "                   B-Time       0.87      0.13      0.22       103\n",
      "                  B-Title       0.00      0.00      0.00        29\n",
      "                  B-Train       0.00      0.00      0.00         1\n",
      "                 B-Weapon       0.88      0.47      0.61        15\n",
      "                B-Website       0.50      0.33      0.40         3\n",
      "           B-Written_Work       0.50      0.10      0.16        21\n",
      "                I-Airline       0.00      0.00      0.00        10\n",
      "               I-Airplane       0.83      0.56      0.67         9\n",
      "                I-Airport       1.00      0.75      0.86        12\n",
      "              I-Algorithm       0.00      0.00      0.00         2\n",
      "                 I-Animal       0.49      0.56      0.52        32\n",
      "              I-Architect       0.00      0.00      0.00         1\n",
      "                 I-Artist       0.74      0.94      0.83        18\n",
      "                 I-Attack       0.67      0.33      0.44         6\n",
      "                 I-Author       0.90      0.60      0.72        15\n",
      "                  I-Award       0.76      0.62      0.68        21\n",
      "       I-Biological_Thing       1.00      0.13      0.23        47\n",
      "          I-Body_Of_Water       0.91      0.82      0.86        39\n",
      "              I-Body_Part       0.00      0.00      0.00         5\n",
      "      I-Broadcast_Network       0.00      0.00      0.00         1\n",
      "      I-Broadcast_Program       0.00      0.00      0.00         2\n",
      "         I-Chemical_Thing       0.82      0.64      0.72       107\n",
      "                   I-City       0.60      0.33      0.43         9\n",
      "                  I-Color       0.00      0.00      0.00         1\n",
      "                I-Company       0.90      0.53      0.67        49\n",
      "               I-Computer       0.80      0.33      0.47        36\n",
      "                I-Country       0.79      0.72      0.76        69\n",
      "                 I-County       0.00      0.00      0.00         1\n",
      "               I-Currency       0.67      0.71      0.69        14\n",
      "                   I-Date       0.78      0.78      0.78       237\n",
      "               I-Director       0.20      1.00      0.33         1\n",
      "                 I-Doctor       1.00      1.00      1.00         1\n",
      "                   I-Drug       0.00      0.00      0.00         2\n",
      "     I-Educational_Degree       0.00      0.00      0.00         0\n",
      " I-Educational_Department       0.00      0.00      0.00         2\n",
      "I-Educational_Institution       0.86      0.50      0.63        12\n",
      "               I-Election       0.50      0.20      0.29         5\n",
      "                 I-Engine       0.50      1.00      0.67         1\n",
      "               I-Engineer       0.00      0.00      0.00         1\n",
      "              I-Ethnicity       1.00      1.00      1.00         1\n",
      "                   I-Film       0.50      1.00      0.67         2\n",
      "                   I-Food       1.00      0.06      0.12        16\n",
      "                   I-Game       0.00      0.00      0.00         2\n",
      "                I-Glacier       0.00      0.00      0.00         4\n",
      "             I-Government       0.00      0.00      0.00        13\n",
      "      I-Government_Agency       0.67      0.19      0.30        21\n",
      "             I-Instrument       0.67      0.17      0.27        47\n",
      "                 I-Island       1.00      0.33      0.50         6\n",
      "               I-Language       0.67      0.50      0.57         8\n",
      "                    I-Law       1.00      0.91      0.95        11\n",
      "           I-Living_Thing       0.00      0.00      0.00        12\n",
      "               I-Military       1.00      0.43      0.60        14\n",
      "      I-Military_Conflict       0.87      0.70      0.78        37\n",
      "           I-Mobile_Phone       0.00      0.00      0.00         4\n",
      "                I-Monarch       1.00      0.20      0.33         5\n",
      "               I-Mountain       1.00      0.40      0.57         5\n",
      "                  I-Music       0.64      0.70      0.67        30\n",
      "               I-Musician       1.00      1.00      1.00         2\n",
      "              I-Newspaper       1.00      1.00      1.00         1\n",
      "                   I-Play       0.00      0.00      0.00         7\n",
      "        I-Political_Party       0.30      0.26      0.28        27\n",
      "             I-Politician       0.92      0.60      0.73        40\n",
      "          I-Power_Station       0.25      0.09      0.13        11\n",
      "   I-Programming_Language       0.00      0.00      0.00         1\n",
      "                I-Protest       0.00      0.00      0.00         2\n",
      "               I-Province       0.00      0.00      0.00         2\n",
      "                I-Railway       0.00      0.00      0.00         6\n",
      "               I-Religion       0.00      0.00      0.00         2\n",
      "       I-Religious_Leader       0.00      0.00      0.00         1\n",
      "                   I-Ship       0.00      0.00      0.00         5\n",
      "               I-Software       1.00      0.40      0.57         5\n",
      "                I-Soldier       0.00      0.00      0.00         1\n",
      "           I-Sports_Event       0.00      0.00      0.00         0\n",
      "        I-Sports_Facility       0.00      0.00      0.00         2\n",
      "          I-Sports_League       0.00      0.00      0.00         0\n",
      "                I-Theater       0.00      0.00      0.00        10\n",
      "                   I-Time       0.86      0.06      0.12       185\n",
      "                  I-Title       0.00      0.00      0.00         6\n",
      "                 I-Weapon       0.57      0.67      0.62         6\n",
      "                I-Website       0.00      0.00      0.00         1\n",
      "           I-Written_Work       1.00      0.32      0.49        37\n",
      "                  OUTSIDE       0.92      0.97      0.95     17529\n",
      "\n",
      "                 accuracy                           0.90     21199\n",
      "                macro avg       0.47      0.35      0.37     21199\n",
      "             weighted avg       0.89      0.90      0.88     21199\n",
      "\n"
     ]
    },
    {
     "name": "stderr",
     "output_type": "stream",
     "text": [
      "/home/mke37/.local/lib/python3.10/site-packages/sklearn/metrics/_classification.py:1344: UndefinedMetricWarning: Precision and F-score are ill-defined and being set to 0.0 in labels with no predicted samples. Use `zero_division` parameter to control this behavior.\n",
      "  _warn_prf(average, modifier, msg_start, len(result))\n",
      "/home/mke37/.local/lib/python3.10/site-packages/sklearn/metrics/_classification.py:1344: UndefinedMetricWarning: Recall and F-score are ill-defined and being set to 0.0 in labels with no true samples. Use `zero_division` parameter to control this behavior.\n",
      "  _warn_prf(average, modifier, msg_start, len(result))\n"
     ]
    }
   ],
   "source": [
    "from sklearn.metrics import accuracy_score, precision_score, recall_score, f1_score, classification_report\n",
    "\n",
    "# Assuming you have your true labels and predicted labels in the following lists\n",
    "y_true = [true_label for sublist in labels for true_label in sublist]  # Flatten your nested true labels list\n",
    "y_pred = [pred_label for sublist in labelsPredictedArray for pred_label in sublist]  # Flatten your nested predicted labels list\n",
    "\n",
    "# Calculate the accuracy\n",
    "accuracy = accuracy_score(y_true, y_pred)\n",
    "print(f'Accuracy: {accuracy}')\n",
    "\n",
    "# Calculate precision, recall, and F1 score\n",
    "precision = precision_score(y_true, y_pred, average='weighted')\n",
    "recall = recall_score(y_true, y_pred, average='weighted')\n",
    "f1 = f1_score(y_true, y_pred, average='weighted')\n",
    "\n",
    "print(f'Precision: {precision}')\n",
    "print(f'Recall: {recall}')\n",
    "print(f'F1 Score: {f1}')\n",
    "\n",
    "# Print a full classification report\n",
    "print(classification_report(y_true, y_pred))\n"
   ]
  },
  {
   "cell_type": "code",
   "execution_count": 6,
   "id": "9c101f31-fb13-49c5-a249-18d846a48626",
   "metadata": {
    "tags": []
   },
   "outputs": [
    {
     "name": "stdout",
     "output_type": "stream",
     "text": [
      "21199 21199\n",
      "21199 21199\n",
      "              precision    recall  f1-score   support\n",
      "\n",
      "         Art       0.74      0.45      0.56       121\n",
      "    Building       0.76      0.27      0.40        70\n",
      "        Date       0.84      0.87      0.86       476\n",
      "       Event       0.85      0.60      0.70        94\n",
      "    Location       0.88      0.84      0.86       584\n",
      " Nationality       0.76      0.85      0.81       136\n",
      "     OUTSIDE       0.92      0.97      0.95     17529\n",
      "Organization       0.75      0.43      0.55       295\n",
      "       Other       0.75      0.46      0.57      1377\n",
      "      Person       0.66      0.58      0.62       223\n",
      "     Product       0.80      0.43      0.56       294\n",
      "\n",
      "    accuracy                           0.91     21199\n",
      "   macro avg       0.79      0.61      0.67     21199\n",
      "weighted avg       0.90      0.91      0.90     21199\n",
      "\n",
      "DONE\n"
     ]
    }
   ],
   "source": [
    "def trimLabels(labels):\n",
    "    \n",
    "    new_labels = []\n",
    "\n",
    "    for i in range(0, len(labels)):\n",
    "        lbl = labels[i]\n",
    "\n",
    "        if lbl != \"OUTSIDE\":\n",
    "            if lbl[2:] == \"Actor\" or lbl[2:] == \"Architect\" or lbl[2:] == \"Artist\" or lbl[2:] == \"Athlete\" or lbl[2:] == \"Author\" or lbl[2:] == \"Coach\" or lbl[2:] == \"Director\" or lbl[2:] == \"Doctor\" or lbl[2:] == \"Engineer\" or lbl[2:] == \"Monarch\" or lbl[2:] == \"Musician\" or lbl[2:] == \"Politician\" or lbl[2:] == \"Religious_Leader\" or lbl[2:] == \"Soldier\" or lbl[2:] == \"Terrorist\":\n",
    "                new_labels.append(\"Person\")\n",
    "            elif lbl[2:] == \"City\" or lbl[2:] == \"Country\" or lbl[2:] == \"County\" or lbl[2:] == \"Province\" or lbl[2:] == \"Railway\" or lbl[2:] == \"Road\" or lbl[2:] == \"Bridge\" or lbl[2:] == \"Body_Of_Water\" or lbl[2:] == \"Island\" or lbl[2:] == \"Mountain\" or lbl[2:] == \"Glacier\" or lbl[2:] == \"Astral_Body\" or lbl[2:] == \"Cemetery\" or lbl[2:] == \"Park\":\n",
    "                new_labels.append(\"Location\")\n",
    "            elif lbl[2:] == \"Airport\" or lbl[2:] == \"Dam\" or lbl[2:] == \"Hospital\" or lbl[2:] == \"Hotel\" or lbl[2:] == \"Library\" or lbl[2:] == \"Power_Station\" or lbl[2:] == \"Restaurant\" or lbl[2:] == \"Sports_Facility\" or lbl[2:] == \"Theater\":\n",
    "                new_labels.append(\"Building\")\n",
    "            elif lbl[2:] == \"Airline\" or lbl[2:] == \"Company\" or lbl[2:] == \"Educational_Institution\" or lbl[2:] == \"Sports_League\" or lbl[2:] == \"Sports_Team\" or lbl[2:] == \"Terrorist_Organization\" or lbl[2:] == \"Government_Agency\" or lbl[2:] == \"Government\" or lbl[2:] == \"Political_Party\" or lbl[2:] == \"Educational_Department\" or lbl[2:] == \"Military\" or lbl[2:] == \"News_Agency\":\n",
    "                new_labels.append(\"Organization\")\n",
    "            elif lbl[2:] == \"Engine\" or lbl[2:] == \"Airplane\" or lbl[2:] == \"Car\" or lbl[2:] == \"Ship\" or lbl[2:] == \"Spacecraft\" or lbl[2:] == \"Train\" or lbl[2:] == \"Camera\" or lbl[2:] == \"Mobile_Phone\" or lbl[2:] == \"Computer\" or lbl[2:] == \"Software\" or lbl[2:] == \"Game\" or lbl[2:] == \"Instrument\" or lbl[2:] == \"Weapon\":\n",
    "                new_labels.append(\"Product\")\n",
    "            elif lbl[2:] == \"Film\" or lbl[2:] == \"Play\" or lbl[2:] == \"Written_Work\" or lbl[2:] == \"Newspaper\" or lbl[2:] == \"Music\":\n",
    "                new_labels.append(\"Art\")\n",
    "            elif lbl[2:] == \"Attack\" or lbl[2:] == \"Election\" or lbl[2:] == \"Protest\" or lbl[2:] == \"Military_Conflict\" or lbl[2:] == \"Natural_Disaster\" or lbl[2:] == \"Sports_Event\" or lbl[2:] == \"Terrorist_Attack\":\n",
    "                new_labels.append(\"Event\")\n",
    "            elif lbl[2:] == \"Time\" or lbl[2:] == \"Color\" or lbl[2:] == \"Award\" or lbl[2:] == \"Educational_Degree\" or lbl[2:] == \"Title\" or lbl[2:] == \"Law\" or lbl[2:] == \"Ethnicity\" or lbl[2:] == \"Language\" or lbl[2:] == \"Religion\" or lbl[2:] == \"God\" or lbl[2:] == \"Chemical_Thing\" or lbl[2:] == \"Biological_Thing\" or lbl[2:] == \"Medical_Treatment\" or lbl[2:] == \"Disease\" or lbl[2:] == \"Symptom\" or lbl[2:] == \"Drug\" or lbl[2:] == \"Body_Part\" or lbl[2:] == \"Living_Thing\" or lbl[2:] == \"Animal\" or lbl[2:] == \"Food\" or lbl[2:] == \"Website\" or lbl[2:] == \"Broadcast_Network\" or lbl[2:] == \"Broadcast_Program\" or lbl[2:] == \"Tv_Channel\" or lbl[2:] == \"Currency\" or lbl[2:] == \"Stock_Exchange\" or lbl[2:] == \"Algorithm\" or lbl[2:] == \"Programming_Language\" or lbl[2:] == \"Transit_System\" or lbl[2:] == \"Transit_Line\":\n",
    "                new_labels.append(\"Other\")\n",
    "            elif lbl[2:] == \"Date\":\n",
    "                new_labels.append(\"Date\")\n",
    "            elif lbl[2:] == \"Nationality\":\n",
    "                new_labels.append(\"Nationality\")\n",
    "        else:\n",
    "            new_labels.append(\"OUTSIDE\")\n",
    "            \n",
    "    return new_labels\n",
    "\n",
    "new_actual_labels = trimLabels(y_true)\n",
    "new_predicted_labels = trimLabels(y_pred)\n",
    "\n",
    "print(len(y_true), len(new_actual_labels))\n",
    "print(len(y_pred), len(new_predicted_labels))\n",
    "print(classification_report(new_actual_labels, new_predicted_labels))\n",
    "            \n",
    "print(\"DONE\")"
   ]
  },
  {
   "cell_type": "code",
   "execution_count": 7,
   "id": "3f847abc-4d5b-45e2-a32b-225197289bcd",
   "metadata": {
    "tags": []
   },
   "outputs": [
    {
     "data": {
      "image/png": "[encoded data removed]",
      "text/plain": [
       "<Figure size 1000x700 with 1 Axes>"
      ]
     },
     "metadata": {},
     "output_type": "display_data"
    }
   ],
   "source": [
    "import matplotlib.pyplot as plt\n",
    "import seaborn as sns\n",
    "from sklearn.metrics import confusion_matrix\n",
    "\n",
    "# Compute the confusion matrix\n",
    "cm = confusion_matrix(new_actual_labels, new_predicted_labels)\n",
    "\n",
    "# Plot the confusion matrix\n",
    "plt.figure(figsize=(10, 7))\n",
    "sns.heatmap(cm, annot=True, fmt='d', cmap='Blues', cbar=False)\n",
    "plt.xlabel('Predicted Labels')\n",
    "plt.ylabel('Actual Labels')\n",
    "plt.title('Confusion Matrix')\n",
    "plt.show()\n"
   ]
  },
  {
   "cell_type": "code",
   "execution_count": 7,
   "id": "3a31ad65-0eec-4892-afd5-eb610cdbfb1d",
   "metadata": {
    "tags": []
   },
   "outputs": [],
   "source": [
    "import dill\n",
    "dill.dump_session('StudentCompleted_G.db')"
   ]
  }
 ],
 "metadata": {
  "kernelspec": {
   "display_name": "Python 3 (ipykernel)",
   "language": "python",
   "name": "python3"
  },
  "language_info": {
   "codemirror_mode": {
    "name": "ipython",
    "version": 3
   },
   "file_extension": ".py",
   "mimetype": "text/x-python",
   "name": "python",
   "nbconvert_exporter": "python",
   "pygments_lexer": "ipython3",
   "version": "3.10.13"
  }
 },
 "nbformat": 4,
 "nbformat_minor": 5
}
